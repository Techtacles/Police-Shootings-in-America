{
 "cells": [
  {
   "cell_type": "markdown",
   "metadata": {},
   "source": [
    "### AIMS AND OBJECTIVES"
   ]
  },
  {
   "cell_type": "markdown",
   "metadata": {},
   "source": [
    "Here, we wish to analyse people killed by police officers in the United States of America from 2015-2020."
   ]
  },
  {
   "cell_type": "markdown",
   "metadata": {},
   "source": [
    "### DATA DESCRIPTION"
   ]
  },
  {
   "cell_type": "markdown",
   "metadata": {},
   "source": [
    "Name:victims name\n",
    "<br>Date:Date the event occured\n",
    "<br>Manner of death:How the victim was killed\n",
    "<br>Armed:Whether or not the victim was armed\n",
    "<br>Age:Age of the victim\n",
    "<br>Gender:Gender of the victim\n",
    "<br>Race:Race of the victim\n",
    "<br>City:The city where the victim was killed\n",
    "<br>State:State \n",
    "<br>Signs of mental illness: Whether or not the victim had any signs of mental illness\n",
    "<br>Threat level:Whether or not the police was of any threat from the victim\n",
    "<br>Flee:Whether or not the victim was fleeing\n",
    "<br>Body camera: If the event was caught on body cam or not"
   ]
  },
  {
   "cell_type": "code",
   "execution_count": 3,
   "metadata": {},
   "outputs": [],
   "source": [
    "#import the libraries\n",
    "import numpy as np\n",
    "import pandas as pd\n",
    "import matplotlib.pyplot as plt\n",
    "import seaborn as sns"
   ]
  },
  {
   "cell_type": "code",
   "execution_count": 4,
   "metadata": {},
   "outputs": [
    {
     "data": {
      "text/html": [
       "<div>\n",
       "<style scoped>\n",
       "    .dataframe tbody tr th:only-of-type {\n",
       "        vertical-align: middle;\n",
       "    }\n",
       "\n",
       "    .dataframe tbody tr th {\n",
       "        vertical-align: top;\n",
       "    }\n",
       "\n",
       "    .dataframe thead th {\n",
       "        text-align: right;\n",
       "    }\n",
       "</style>\n",
       "<table border=\"1\" class=\"dataframe\">\n",
       "  <thead>\n",
       "    <tr style=\"text-align: right;\">\n",
       "      <th></th>\n",
       "      <th>id</th>\n",
       "      <th>name</th>\n",
       "      <th>date</th>\n",
       "      <th>manner_of_death</th>\n",
       "      <th>armed</th>\n",
       "      <th>age</th>\n",
       "      <th>gender</th>\n",
       "      <th>race</th>\n",
       "      <th>city</th>\n",
       "      <th>state</th>\n",
       "      <th>signs_of_mental_illness</th>\n",
       "      <th>threat_level</th>\n",
       "      <th>flee</th>\n",
       "      <th>body_camera</th>\n",
       "      <th>arms_category</th>\n",
       "    </tr>\n",
       "  </thead>\n",
       "  <tbody>\n",
       "    <tr>\n",
       "      <th>0</th>\n",
       "      <td>3</td>\n",
       "      <td>Tim Elliot</td>\n",
       "      <td>2015-01-02</td>\n",
       "      <td>shot</td>\n",
       "      <td>gun</td>\n",
       "      <td>53.0</td>\n",
       "      <td>M</td>\n",
       "      <td>Asian</td>\n",
       "      <td>Shelton</td>\n",
       "      <td>WA</td>\n",
       "      <td>True</td>\n",
       "      <td>attack</td>\n",
       "      <td>Not fleeing</td>\n",
       "      <td>False</td>\n",
       "      <td>Guns</td>\n",
       "    </tr>\n",
       "    <tr>\n",
       "      <th>1</th>\n",
       "      <td>4</td>\n",
       "      <td>Lewis Lee Lembke</td>\n",
       "      <td>2015-01-02</td>\n",
       "      <td>shot</td>\n",
       "      <td>gun</td>\n",
       "      <td>47.0</td>\n",
       "      <td>M</td>\n",
       "      <td>White</td>\n",
       "      <td>Aloha</td>\n",
       "      <td>OR</td>\n",
       "      <td>False</td>\n",
       "      <td>attack</td>\n",
       "      <td>Not fleeing</td>\n",
       "      <td>False</td>\n",
       "      <td>Guns</td>\n",
       "    </tr>\n",
       "    <tr>\n",
       "      <th>2</th>\n",
       "      <td>5</td>\n",
       "      <td>John Paul Quintero</td>\n",
       "      <td>2015-01-03</td>\n",
       "      <td>shot and Tasered</td>\n",
       "      <td>unarmed</td>\n",
       "      <td>23.0</td>\n",
       "      <td>M</td>\n",
       "      <td>Hispanic</td>\n",
       "      <td>Wichita</td>\n",
       "      <td>KS</td>\n",
       "      <td>False</td>\n",
       "      <td>other</td>\n",
       "      <td>Not fleeing</td>\n",
       "      <td>False</td>\n",
       "      <td>Unarmed</td>\n",
       "    </tr>\n",
       "    <tr>\n",
       "      <th>3</th>\n",
       "      <td>8</td>\n",
       "      <td>Matthew Hoffman</td>\n",
       "      <td>2015-01-04</td>\n",
       "      <td>shot</td>\n",
       "      <td>toy weapon</td>\n",
       "      <td>32.0</td>\n",
       "      <td>M</td>\n",
       "      <td>White</td>\n",
       "      <td>San Francisco</td>\n",
       "      <td>CA</td>\n",
       "      <td>True</td>\n",
       "      <td>attack</td>\n",
       "      <td>Not fleeing</td>\n",
       "      <td>False</td>\n",
       "      <td>Other unusual objects</td>\n",
       "    </tr>\n",
       "    <tr>\n",
       "      <th>4</th>\n",
       "      <td>9</td>\n",
       "      <td>Michael Rodriguez</td>\n",
       "      <td>2015-01-04</td>\n",
       "      <td>shot</td>\n",
       "      <td>nail gun</td>\n",
       "      <td>39.0</td>\n",
       "      <td>M</td>\n",
       "      <td>Hispanic</td>\n",
       "      <td>Evans</td>\n",
       "      <td>CO</td>\n",
       "      <td>False</td>\n",
       "      <td>attack</td>\n",
       "      <td>Not fleeing</td>\n",
       "      <td>False</td>\n",
       "      <td>Piercing objects</td>\n",
       "    </tr>\n",
       "    <tr>\n",
       "      <th>...</th>\n",
       "      <td>...</td>\n",
       "      <td>...</td>\n",
       "      <td>...</td>\n",
       "      <td>...</td>\n",
       "      <td>...</td>\n",
       "      <td>...</td>\n",
       "      <td>...</td>\n",
       "      <td>...</td>\n",
       "      <td>...</td>\n",
       "      <td>...</td>\n",
       "      <td>...</td>\n",
       "      <td>...</td>\n",
       "      <td>...</td>\n",
       "      <td>...</td>\n",
       "      <td>...</td>\n",
       "    </tr>\n",
       "    <tr>\n",
       "      <th>4890</th>\n",
       "      <td>5916</td>\n",
       "      <td>Rayshard Brooks</td>\n",
       "      <td>2020-06-12</td>\n",
       "      <td>shot</td>\n",
       "      <td>Taser</td>\n",
       "      <td>27.0</td>\n",
       "      <td>M</td>\n",
       "      <td>Black</td>\n",
       "      <td>Atlanta</td>\n",
       "      <td>GA</td>\n",
       "      <td>False</td>\n",
       "      <td>attack</td>\n",
       "      <td>Foot</td>\n",
       "      <td>True</td>\n",
       "      <td>Electrical devices</td>\n",
       "    </tr>\n",
       "    <tr>\n",
       "      <th>4891</th>\n",
       "      <td>5925</td>\n",
       "      <td>Caine Van Pelt</td>\n",
       "      <td>2020-06-12</td>\n",
       "      <td>shot</td>\n",
       "      <td>gun</td>\n",
       "      <td>23.0</td>\n",
       "      <td>M</td>\n",
       "      <td>Black</td>\n",
       "      <td>Crown Point</td>\n",
       "      <td>IN</td>\n",
       "      <td>False</td>\n",
       "      <td>attack</td>\n",
       "      <td>Car</td>\n",
       "      <td>False</td>\n",
       "      <td>Guns</td>\n",
       "    </tr>\n",
       "    <tr>\n",
       "      <th>4892</th>\n",
       "      <td>5918</td>\n",
       "      <td>Hannah Fizer</td>\n",
       "      <td>2020-06-13</td>\n",
       "      <td>shot</td>\n",
       "      <td>unarmed</td>\n",
       "      <td>25.0</td>\n",
       "      <td>F</td>\n",
       "      <td>White</td>\n",
       "      <td>Sedalia</td>\n",
       "      <td>MO</td>\n",
       "      <td>False</td>\n",
       "      <td>other</td>\n",
       "      <td>Not fleeing</td>\n",
       "      <td>False</td>\n",
       "      <td>Unarmed</td>\n",
       "    </tr>\n",
       "    <tr>\n",
       "      <th>4893</th>\n",
       "      <td>5921</td>\n",
       "      <td>William Slyter</td>\n",
       "      <td>2020-06-13</td>\n",
       "      <td>shot</td>\n",
       "      <td>gun</td>\n",
       "      <td>22.0</td>\n",
       "      <td>M</td>\n",
       "      <td>White</td>\n",
       "      <td>Kansas City</td>\n",
       "      <td>MO</td>\n",
       "      <td>False</td>\n",
       "      <td>other</td>\n",
       "      <td>Other</td>\n",
       "      <td>False</td>\n",
       "      <td>Guns</td>\n",
       "    </tr>\n",
       "    <tr>\n",
       "      <th>4894</th>\n",
       "      <td>5924</td>\n",
       "      <td>Nicholas Hirsh</td>\n",
       "      <td>2020-06-15</td>\n",
       "      <td>shot</td>\n",
       "      <td>gun</td>\n",
       "      <td>31.0</td>\n",
       "      <td>M</td>\n",
       "      <td>White</td>\n",
       "      <td>Lawrence</td>\n",
       "      <td>KS</td>\n",
       "      <td>False</td>\n",
       "      <td>attack</td>\n",
       "      <td>Car</td>\n",
       "      <td>False</td>\n",
       "      <td>Guns</td>\n",
       "    </tr>\n",
       "  </tbody>\n",
       "</table>\n",
       "<p>4895 rows × 15 columns</p>\n",
       "</div>"
      ],
      "text/plain": [
       "        id                name        date   manner_of_death       armed  \\\n",
       "0        3          Tim Elliot  2015-01-02              shot         gun   \n",
       "1        4    Lewis Lee Lembke  2015-01-02              shot         gun   \n",
       "2        5  John Paul Quintero  2015-01-03  shot and Tasered     unarmed   \n",
       "3        8     Matthew Hoffman  2015-01-04              shot  toy weapon   \n",
       "4        9   Michael Rodriguez  2015-01-04              shot    nail gun   \n",
       "...    ...                 ...         ...               ...         ...   \n",
       "4890  5916     Rayshard Brooks  2020-06-12              shot       Taser   \n",
       "4891  5925      Caine Van Pelt  2020-06-12              shot         gun   \n",
       "4892  5918        Hannah Fizer  2020-06-13              shot     unarmed   \n",
       "4893  5921      William Slyter  2020-06-13              shot         gun   \n",
       "4894  5924      Nicholas Hirsh  2020-06-15              shot         gun   \n",
       "\n",
       "       age gender      race           city state  signs_of_mental_illness  \\\n",
       "0     53.0      M     Asian        Shelton    WA                     True   \n",
       "1     47.0      M     White          Aloha    OR                    False   \n",
       "2     23.0      M  Hispanic        Wichita    KS                    False   \n",
       "3     32.0      M     White  San Francisco    CA                     True   \n",
       "4     39.0      M  Hispanic          Evans    CO                    False   \n",
       "...    ...    ...       ...            ...   ...                      ...   \n",
       "4890  27.0      M     Black        Atlanta    GA                    False   \n",
       "4891  23.0      M     Black    Crown Point    IN                    False   \n",
       "4892  25.0      F     White        Sedalia    MO                    False   \n",
       "4893  22.0      M     White    Kansas City    MO                    False   \n",
       "4894  31.0      M     White       Lawrence    KS                    False   \n",
       "\n",
       "     threat_level         flee  body_camera          arms_category  \n",
       "0          attack  Not fleeing        False                   Guns  \n",
       "1          attack  Not fleeing        False                   Guns  \n",
       "2           other  Not fleeing        False                Unarmed  \n",
       "3          attack  Not fleeing        False  Other unusual objects  \n",
       "4          attack  Not fleeing        False       Piercing objects  \n",
       "...           ...          ...          ...                    ...  \n",
       "4890       attack         Foot         True     Electrical devices  \n",
       "4891       attack          Car        False                   Guns  \n",
       "4892        other  Not fleeing        False                Unarmed  \n",
       "4893        other        Other        False                   Guns  \n",
       "4894       attack          Car        False                   Guns  \n",
       "\n",
       "[4895 rows x 15 columns]"
      ]
     },
     "execution_count": 4,
     "metadata": {},
     "output_type": "execute_result"
    }
   ],
   "source": [
    "#read the data\n",
    "data=pd.read_csv(\"shootings.csv\")\n",
    "data"
   ]
  },
  {
   "cell_type": "code",
   "execution_count": 5,
   "metadata": {},
   "outputs": [
    {
     "data": {
      "text/plain": [
       "(4895, 15)"
      ]
     },
     "execution_count": 5,
     "metadata": {},
     "output_type": "execute_result"
    }
   ],
   "source": [
    "data.shape"
   ]
  },
  {
   "cell_type": "code",
   "execution_count": 6,
   "metadata": {},
   "outputs": [
    {
     "data": {
      "text/plain": [
       "id                         0\n",
       "name                       0\n",
       "date                       0\n",
       "manner_of_death            0\n",
       "armed                      0\n",
       "age                        0\n",
       "gender                     0\n",
       "race                       0\n",
       "city                       0\n",
       "state                      0\n",
       "signs_of_mental_illness    0\n",
       "threat_level               0\n",
       "flee                       0\n",
       "body_camera                0\n",
       "arms_category              0\n",
       "dtype: int64"
      ]
     },
     "execution_count": 6,
     "metadata": {},
     "output_type": "execute_result"
    }
   ],
   "source": [
    "data.isnull().sum()"
   ]
  },
  {
   "cell_type": "code",
   "execution_count": 7,
   "metadata": {},
   "outputs": [
    {
     "data": {
      "text/plain": [
       "array(['M', 'F'], dtype=object)"
      ]
     },
     "execution_count": 7,
     "metadata": {},
     "output_type": "execute_result"
    }
   ],
   "source": [
    "data[\"gender\"].unique()"
   ]
  },
  {
   "cell_type": "code",
   "execution_count": 8,
   "metadata": {},
   "outputs": [
    {
     "data": {
      "text/plain": [
       "(6.0, 91.0)"
      ]
     },
     "execution_count": 8,
     "metadata": {},
     "output_type": "execute_result"
    }
   ],
   "source": [
    "data[\"age\"].min(),data[\"age\"].max()"
   ]
  },
  {
   "cell_type": "code",
   "execution_count": 9,
   "metadata": {},
   "outputs": [
    {
     "data": {
      "text/plain": [
       "array(['Asian', 'White', 'Hispanic', 'Black', 'Other', 'Native'],\n",
       "      dtype=object)"
      ]
     },
     "execution_count": 9,
     "metadata": {},
     "output_type": "execute_result"
    }
   ],
   "source": [
    "data[\"race\"].unique()"
   ]
  },
  {
   "cell_type": "code",
   "execution_count": 10,
   "metadata": {},
   "outputs": [
    {
     "data": {
      "text/plain": [
       "White       2476\n",
       "Black       1298\n",
       "Hispanic     902\n",
       "Asian         93\n",
       "Native        78\n",
       "Other         48\n",
       "Name: race, dtype: int64"
      ]
     },
     "execution_count": 10,
     "metadata": {},
     "output_type": "execute_result"
    }
   ],
   "source": [
    "data[\"race\"].value_counts()"
   ]
  },
  {
   "cell_type": "markdown",
   "metadata": {},
   "source": [
    "More whites have been killed by police brutality than blacks"
   ]
  },
  {
   "cell_type": "code",
   "execution_count": 11,
   "metadata": {},
   "outputs": [],
   "source": [
    "data[\"agecheck\"]=data[\"age\"].astype(str)"
   ]
  },
  {
   "cell_type": "code",
   "execution_count": 12,
   "metadata": {},
   "outputs": [],
   "source": [
    "data[\"agecheck\"]=data[\"agecheck\"].apply(lambda x: x.split(\".\"))"
   ]
  },
  {
   "cell_type": "code",
   "execution_count": 13,
   "metadata": {},
   "outputs": [
    {
     "data": {
      "text/html": [
       "<div>\n",
       "<style scoped>\n",
       "    .dataframe tbody tr th:only-of-type {\n",
       "        vertical-align: middle;\n",
       "    }\n",
       "\n",
       "    .dataframe tbody tr th {\n",
       "        vertical-align: top;\n",
       "    }\n",
       "\n",
       "    .dataframe thead th {\n",
       "        text-align: right;\n",
       "    }\n",
       "</style>\n",
       "<table border=\"1\" class=\"dataframe\">\n",
       "  <thead>\n",
       "    <tr style=\"text-align: right;\">\n",
       "      <th></th>\n",
       "      <th>id</th>\n",
       "      <th>name</th>\n",
       "      <th>date</th>\n",
       "      <th>manner_of_death</th>\n",
       "      <th>armed</th>\n",
       "      <th>age</th>\n",
       "      <th>gender</th>\n",
       "      <th>race</th>\n",
       "      <th>city</th>\n",
       "      <th>state</th>\n",
       "      <th>signs_of_mental_illness</th>\n",
       "      <th>threat_level</th>\n",
       "      <th>flee</th>\n",
       "      <th>body_camera</th>\n",
       "      <th>arms_category</th>\n",
       "      <th>agecheck</th>\n",
       "    </tr>\n",
       "  </thead>\n",
       "  <tbody>\n",
       "    <tr>\n",
       "      <th>0</th>\n",
       "      <td>3</td>\n",
       "      <td>Tim Elliot</td>\n",
       "      <td>2015-01-02</td>\n",
       "      <td>shot</td>\n",
       "      <td>gun</td>\n",
       "      <td>53.0</td>\n",
       "      <td>M</td>\n",
       "      <td>Asian</td>\n",
       "      <td>Shelton</td>\n",
       "      <td>WA</td>\n",
       "      <td>True</td>\n",
       "      <td>attack</td>\n",
       "      <td>Not fleeing</td>\n",
       "      <td>False</td>\n",
       "      <td>Guns</td>\n",
       "      <td>[53, 0]</td>\n",
       "    </tr>\n",
       "    <tr>\n",
       "      <th>1</th>\n",
       "      <td>4</td>\n",
       "      <td>Lewis Lee Lembke</td>\n",
       "      <td>2015-01-02</td>\n",
       "      <td>shot</td>\n",
       "      <td>gun</td>\n",
       "      <td>47.0</td>\n",
       "      <td>M</td>\n",
       "      <td>White</td>\n",
       "      <td>Aloha</td>\n",
       "      <td>OR</td>\n",
       "      <td>False</td>\n",
       "      <td>attack</td>\n",
       "      <td>Not fleeing</td>\n",
       "      <td>False</td>\n",
       "      <td>Guns</td>\n",
       "      <td>[47, 0]</td>\n",
       "    </tr>\n",
       "    <tr>\n",
       "      <th>2</th>\n",
       "      <td>5</td>\n",
       "      <td>John Paul Quintero</td>\n",
       "      <td>2015-01-03</td>\n",
       "      <td>shot and Tasered</td>\n",
       "      <td>unarmed</td>\n",
       "      <td>23.0</td>\n",
       "      <td>M</td>\n",
       "      <td>Hispanic</td>\n",
       "      <td>Wichita</td>\n",
       "      <td>KS</td>\n",
       "      <td>False</td>\n",
       "      <td>other</td>\n",
       "      <td>Not fleeing</td>\n",
       "      <td>False</td>\n",
       "      <td>Unarmed</td>\n",
       "      <td>[23, 0]</td>\n",
       "    </tr>\n",
       "    <tr>\n",
       "      <th>3</th>\n",
       "      <td>8</td>\n",
       "      <td>Matthew Hoffman</td>\n",
       "      <td>2015-01-04</td>\n",
       "      <td>shot</td>\n",
       "      <td>toy weapon</td>\n",
       "      <td>32.0</td>\n",
       "      <td>M</td>\n",
       "      <td>White</td>\n",
       "      <td>San Francisco</td>\n",
       "      <td>CA</td>\n",
       "      <td>True</td>\n",
       "      <td>attack</td>\n",
       "      <td>Not fleeing</td>\n",
       "      <td>False</td>\n",
       "      <td>Other unusual objects</td>\n",
       "      <td>[32, 0]</td>\n",
       "    </tr>\n",
       "    <tr>\n",
       "      <th>4</th>\n",
       "      <td>9</td>\n",
       "      <td>Michael Rodriguez</td>\n",
       "      <td>2015-01-04</td>\n",
       "      <td>shot</td>\n",
       "      <td>nail gun</td>\n",
       "      <td>39.0</td>\n",
       "      <td>M</td>\n",
       "      <td>Hispanic</td>\n",
       "      <td>Evans</td>\n",
       "      <td>CO</td>\n",
       "      <td>False</td>\n",
       "      <td>attack</td>\n",
       "      <td>Not fleeing</td>\n",
       "      <td>False</td>\n",
       "      <td>Piercing objects</td>\n",
       "      <td>[39, 0]</td>\n",
       "    </tr>\n",
       "    <tr>\n",
       "      <th>...</th>\n",
       "      <td>...</td>\n",
       "      <td>...</td>\n",
       "      <td>...</td>\n",
       "      <td>...</td>\n",
       "      <td>...</td>\n",
       "      <td>...</td>\n",
       "      <td>...</td>\n",
       "      <td>...</td>\n",
       "      <td>...</td>\n",
       "      <td>...</td>\n",
       "      <td>...</td>\n",
       "      <td>...</td>\n",
       "      <td>...</td>\n",
       "      <td>...</td>\n",
       "      <td>...</td>\n",
       "      <td>...</td>\n",
       "    </tr>\n",
       "    <tr>\n",
       "      <th>4890</th>\n",
       "      <td>5916</td>\n",
       "      <td>Rayshard Brooks</td>\n",
       "      <td>2020-06-12</td>\n",
       "      <td>shot</td>\n",
       "      <td>Taser</td>\n",
       "      <td>27.0</td>\n",
       "      <td>M</td>\n",
       "      <td>Black</td>\n",
       "      <td>Atlanta</td>\n",
       "      <td>GA</td>\n",
       "      <td>False</td>\n",
       "      <td>attack</td>\n",
       "      <td>Foot</td>\n",
       "      <td>True</td>\n",
       "      <td>Electrical devices</td>\n",
       "      <td>[27, 0]</td>\n",
       "    </tr>\n",
       "    <tr>\n",
       "      <th>4891</th>\n",
       "      <td>5925</td>\n",
       "      <td>Caine Van Pelt</td>\n",
       "      <td>2020-06-12</td>\n",
       "      <td>shot</td>\n",
       "      <td>gun</td>\n",
       "      <td>23.0</td>\n",
       "      <td>M</td>\n",
       "      <td>Black</td>\n",
       "      <td>Crown Point</td>\n",
       "      <td>IN</td>\n",
       "      <td>False</td>\n",
       "      <td>attack</td>\n",
       "      <td>Car</td>\n",
       "      <td>False</td>\n",
       "      <td>Guns</td>\n",
       "      <td>[23, 0]</td>\n",
       "    </tr>\n",
       "    <tr>\n",
       "      <th>4892</th>\n",
       "      <td>5918</td>\n",
       "      <td>Hannah Fizer</td>\n",
       "      <td>2020-06-13</td>\n",
       "      <td>shot</td>\n",
       "      <td>unarmed</td>\n",
       "      <td>25.0</td>\n",
       "      <td>F</td>\n",
       "      <td>White</td>\n",
       "      <td>Sedalia</td>\n",
       "      <td>MO</td>\n",
       "      <td>False</td>\n",
       "      <td>other</td>\n",
       "      <td>Not fleeing</td>\n",
       "      <td>False</td>\n",
       "      <td>Unarmed</td>\n",
       "      <td>[25, 0]</td>\n",
       "    </tr>\n",
       "    <tr>\n",
       "      <th>4893</th>\n",
       "      <td>5921</td>\n",
       "      <td>William Slyter</td>\n",
       "      <td>2020-06-13</td>\n",
       "      <td>shot</td>\n",
       "      <td>gun</td>\n",
       "      <td>22.0</td>\n",
       "      <td>M</td>\n",
       "      <td>White</td>\n",
       "      <td>Kansas City</td>\n",
       "      <td>MO</td>\n",
       "      <td>False</td>\n",
       "      <td>other</td>\n",
       "      <td>Other</td>\n",
       "      <td>False</td>\n",
       "      <td>Guns</td>\n",
       "      <td>[22, 0]</td>\n",
       "    </tr>\n",
       "    <tr>\n",
       "      <th>4894</th>\n",
       "      <td>5924</td>\n",
       "      <td>Nicholas Hirsh</td>\n",
       "      <td>2020-06-15</td>\n",
       "      <td>shot</td>\n",
       "      <td>gun</td>\n",
       "      <td>31.0</td>\n",
       "      <td>M</td>\n",
       "      <td>White</td>\n",
       "      <td>Lawrence</td>\n",
       "      <td>KS</td>\n",
       "      <td>False</td>\n",
       "      <td>attack</td>\n",
       "      <td>Car</td>\n",
       "      <td>False</td>\n",
       "      <td>Guns</td>\n",
       "      <td>[31, 0]</td>\n",
       "    </tr>\n",
       "  </tbody>\n",
       "</table>\n",
       "<p>4895 rows × 16 columns</p>\n",
       "</div>"
      ],
      "text/plain": [
       "        id                name        date   manner_of_death       armed  \\\n",
       "0        3          Tim Elliot  2015-01-02              shot         gun   \n",
       "1        4    Lewis Lee Lembke  2015-01-02              shot         gun   \n",
       "2        5  John Paul Quintero  2015-01-03  shot and Tasered     unarmed   \n",
       "3        8     Matthew Hoffman  2015-01-04              shot  toy weapon   \n",
       "4        9   Michael Rodriguez  2015-01-04              shot    nail gun   \n",
       "...    ...                 ...         ...               ...         ...   \n",
       "4890  5916     Rayshard Brooks  2020-06-12              shot       Taser   \n",
       "4891  5925      Caine Van Pelt  2020-06-12              shot         gun   \n",
       "4892  5918        Hannah Fizer  2020-06-13              shot     unarmed   \n",
       "4893  5921      William Slyter  2020-06-13              shot         gun   \n",
       "4894  5924      Nicholas Hirsh  2020-06-15              shot         gun   \n",
       "\n",
       "       age gender      race           city state  signs_of_mental_illness  \\\n",
       "0     53.0      M     Asian        Shelton    WA                     True   \n",
       "1     47.0      M     White          Aloha    OR                    False   \n",
       "2     23.0      M  Hispanic        Wichita    KS                    False   \n",
       "3     32.0      M     White  San Francisco    CA                     True   \n",
       "4     39.0      M  Hispanic          Evans    CO                    False   \n",
       "...    ...    ...       ...            ...   ...                      ...   \n",
       "4890  27.0      M     Black        Atlanta    GA                    False   \n",
       "4891  23.0      M     Black    Crown Point    IN                    False   \n",
       "4892  25.0      F     White        Sedalia    MO                    False   \n",
       "4893  22.0      M     White    Kansas City    MO                    False   \n",
       "4894  31.0      M     White       Lawrence    KS                    False   \n",
       "\n",
       "     threat_level         flee  body_camera          arms_category agecheck  \n",
       "0          attack  Not fleeing        False                   Guns  [53, 0]  \n",
       "1          attack  Not fleeing        False                   Guns  [47, 0]  \n",
       "2           other  Not fleeing        False                Unarmed  [23, 0]  \n",
       "3          attack  Not fleeing        False  Other unusual objects  [32, 0]  \n",
       "4          attack  Not fleeing        False       Piercing objects  [39, 0]  \n",
       "...           ...          ...          ...                    ...      ...  \n",
       "4890       attack         Foot         True     Electrical devices  [27, 0]  \n",
       "4891       attack          Car        False                   Guns  [23, 0]  \n",
       "4892        other  Not fleeing        False                Unarmed  [25, 0]  \n",
       "4893        other        Other        False                   Guns  [22, 0]  \n",
       "4894       attack          Car        False                   Guns  [31, 0]  \n",
       "\n",
       "[4895 rows x 16 columns]"
      ]
     },
     "execution_count": 13,
     "metadata": {},
     "output_type": "execute_result"
    }
   ],
   "source": [
    "data"
   ]
  },
  {
   "cell_type": "code",
   "execution_count": 14,
   "metadata": {},
   "outputs": [],
   "source": [
    "data[\"agecheckproof\"]=data[\"agecheck\"].apply(lambda x :\"True\" if len(x)>2 else \"False\")"
   ]
  },
  {
   "cell_type": "code",
   "execution_count": 15,
   "metadata": {},
   "outputs": [
    {
     "data": {
      "text/plain": [
       "array(['False'], dtype=object)"
      ]
     },
     "execution_count": 15,
     "metadata": {},
     "output_type": "execute_result"
    }
   ],
   "source": [
    "data[\"agecheckproof\"].unique()"
   ]
  },
  {
   "cell_type": "markdown",
   "metadata": {},
   "source": [
    "We see that age does not have any one decimal place number(it is clean), so we can remove it"
   ]
  },
  {
   "cell_type": "code",
   "execution_count": 16,
   "metadata": {},
   "outputs": [],
   "source": [
    "data.drop([\"agecheck\",\"agecheckproof\"],axis=\"columns\",inplace=True)"
   ]
  },
  {
   "cell_type": "code",
   "execution_count": 17,
   "metadata": {},
   "outputs": [
    {
     "data": {
      "text/html": [
       "<div>\n",
       "<style scoped>\n",
       "    .dataframe tbody tr th:only-of-type {\n",
       "        vertical-align: middle;\n",
       "    }\n",
       "\n",
       "    .dataframe tbody tr th {\n",
       "        vertical-align: top;\n",
       "    }\n",
       "\n",
       "    .dataframe thead th {\n",
       "        text-align: right;\n",
       "    }\n",
       "</style>\n",
       "<table border=\"1\" class=\"dataframe\">\n",
       "  <thead>\n",
       "    <tr style=\"text-align: right;\">\n",
       "      <th></th>\n",
       "      <th>id</th>\n",
       "      <th>name</th>\n",
       "      <th>date</th>\n",
       "      <th>manner_of_death</th>\n",
       "      <th>armed</th>\n",
       "      <th>age</th>\n",
       "      <th>gender</th>\n",
       "      <th>race</th>\n",
       "      <th>city</th>\n",
       "      <th>state</th>\n",
       "      <th>signs_of_mental_illness</th>\n",
       "      <th>threat_level</th>\n",
       "      <th>flee</th>\n",
       "      <th>body_camera</th>\n",
       "      <th>arms_category</th>\n",
       "    </tr>\n",
       "  </thead>\n",
       "  <tbody>\n",
       "    <tr>\n",
       "      <th>0</th>\n",
       "      <td>3</td>\n",
       "      <td>Tim Elliot</td>\n",
       "      <td>2015-01-02</td>\n",
       "      <td>shot</td>\n",
       "      <td>gun</td>\n",
       "      <td>53.0</td>\n",
       "      <td>M</td>\n",
       "      <td>Asian</td>\n",
       "      <td>Shelton</td>\n",
       "      <td>WA</td>\n",
       "      <td>True</td>\n",
       "      <td>attack</td>\n",
       "      <td>Not fleeing</td>\n",
       "      <td>False</td>\n",
       "      <td>Guns</td>\n",
       "    </tr>\n",
       "    <tr>\n",
       "      <th>1</th>\n",
       "      <td>4</td>\n",
       "      <td>Lewis Lee Lembke</td>\n",
       "      <td>2015-01-02</td>\n",
       "      <td>shot</td>\n",
       "      <td>gun</td>\n",
       "      <td>47.0</td>\n",
       "      <td>M</td>\n",
       "      <td>White</td>\n",
       "      <td>Aloha</td>\n",
       "      <td>OR</td>\n",
       "      <td>False</td>\n",
       "      <td>attack</td>\n",
       "      <td>Not fleeing</td>\n",
       "      <td>False</td>\n",
       "      <td>Guns</td>\n",
       "    </tr>\n",
       "    <tr>\n",
       "      <th>2</th>\n",
       "      <td>5</td>\n",
       "      <td>John Paul Quintero</td>\n",
       "      <td>2015-01-03</td>\n",
       "      <td>shot and Tasered</td>\n",
       "      <td>unarmed</td>\n",
       "      <td>23.0</td>\n",
       "      <td>M</td>\n",
       "      <td>Hispanic</td>\n",
       "      <td>Wichita</td>\n",
       "      <td>KS</td>\n",
       "      <td>False</td>\n",
       "      <td>other</td>\n",
       "      <td>Not fleeing</td>\n",
       "      <td>False</td>\n",
       "      <td>Unarmed</td>\n",
       "    </tr>\n",
       "    <tr>\n",
       "      <th>3</th>\n",
       "      <td>8</td>\n",
       "      <td>Matthew Hoffman</td>\n",
       "      <td>2015-01-04</td>\n",
       "      <td>shot</td>\n",
       "      <td>toy weapon</td>\n",
       "      <td>32.0</td>\n",
       "      <td>M</td>\n",
       "      <td>White</td>\n",
       "      <td>San Francisco</td>\n",
       "      <td>CA</td>\n",
       "      <td>True</td>\n",
       "      <td>attack</td>\n",
       "      <td>Not fleeing</td>\n",
       "      <td>False</td>\n",
       "      <td>Other unusual objects</td>\n",
       "    </tr>\n",
       "    <tr>\n",
       "      <th>4</th>\n",
       "      <td>9</td>\n",
       "      <td>Michael Rodriguez</td>\n",
       "      <td>2015-01-04</td>\n",
       "      <td>shot</td>\n",
       "      <td>nail gun</td>\n",
       "      <td>39.0</td>\n",
       "      <td>M</td>\n",
       "      <td>Hispanic</td>\n",
       "      <td>Evans</td>\n",
       "      <td>CO</td>\n",
       "      <td>False</td>\n",
       "      <td>attack</td>\n",
       "      <td>Not fleeing</td>\n",
       "      <td>False</td>\n",
       "      <td>Piercing objects</td>\n",
       "    </tr>\n",
       "    <tr>\n",
       "      <th>...</th>\n",
       "      <td>...</td>\n",
       "      <td>...</td>\n",
       "      <td>...</td>\n",
       "      <td>...</td>\n",
       "      <td>...</td>\n",
       "      <td>...</td>\n",
       "      <td>...</td>\n",
       "      <td>...</td>\n",
       "      <td>...</td>\n",
       "      <td>...</td>\n",
       "      <td>...</td>\n",
       "      <td>...</td>\n",
       "      <td>...</td>\n",
       "      <td>...</td>\n",
       "      <td>...</td>\n",
       "    </tr>\n",
       "    <tr>\n",
       "      <th>4890</th>\n",
       "      <td>5916</td>\n",
       "      <td>Rayshard Brooks</td>\n",
       "      <td>2020-06-12</td>\n",
       "      <td>shot</td>\n",
       "      <td>Taser</td>\n",
       "      <td>27.0</td>\n",
       "      <td>M</td>\n",
       "      <td>Black</td>\n",
       "      <td>Atlanta</td>\n",
       "      <td>GA</td>\n",
       "      <td>False</td>\n",
       "      <td>attack</td>\n",
       "      <td>Foot</td>\n",
       "      <td>True</td>\n",
       "      <td>Electrical devices</td>\n",
       "    </tr>\n",
       "    <tr>\n",
       "      <th>4891</th>\n",
       "      <td>5925</td>\n",
       "      <td>Caine Van Pelt</td>\n",
       "      <td>2020-06-12</td>\n",
       "      <td>shot</td>\n",
       "      <td>gun</td>\n",
       "      <td>23.0</td>\n",
       "      <td>M</td>\n",
       "      <td>Black</td>\n",
       "      <td>Crown Point</td>\n",
       "      <td>IN</td>\n",
       "      <td>False</td>\n",
       "      <td>attack</td>\n",
       "      <td>Car</td>\n",
       "      <td>False</td>\n",
       "      <td>Guns</td>\n",
       "    </tr>\n",
       "    <tr>\n",
       "      <th>4892</th>\n",
       "      <td>5918</td>\n",
       "      <td>Hannah Fizer</td>\n",
       "      <td>2020-06-13</td>\n",
       "      <td>shot</td>\n",
       "      <td>unarmed</td>\n",
       "      <td>25.0</td>\n",
       "      <td>F</td>\n",
       "      <td>White</td>\n",
       "      <td>Sedalia</td>\n",
       "      <td>MO</td>\n",
       "      <td>False</td>\n",
       "      <td>other</td>\n",
       "      <td>Not fleeing</td>\n",
       "      <td>False</td>\n",
       "      <td>Unarmed</td>\n",
       "    </tr>\n",
       "    <tr>\n",
       "      <th>4893</th>\n",
       "      <td>5921</td>\n",
       "      <td>William Slyter</td>\n",
       "      <td>2020-06-13</td>\n",
       "      <td>shot</td>\n",
       "      <td>gun</td>\n",
       "      <td>22.0</td>\n",
       "      <td>M</td>\n",
       "      <td>White</td>\n",
       "      <td>Kansas City</td>\n",
       "      <td>MO</td>\n",
       "      <td>False</td>\n",
       "      <td>other</td>\n",
       "      <td>Other</td>\n",
       "      <td>False</td>\n",
       "      <td>Guns</td>\n",
       "    </tr>\n",
       "    <tr>\n",
       "      <th>4894</th>\n",
       "      <td>5924</td>\n",
       "      <td>Nicholas Hirsh</td>\n",
       "      <td>2020-06-15</td>\n",
       "      <td>shot</td>\n",
       "      <td>gun</td>\n",
       "      <td>31.0</td>\n",
       "      <td>M</td>\n",
       "      <td>White</td>\n",
       "      <td>Lawrence</td>\n",
       "      <td>KS</td>\n",
       "      <td>False</td>\n",
       "      <td>attack</td>\n",
       "      <td>Car</td>\n",
       "      <td>False</td>\n",
       "      <td>Guns</td>\n",
       "    </tr>\n",
       "  </tbody>\n",
       "</table>\n",
       "<p>4895 rows × 15 columns</p>\n",
       "</div>"
      ],
      "text/plain": [
       "        id                name        date   manner_of_death       armed  \\\n",
       "0        3          Tim Elliot  2015-01-02              shot         gun   \n",
       "1        4    Lewis Lee Lembke  2015-01-02              shot         gun   \n",
       "2        5  John Paul Quintero  2015-01-03  shot and Tasered     unarmed   \n",
       "3        8     Matthew Hoffman  2015-01-04              shot  toy weapon   \n",
       "4        9   Michael Rodriguez  2015-01-04              shot    nail gun   \n",
       "...    ...                 ...         ...               ...         ...   \n",
       "4890  5916     Rayshard Brooks  2020-06-12              shot       Taser   \n",
       "4891  5925      Caine Van Pelt  2020-06-12              shot         gun   \n",
       "4892  5918        Hannah Fizer  2020-06-13              shot     unarmed   \n",
       "4893  5921      William Slyter  2020-06-13              shot         gun   \n",
       "4894  5924      Nicholas Hirsh  2020-06-15              shot         gun   \n",
       "\n",
       "       age gender      race           city state  signs_of_mental_illness  \\\n",
       "0     53.0      M     Asian        Shelton    WA                     True   \n",
       "1     47.0      M     White          Aloha    OR                    False   \n",
       "2     23.0      M  Hispanic        Wichita    KS                    False   \n",
       "3     32.0      M     White  San Francisco    CA                     True   \n",
       "4     39.0      M  Hispanic          Evans    CO                    False   \n",
       "...    ...    ...       ...            ...   ...                      ...   \n",
       "4890  27.0      M     Black        Atlanta    GA                    False   \n",
       "4891  23.0      M     Black    Crown Point    IN                    False   \n",
       "4892  25.0      F     White        Sedalia    MO                    False   \n",
       "4893  22.0      M     White    Kansas City    MO                    False   \n",
       "4894  31.0      M     White       Lawrence    KS                    False   \n",
       "\n",
       "     threat_level         flee  body_camera          arms_category  \n",
       "0          attack  Not fleeing        False                   Guns  \n",
       "1          attack  Not fleeing        False                   Guns  \n",
       "2           other  Not fleeing        False                Unarmed  \n",
       "3          attack  Not fleeing        False  Other unusual objects  \n",
       "4          attack  Not fleeing        False       Piercing objects  \n",
       "...           ...          ...          ...                    ...  \n",
       "4890       attack         Foot         True     Electrical devices  \n",
       "4891       attack          Car        False                   Guns  \n",
       "4892        other  Not fleeing        False                Unarmed  \n",
       "4893        other        Other        False                   Guns  \n",
       "4894       attack          Car        False                   Guns  \n",
       "\n",
       "[4895 rows x 15 columns]"
      ]
     },
     "execution_count": 17,
     "metadata": {},
     "output_type": "execute_result"
    }
   ],
   "source": [
    "data"
   ]
  },
  {
   "cell_type": "code",
   "execution_count": 18,
   "metadata": {},
   "outputs": [],
   "source": [
    "data.drop(\"id\",axis=\"columns\",inplace=True)"
   ]
  },
  {
   "cell_type": "code",
   "execution_count": 19,
   "metadata": {},
   "outputs": [],
   "source": [
    "data[\"date\"]=pd.to_datetime(data[\"date\"])"
   ]
  },
  {
   "cell_type": "code",
   "execution_count": 20,
   "metadata": {},
   "outputs": [
    {
     "name": "stdout",
     "output_type": "stream",
     "text": [
      "<class 'pandas.core.frame.DataFrame'>\n",
      "RangeIndex: 4895 entries, 0 to 4894\n",
      "Data columns (total 14 columns):\n",
      " #   Column                   Non-Null Count  Dtype         \n",
      "---  ------                   --------------  -----         \n",
      " 0   name                     4895 non-null   object        \n",
      " 1   date                     4895 non-null   datetime64[ns]\n",
      " 2   manner_of_death          4895 non-null   object        \n",
      " 3   armed                    4895 non-null   object        \n",
      " 4   age                      4895 non-null   float64       \n",
      " 5   gender                   4895 non-null   object        \n",
      " 6   race                     4895 non-null   object        \n",
      " 7   city                     4895 non-null   object        \n",
      " 8   state                    4895 non-null   object        \n",
      " 9   signs_of_mental_illness  4895 non-null   bool          \n",
      " 10  threat_level             4895 non-null   object        \n",
      " 11  flee                     4895 non-null   object        \n",
      " 12  body_camera              4895 non-null   bool          \n",
      " 13  arms_category            4895 non-null   object        \n",
      "dtypes: bool(2), datetime64[ns](1), float64(1), object(10)\n",
      "memory usage: 468.6+ KB\n"
     ]
    }
   ],
   "source": [
    "data.info()"
   ]
  },
  {
   "cell_type": "code",
   "execution_count": 21,
   "metadata": {},
   "outputs": [],
   "source": [
    "data.set_index(\"date\",inplace=True)"
   ]
  },
  {
   "cell_type": "code",
   "execution_count": 22,
   "metadata": {},
   "outputs": [
    {
     "data": {
      "text/plain": [
       "Timestamp('2015-01-02 00:00:00')"
      ]
     },
     "execution_count": 22,
     "metadata": {},
     "output_type": "execute_result"
    }
   ],
   "source": [
    "data.index.min()"
   ]
  },
  {
   "cell_type": "markdown",
   "metadata": {},
   "source": [
    "The minimum year is 2015"
   ]
  },
  {
   "cell_type": "code",
   "execution_count": 23,
   "metadata": {},
   "outputs": [
    {
     "data": {
      "text/plain": [
       "Timestamp('2020-06-15 00:00:00')"
      ]
     },
     "execution_count": 23,
     "metadata": {},
     "output_type": "execute_result"
    }
   ],
   "source": [
    "data.index.max()"
   ]
  },
  {
   "cell_type": "code",
   "execution_count": 24,
   "metadata": {},
   "outputs": [
    {
     "data": {
      "text/plain": [
       "name                       Nicholas Hirsh\n",
       "manner_of_death                      shot\n",
       "armed                                 gun\n",
       "age                                    31\n",
       "gender                                  M\n",
       "race                                White\n",
       "city                             Lawrence\n",
       "state                                  KS\n",
       "signs_of_mental_illness             False\n",
       "threat_level                       attack\n",
       "flee                                  Car\n",
       "body_camera                         False\n",
       "arms_category                        Guns\n",
       "Name: 2020-06-15 00:00:00, dtype: object"
      ]
     },
     "execution_count": 24,
     "metadata": {},
     "output_type": "execute_result"
    }
   ],
   "source": [
    "data.loc[\"2020-06-15\"]"
   ]
  },
  {
   "cell_type": "code",
   "execution_count": 25,
   "metadata": {},
   "outputs": [],
   "source": [
    "data[\"year\"]=data.index.year\n",
    "data[\"month\"]=data.index.month_name()\n"
   ]
  },
  {
   "cell_type": "code",
   "execution_count": 26,
   "metadata": {},
   "outputs": [
    {
     "data": {
      "text/html": [
       "<div>\n",
       "<style scoped>\n",
       "    .dataframe tbody tr th:only-of-type {\n",
       "        vertical-align: middle;\n",
       "    }\n",
       "\n",
       "    .dataframe tbody tr th {\n",
       "        vertical-align: top;\n",
       "    }\n",
       "\n",
       "    .dataframe thead th {\n",
       "        text-align: right;\n",
       "    }\n",
       "</style>\n",
       "<table border=\"1\" class=\"dataframe\">\n",
       "  <thead>\n",
       "    <tr style=\"text-align: right;\">\n",
       "      <th></th>\n",
       "      <th>name</th>\n",
       "      <th>manner_of_death</th>\n",
       "      <th>armed</th>\n",
       "      <th>age</th>\n",
       "      <th>gender</th>\n",
       "      <th>race</th>\n",
       "      <th>city</th>\n",
       "      <th>state</th>\n",
       "      <th>signs_of_mental_illness</th>\n",
       "      <th>threat_level</th>\n",
       "      <th>flee</th>\n",
       "      <th>body_camera</th>\n",
       "      <th>arms_category</th>\n",
       "      <th>year</th>\n",
       "      <th>month</th>\n",
       "    </tr>\n",
       "    <tr>\n",
       "      <th>date</th>\n",
       "      <th></th>\n",
       "      <th></th>\n",
       "      <th></th>\n",
       "      <th></th>\n",
       "      <th></th>\n",
       "      <th></th>\n",
       "      <th></th>\n",
       "      <th></th>\n",
       "      <th></th>\n",
       "      <th></th>\n",
       "      <th></th>\n",
       "      <th></th>\n",
       "      <th></th>\n",
       "      <th></th>\n",
       "      <th></th>\n",
       "    </tr>\n",
       "  </thead>\n",
       "  <tbody>\n",
       "    <tr>\n",
       "      <th>2015-01-02</th>\n",
       "      <td>Tim Elliot</td>\n",
       "      <td>shot</td>\n",
       "      <td>gun</td>\n",
       "      <td>53.0</td>\n",
       "      <td>M</td>\n",
       "      <td>Asian</td>\n",
       "      <td>Shelton</td>\n",
       "      <td>WA</td>\n",
       "      <td>True</td>\n",
       "      <td>attack</td>\n",
       "      <td>Not fleeing</td>\n",
       "      <td>False</td>\n",
       "      <td>Guns</td>\n",
       "      <td>2015</td>\n",
       "      <td>January</td>\n",
       "    </tr>\n",
       "    <tr>\n",
       "      <th>2015-01-02</th>\n",
       "      <td>Lewis Lee Lembke</td>\n",
       "      <td>shot</td>\n",
       "      <td>gun</td>\n",
       "      <td>47.0</td>\n",
       "      <td>M</td>\n",
       "      <td>White</td>\n",
       "      <td>Aloha</td>\n",
       "      <td>OR</td>\n",
       "      <td>False</td>\n",
       "      <td>attack</td>\n",
       "      <td>Not fleeing</td>\n",
       "      <td>False</td>\n",
       "      <td>Guns</td>\n",
       "      <td>2015</td>\n",
       "      <td>January</td>\n",
       "    </tr>\n",
       "    <tr>\n",
       "      <th>2015-01-03</th>\n",
       "      <td>John Paul Quintero</td>\n",
       "      <td>shot and Tasered</td>\n",
       "      <td>unarmed</td>\n",
       "      <td>23.0</td>\n",
       "      <td>M</td>\n",
       "      <td>Hispanic</td>\n",
       "      <td>Wichita</td>\n",
       "      <td>KS</td>\n",
       "      <td>False</td>\n",
       "      <td>other</td>\n",
       "      <td>Not fleeing</td>\n",
       "      <td>False</td>\n",
       "      <td>Unarmed</td>\n",
       "      <td>2015</td>\n",
       "      <td>January</td>\n",
       "    </tr>\n",
       "    <tr>\n",
       "      <th>2015-01-04</th>\n",
       "      <td>Matthew Hoffman</td>\n",
       "      <td>shot</td>\n",
       "      <td>toy weapon</td>\n",
       "      <td>32.0</td>\n",
       "      <td>M</td>\n",
       "      <td>White</td>\n",
       "      <td>San Francisco</td>\n",
       "      <td>CA</td>\n",
       "      <td>True</td>\n",
       "      <td>attack</td>\n",
       "      <td>Not fleeing</td>\n",
       "      <td>False</td>\n",
       "      <td>Other unusual objects</td>\n",
       "      <td>2015</td>\n",
       "      <td>January</td>\n",
       "    </tr>\n",
       "    <tr>\n",
       "      <th>2015-01-04</th>\n",
       "      <td>Michael Rodriguez</td>\n",
       "      <td>shot</td>\n",
       "      <td>nail gun</td>\n",
       "      <td>39.0</td>\n",
       "      <td>M</td>\n",
       "      <td>Hispanic</td>\n",
       "      <td>Evans</td>\n",
       "      <td>CO</td>\n",
       "      <td>False</td>\n",
       "      <td>attack</td>\n",
       "      <td>Not fleeing</td>\n",
       "      <td>False</td>\n",
       "      <td>Piercing objects</td>\n",
       "      <td>2015</td>\n",
       "      <td>January</td>\n",
       "    </tr>\n",
       "    <tr>\n",
       "      <th>...</th>\n",
       "      <td>...</td>\n",
       "      <td>...</td>\n",
       "      <td>...</td>\n",
       "      <td>...</td>\n",
       "      <td>...</td>\n",
       "      <td>...</td>\n",
       "      <td>...</td>\n",
       "      <td>...</td>\n",
       "      <td>...</td>\n",
       "      <td>...</td>\n",
       "      <td>...</td>\n",
       "      <td>...</td>\n",
       "      <td>...</td>\n",
       "      <td>...</td>\n",
       "      <td>...</td>\n",
       "    </tr>\n",
       "    <tr>\n",
       "      <th>2020-06-12</th>\n",
       "      <td>Rayshard Brooks</td>\n",
       "      <td>shot</td>\n",
       "      <td>Taser</td>\n",
       "      <td>27.0</td>\n",
       "      <td>M</td>\n",
       "      <td>Black</td>\n",
       "      <td>Atlanta</td>\n",
       "      <td>GA</td>\n",
       "      <td>False</td>\n",
       "      <td>attack</td>\n",
       "      <td>Foot</td>\n",
       "      <td>True</td>\n",
       "      <td>Electrical devices</td>\n",
       "      <td>2020</td>\n",
       "      <td>June</td>\n",
       "    </tr>\n",
       "    <tr>\n",
       "      <th>2020-06-12</th>\n",
       "      <td>Caine Van Pelt</td>\n",
       "      <td>shot</td>\n",
       "      <td>gun</td>\n",
       "      <td>23.0</td>\n",
       "      <td>M</td>\n",
       "      <td>Black</td>\n",
       "      <td>Crown Point</td>\n",
       "      <td>IN</td>\n",
       "      <td>False</td>\n",
       "      <td>attack</td>\n",
       "      <td>Car</td>\n",
       "      <td>False</td>\n",
       "      <td>Guns</td>\n",
       "      <td>2020</td>\n",
       "      <td>June</td>\n",
       "    </tr>\n",
       "    <tr>\n",
       "      <th>2020-06-13</th>\n",
       "      <td>Hannah Fizer</td>\n",
       "      <td>shot</td>\n",
       "      <td>unarmed</td>\n",
       "      <td>25.0</td>\n",
       "      <td>F</td>\n",
       "      <td>White</td>\n",
       "      <td>Sedalia</td>\n",
       "      <td>MO</td>\n",
       "      <td>False</td>\n",
       "      <td>other</td>\n",
       "      <td>Not fleeing</td>\n",
       "      <td>False</td>\n",
       "      <td>Unarmed</td>\n",
       "      <td>2020</td>\n",
       "      <td>June</td>\n",
       "    </tr>\n",
       "    <tr>\n",
       "      <th>2020-06-13</th>\n",
       "      <td>William Slyter</td>\n",
       "      <td>shot</td>\n",
       "      <td>gun</td>\n",
       "      <td>22.0</td>\n",
       "      <td>M</td>\n",
       "      <td>White</td>\n",
       "      <td>Kansas City</td>\n",
       "      <td>MO</td>\n",
       "      <td>False</td>\n",
       "      <td>other</td>\n",
       "      <td>Other</td>\n",
       "      <td>False</td>\n",
       "      <td>Guns</td>\n",
       "      <td>2020</td>\n",
       "      <td>June</td>\n",
       "    </tr>\n",
       "    <tr>\n",
       "      <th>2020-06-15</th>\n",
       "      <td>Nicholas Hirsh</td>\n",
       "      <td>shot</td>\n",
       "      <td>gun</td>\n",
       "      <td>31.0</td>\n",
       "      <td>M</td>\n",
       "      <td>White</td>\n",
       "      <td>Lawrence</td>\n",
       "      <td>KS</td>\n",
       "      <td>False</td>\n",
       "      <td>attack</td>\n",
       "      <td>Car</td>\n",
       "      <td>False</td>\n",
       "      <td>Guns</td>\n",
       "      <td>2020</td>\n",
       "      <td>June</td>\n",
       "    </tr>\n",
       "  </tbody>\n",
       "</table>\n",
       "<p>4895 rows × 15 columns</p>\n",
       "</div>"
      ],
      "text/plain": [
       "                          name   manner_of_death       armed   age gender  \\\n",
       "date                                                                        \n",
       "2015-01-02          Tim Elliot              shot         gun  53.0      M   \n",
       "2015-01-02    Lewis Lee Lembke              shot         gun  47.0      M   \n",
       "2015-01-03  John Paul Quintero  shot and Tasered     unarmed  23.0      M   \n",
       "2015-01-04     Matthew Hoffman              shot  toy weapon  32.0      M   \n",
       "2015-01-04   Michael Rodriguez              shot    nail gun  39.0      M   \n",
       "...                        ...               ...         ...   ...    ...   \n",
       "2020-06-12     Rayshard Brooks              shot       Taser  27.0      M   \n",
       "2020-06-12      Caine Van Pelt              shot         gun  23.0      M   \n",
       "2020-06-13        Hannah Fizer              shot     unarmed  25.0      F   \n",
       "2020-06-13      William Slyter              shot         gun  22.0      M   \n",
       "2020-06-15      Nicholas Hirsh              shot         gun  31.0      M   \n",
       "\n",
       "                race           city state  signs_of_mental_illness  \\\n",
       "date                                                                 \n",
       "2015-01-02     Asian        Shelton    WA                     True   \n",
       "2015-01-02     White          Aloha    OR                    False   \n",
       "2015-01-03  Hispanic        Wichita    KS                    False   \n",
       "2015-01-04     White  San Francisco    CA                     True   \n",
       "2015-01-04  Hispanic          Evans    CO                    False   \n",
       "...              ...            ...   ...                      ...   \n",
       "2020-06-12     Black        Atlanta    GA                    False   \n",
       "2020-06-12     Black    Crown Point    IN                    False   \n",
       "2020-06-13     White        Sedalia    MO                    False   \n",
       "2020-06-13     White    Kansas City    MO                    False   \n",
       "2020-06-15     White       Lawrence    KS                    False   \n",
       "\n",
       "           threat_level         flee  body_camera          arms_category  \\\n",
       "date                                                                       \n",
       "2015-01-02       attack  Not fleeing        False                   Guns   \n",
       "2015-01-02       attack  Not fleeing        False                   Guns   \n",
       "2015-01-03        other  Not fleeing        False                Unarmed   \n",
       "2015-01-04       attack  Not fleeing        False  Other unusual objects   \n",
       "2015-01-04       attack  Not fleeing        False       Piercing objects   \n",
       "...                 ...          ...          ...                    ...   \n",
       "2020-06-12       attack         Foot         True     Electrical devices   \n",
       "2020-06-12       attack          Car        False                   Guns   \n",
       "2020-06-13        other  Not fleeing        False                Unarmed   \n",
       "2020-06-13        other        Other        False                   Guns   \n",
       "2020-06-15       attack          Car        False                   Guns   \n",
       "\n",
       "            year    month  \n",
       "date                       \n",
       "2015-01-02  2015  January  \n",
       "2015-01-02  2015  January  \n",
       "2015-01-03  2015  January  \n",
       "2015-01-04  2015  January  \n",
       "2015-01-04  2015  January  \n",
       "...          ...      ...  \n",
       "2020-06-12  2020     June  \n",
       "2020-06-12  2020     June  \n",
       "2020-06-13  2020     June  \n",
       "2020-06-13  2020     June  \n",
       "2020-06-15  2020     June  \n",
       "\n",
       "[4895 rows x 15 columns]"
      ]
     },
     "execution_count": 26,
     "metadata": {},
     "output_type": "execute_result"
    }
   ],
   "source": [
    "data"
   ]
  },
  {
   "cell_type": "code",
   "execution_count": 27,
   "metadata": {},
   "outputs": [
    {
     "data": {
      "text/html": [
       "<div>\n",
       "<style scoped>\n",
       "    .dataframe tbody tr th:only-of-type {\n",
       "        vertical-align: middle;\n",
       "    }\n",
       "\n",
       "    .dataframe tbody tr th {\n",
       "        vertical-align: top;\n",
       "    }\n",
       "\n",
       "    .dataframe thead th {\n",
       "        text-align: right;\n",
       "    }\n",
       "</style>\n",
       "<table border=\"1\" class=\"dataframe\">\n",
       "  <thead>\n",
       "    <tr style=\"text-align: right;\">\n",
       "      <th></th>\n",
       "      <th>name</th>\n",
       "      <th>manner_of_death</th>\n",
       "      <th>armed</th>\n",
       "      <th>age</th>\n",
       "      <th>gender</th>\n",
       "      <th>race</th>\n",
       "      <th>city</th>\n",
       "      <th>state</th>\n",
       "      <th>signs_of_mental_illness</th>\n",
       "      <th>threat_level</th>\n",
       "      <th>flee</th>\n",
       "      <th>body_camera</th>\n",
       "      <th>arms_category</th>\n",
       "      <th>year</th>\n",
       "      <th>month</th>\n",
       "    </tr>\n",
       "    <tr>\n",
       "      <th>date</th>\n",
       "      <th></th>\n",
       "      <th></th>\n",
       "      <th></th>\n",
       "      <th></th>\n",
       "      <th></th>\n",
       "      <th></th>\n",
       "      <th></th>\n",
       "      <th></th>\n",
       "      <th></th>\n",
       "      <th></th>\n",
       "      <th></th>\n",
       "      <th></th>\n",
       "      <th></th>\n",
       "      <th></th>\n",
       "      <th></th>\n",
       "    </tr>\n",
       "  </thead>\n",
       "  <tbody>\n",
       "    <tr>\n",
       "      <th>2020-01-01</th>\n",
       "      <td>Derrick A. Elseth</td>\n",
       "      <td>shot</td>\n",
       "      <td>gun</td>\n",
       "      <td>24.0</td>\n",
       "      <td>M</td>\n",
       "      <td>White</td>\n",
       "      <td>Richmond County</td>\n",
       "      <td>VA</td>\n",
       "      <td>False</td>\n",
       "      <td>other</td>\n",
       "      <td>Not fleeing</td>\n",
       "      <td>False</td>\n",
       "      <td>Guns</td>\n",
       "      <td>2020</td>\n",
       "      <td>January</td>\n",
       "    </tr>\n",
       "    <tr>\n",
       "      <th>2020-01-01</th>\n",
       "      <td>Gerardo Antonio Conchas-Bustas</td>\n",
       "      <td>shot</td>\n",
       "      <td>knife</td>\n",
       "      <td>20.0</td>\n",
       "      <td>M</td>\n",
       "      <td>Other</td>\n",
       "      <td>Denver</td>\n",
       "      <td>CO</td>\n",
       "      <td>False</td>\n",
       "      <td>attack</td>\n",
       "      <td>Not fleeing</td>\n",
       "      <td>True</td>\n",
       "      <td>Sharp objects</td>\n",
       "      <td>2020</td>\n",
       "      <td>January</td>\n",
       "    </tr>\n",
       "    <tr>\n",
       "      <th>2020-01-01</th>\n",
       "      <td>Gabriel Strickland</td>\n",
       "      <td>shot and Tasered</td>\n",
       "      <td>toy weapon</td>\n",
       "      <td>25.0</td>\n",
       "      <td>M</td>\n",
       "      <td>White</td>\n",
       "      <td>Grass Valley</td>\n",
       "      <td>CA</td>\n",
       "      <td>True</td>\n",
       "      <td>attack</td>\n",
       "      <td>Not fleeing</td>\n",
       "      <td>False</td>\n",
       "      <td>Other unusual objects</td>\n",
       "      <td>2020</td>\n",
       "      <td>January</td>\n",
       "    </tr>\n",
       "    <tr>\n",
       "      <th>2020-01-02</th>\n",
       "      <td>Jeffery Dale Millsap</td>\n",
       "      <td>shot</td>\n",
       "      <td>gun</td>\n",
       "      <td>26.0</td>\n",
       "      <td>M</td>\n",
       "      <td>White</td>\n",
       "      <td>Holt</td>\n",
       "      <td>MO</td>\n",
       "      <td>False</td>\n",
       "      <td>attack</td>\n",
       "      <td>Car</td>\n",
       "      <td>False</td>\n",
       "      <td>Guns</td>\n",
       "      <td>2020</td>\n",
       "      <td>January</td>\n",
       "    </tr>\n",
       "    <tr>\n",
       "      <th>2020-01-02</th>\n",
       "      <td>Jamari Daiwon Tarver</td>\n",
       "      <td>shot</td>\n",
       "      <td>vehicle</td>\n",
       "      <td>26.0</td>\n",
       "      <td>M</td>\n",
       "      <td>Black</td>\n",
       "      <td>North Las Vegas</td>\n",
       "      <td>NV</td>\n",
       "      <td>False</td>\n",
       "      <td>attack</td>\n",
       "      <td>Car</td>\n",
       "      <td>True</td>\n",
       "      <td>Vehicles</td>\n",
       "      <td>2020</td>\n",
       "      <td>January</td>\n",
       "    </tr>\n",
       "    <tr>\n",
       "      <th>...</th>\n",
       "      <td>...</td>\n",
       "      <td>...</td>\n",
       "      <td>...</td>\n",
       "      <td>...</td>\n",
       "      <td>...</td>\n",
       "      <td>...</td>\n",
       "      <td>...</td>\n",
       "      <td>...</td>\n",
       "      <td>...</td>\n",
       "      <td>...</td>\n",
       "      <td>...</td>\n",
       "      <td>...</td>\n",
       "      <td>...</td>\n",
       "      <td>...</td>\n",
       "      <td>...</td>\n",
       "    </tr>\n",
       "    <tr>\n",
       "      <th>2020-06-12</th>\n",
       "      <td>Rayshard Brooks</td>\n",
       "      <td>shot</td>\n",
       "      <td>Taser</td>\n",
       "      <td>27.0</td>\n",
       "      <td>M</td>\n",
       "      <td>Black</td>\n",
       "      <td>Atlanta</td>\n",
       "      <td>GA</td>\n",
       "      <td>False</td>\n",
       "      <td>attack</td>\n",
       "      <td>Foot</td>\n",
       "      <td>True</td>\n",
       "      <td>Electrical devices</td>\n",
       "      <td>2020</td>\n",
       "      <td>June</td>\n",
       "    </tr>\n",
       "    <tr>\n",
       "      <th>2020-06-12</th>\n",
       "      <td>Caine Van Pelt</td>\n",
       "      <td>shot</td>\n",
       "      <td>gun</td>\n",
       "      <td>23.0</td>\n",
       "      <td>M</td>\n",
       "      <td>Black</td>\n",
       "      <td>Crown Point</td>\n",
       "      <td>IN</td>\n",
       "      <td>False</td>\n",
       "      <td>attack</td>\n",
       "      <td>Car</td>\n",
       "      <td>False</td>\n",
       "      <td>Guns</td>\n",
       "      <td>2020</td>\n",
       "      <td>June</td>\n",
       "    </tr>\n",
       "    <tr>\n",
       "      <th>2020-06-13</th>\n",
       "      <td>Hannah Fizer</td>\n",
       "      <td>shot</td>\n",
       "      <td>unarmed</td>\n",
       "      <td>25.0</td>\n",
       "      <td>F</td>\n",
       "      <td>White</td>\n",
       "      <td>Sedalia</td>\n",
       "      <td>MO</td>\n",
       "      <td>False</td>\n",
       "      <td>other</td>\n",
       "      <td>Not fleeing</td>\n",
       "      <td>False</td>\n",
       "      <td>Unarmed</td>\n",
       "      <td>2020</td>\n",
       "      <td>June</td>\n",
       "    </tr>\n",
       "    <tr>\n",
       "      <th>2020-06-13</th>\n",
       "      <td>William Slyter</td>\n",
       "      <td>shot</td>\n",
       "      <td>gun</td>\n",
       "      <td>22.0</td>\n",
       "      <td>M</td>\n",
       "      <td>White</td>\n",
       "      <td>Kansas City</td>\n",
       "      <td>MO</td>\n",
       "      <td>False</td>\n",
       "      <td>other</td>\n",
       "      <td>Other</td>\n",
       "      <td>False</td>\n",
       "      <td>Guns</td>\n",
       "      <td>2020</td>\n",
       "      <td>June</td>\n",
       "    </tr>\n",
       "    <tr>\n",
       "      <th>2020-06-15</th>\n",
       "      <td>Nicholas Hirsh</td>\n",
       "      <td>shot</td>\n",
       "      <td>gun</td>\n",
       "      <td>31.0</td>\n",
       "      <td>M</td>\n",
       "      <td>White</td>\n",
       "      <td>Lawrence</td>\n",
       "      <td>KS</td>\n",
       "      <td>False</td>\n",
       "      <td>attack</td>\n",
       "      <td>Car</td>\n",
       "      <td>False</td>\n",
       "      <td>Guns</td>\n",
       "      <td>2020</td>\n",
       "      <td>June</td>\n",
       "    </tr>\n",
       "  </tbody>\n",
       "</table>\n",
       "<p>374 rows × 15 columns</p>\n",
       "</div>"
      ],
      "text/plain": [
       "                                      name   manner_of_death       armed  \\\n",
       "date                                                                       \n",
       "2020-01-01               Derrick A. Elseth              shot         gun   \n",
       "2020-01-01  Gerardo Antonio Conchas-Bustas              shot       knife   \n",
       "2020-01-01              Gabriel Strickland  shot and Tasered  toy weapon   \n",
       "2020-01-02            Jeffery Dale Millsap              shot         gun   \n",
       "2020-01-02            Jamari Daiwon Tarver              shot     vehicle   \n",
       "...                                    ...               ...         ...   \n",
       "2020-06-12                 Rayshard Brooks              shot       Taser   \n",
       "2020-06-12                  Caine Van Pelt              shot         gun   \n",
       "2020-06-13                    Hannah Fizer              shot     unarmed   \n",
       "2020-06-13                  William Slyter              shot         gun   \n",
       "2020-06-15                  Nicholas Hirsh              shot         gun   \n",
       "\n",
       "             age gender   race             city state  \\\n",
       "date                                                    \n",
       "2020-01-01  24.0      M  White  Richmond County    VA   \n",
       "2020-01-01  20.0      M  Other           Denver    CO   \n",
       "2020-01-01  25.0      M  White     Grass Valley    CA   \n",
       "2020-01-02  26.0      M  White             Holt    MO   \n",
       "2020-01-02  26.0      M  Black  North Las Vegas    NV   \n",
       "...          ...    ...    ...              ...   ...   \n",
       "2020-06-12  27.0      M  Black          Atlanta    GA   \n",
       "2020-06-12  23.0      M  Black      Crown Point    IN   \n",
       "2020-06-13  25.0      F  White          Sedalia    MO   \n",
       "2020-06-13  22.0      M  White      Kansas City    MO   \n",
       "2020-06-15  31.0      M  White         Lawrence    KS   \n",
       "\n",
       "            signs_of_mental_illness threat_level         flee  body_camera  \\\n",
       "date                                                                         \n",
       "2020-01-01                    False        other  Not fleeing        False   \n",
       "2020-01-01                    False       attack  Not fleeing         True   \n",
       "2020-01-01                     True       attack  Not fleeing        False   \n",
       "2020-01-02                    False       attack          Car        False   \n",
       "2020-01-02                    False       attack          Car         True   \n",
       "...                             ...          ...          ...          ...   \n",
       "2020-06-12                    False       attack         Foot         True   \n",
       "2020-06-12                    False       attack          Car        False   \n",
       "2020-06-13                    False        other  Not fleeing        False   \n",
       "2020-06-13                    False        other        Other        False   \n",
       "2020-06-15                    False       attack          Car        False   \n",
       "\n",
       "                    arms_category  year    month  \n",
       "date                                              \n",
       "2020-01-01                   Guns  2020  January  \n",
       "2020-01-01          Sharp objects  2020  January  \n",
       "2020-01-01  Other unusual objects  2020  January  \n",
       "2020-01-02                   Guns  2020  January  \n",
       "2020-01-02               Vehicles  2020  January  \n",
       "...                           ...   ...      ...  \n",
       "2020-06-12     Electrical devices  2020     June  \n",
       "2020-06-12                   Guns  2020     June  \n",
       "2020-06-13                Unarmed  2020     June  \n",
       "2020-06-13                   Guns  2020     June  \n",
       "2020-06-15                   Guns  2020     June  \n",
       "\n",
       "[374 rows x 15 columns]"
      ]
     },
     "execution_count": 27,
     "metadata": {},
     "output_type": "execute_result"
    }
   ],
   "source": [
    "data[data[\"year\"]==2020]"
   ]
  },
  {
   "cell_type": "code",
   "execution_count": 28,
   "metadata": {},
   "outputs": [
    {
     "data": {
      "text/html": [
       "<div>\n",
       "<style scoped>\n",
       "    .dataframe tbody tr th:only-of-type {\n",
       "        vertical-align: middle;\n",
       "    }\n",
       "\n",
       "    .dataframe tbody tr th {\n",
       "        vertical-align: top;\n",
       "    }\n",
       "\n",
       "    .dataframe thead th {\n",
       "        text-align: right;\n",
       "    }\n",
       "</style>\n",
       "<table border=\"1\" class=\"dataframe\">\n",
       "  <thead>\n",
       "    <tr style=\"text-align: right;\">\n",
       "      <th></th>\n",
       "      <th>name</th>\n",
       "      <th>manner_of_death</th>\n",
       "      <th>armed</th>\n",
       "      <th>age</th>\n",
       "      <th>gender</th>\n",
       "      <th>race</th>\n",
       "      <th>city</th>\n",
       "      <th>state</th>\n",
       "      <th>signs_of_mental_illness</th>\n",
       "      <th>threat_level</th>\n",
       "      <th>flee</th>\n",
       "      <th>body_camera</th>\n",
       "      <th>arms_category</th>\n",
       "      <th>year</th>\n",
       "      <th>month</th>\n",
       "    </tr>\n",
       "    <tr>\n",
       "      <th>date</th>\n",
       "      <th></th>\n",
       "      <th></th>\n",
       "      <th></th>\n",
       "      <th></th>\n",
       "      <th></th>\n",
       "      <th></th>\n",
       "      <th></th>\n",
       "      <th></th>\n",
       "      <th></th>\n",
       "      <th></th>\n",
       "      <th></th>\n",
       "      <th></th>\n",
       "      <th></th>\n",
       "      <th></th>\n",
       "      <th></th>\n",
       "    </tr>\n",
       "  </thead>\n",
       "  <tbody>\n",
       "    <tr>\n",
       "      <th>2020-03-12</th>\n",
       "      <td>Breonna Taylor</td>\n",
       "      <td>shot</td>\n",
       "      <td>unarmed</td>\n",
       "      <td>26.0</td>\n",
       "      <td>F</td>\n",
       "      <td>Black</td>\n",
       "      <td>Louisville</td>\n",
       "      <td>KY</td>\n",
       "      <td>False</td>\n",
       "      <td>undetermined</td>\n",
       "      <td>Not fleeing</td>\n",
       "      <td>False</td>\n",
       "      <td>Unarmed</td>\n",
       "      <td>2020</td>\n",
       "      <td>March</td>\n",
       "    </tr>\n",
       "  </tbody>\n",
       "</table>\n",
       "</div>"
      ],
      "text/plain": [
       "                      name manner_of_death    armed   age gender   race  \\\n",
       "date                                                                      \n",
       "2020-03-12  Breonna Taylor            shot  unarmed  26.0      F  Black   \n",
       "\n",
       "                  city state  signs_of_mental_illness  threat_level  \\\n",
       "date                                                                  \n",
       "2020-03-12  Louisville    KY                    False  undetermined   \n",
       "\n",
       "                   flee  body_camera arms_category  year  month  \n",
       "date                                                             \n",
       "2020-03-12  Not fleeing        False       Unarmed  2020  March  "
      ]
     },
     "execution_count": 28,
     "metadata": {},
     "output_type": "execute_result"
    }
   ],
   "source": [
    "data[data[\"name\"].str.contains(\"Breonna\")]"
   ]
  },
  {
   "cell_type": "markdown",
   "metadata": {},
   "source": [
    "Breonna Taylor killing is in the dataset, so we can say it is accurate and up-to-date"
   ]
  },
  {
   "cell_type": "code",
   "execution_count": 29,
   "metadata": {},
   "outputs": [
    {
     "data": {
      "text/plain": [
       "Timestamp('2020-06-15 00:00:00')"
      ]
     },
     "execution_count": 29,
     "metadata": {},
     "output_type": "execute_result"
    }
   ],
   "source": [
    "data.index.max()"
   ]
  },
  {
   "cell_type": "code",
   "execution_count": 30,
   "metadata": {},
   "outputs": [
    {
     "data": {
      "text/html": [
       "<div>\n",
       "<style scoped>\n",
       "    .dataframe tbody tr th:only-of-type {\n",
       "        vertical-align: middle;\n",
       "    }\n",
       "\n",
       "    .dataframe tbody tr th {\n",
       "        vertical-align: top;\n",
       "    }\n",
       "\n",
       "    .dataframe thead th {\n",
       "        text-align: right;\n",
       "    }\n",
       "</style>\n",
       "<table border=\"1\" class=\"dataframe\">\n",
       "  <thead>\n",
       "    <tr style=\"text-align: right;\">\n",
       "      <th></th>\n",
       "      <th>name</th>\n",
       "      <th>manner_of_death</th>\n",
       "      <th>armed</th>\n",
       "      <th>age</th>\n",
       "      <th>gender</th>\n",
       "      <th>race</th>\n",
       "      <th>city</th>\n",
       "      <th>state</th>\n",
       "      <th>signs_of_mental_illness</th>\n",
       "      <th>threat_level</th>\n",
       "      <th>flee</th>\n",
       "      <th>body_camera</th>\n",
       "      <th>arms_category</th>\n",
       "      <th>year</th>\n",
       "      <th>month</th>\n",
       "    </tr>\n",
       "    <tr>\n",
       "      <th>date</th>\n",
       "      <th></th>\n",
       "      <th></th>\n",
       "      <th></th>\n",
       "      <th></th>\n",
       "      <th></th>\n",
       "      <th></th>\n",
       "      <th></th>\n",
       "      <th></th>\n",
       "      <th></th>\n",
       "      <th></th>\n",
       "      <th></th>\n",
       "      <th></th>\n",
       "      <th></th>\n",
       "      <th></th>\n",
       "      <th></th>\n",
       "    </tr>\n",
       "  </thead>\n",
       "  <tbody>\n",
       "    <tr>\n",
       "      <th>2015-01-02</th>\n",
       "      <td>Tim Elliot</td>\n",
       "      <td>shot</td>\n",
       "      <td>gun</td>\n",
       "      <td>53.0</td>\n",
       "      <td>M</td>\n",
       "      <td>Asian</td>\n",
       "      <td>Shelton</td>\n",
       "      <td>WA</td>\n",
       "      <td>True</td>\n",
       "      <td>attack</td>\n",
       "      <td>Not fleeing</td>\n",
       "      <td>False</td>\n",
       "      <td>Guns</td>\n",
       "      <td>2015</td>\n",
       "      <td>January</td>\n",
       "    </tr>\n",
       "    <tr>\n",
       "      <th>2015-01-02</th>\n",
       "      <td>Lewis Lee Lembke</td>\n",
       "      <td>shot</td>\n",
       "      <td>gun</td>\n",
       "      <td>47.0</td>\n",
       "      <td>M</td>\n",
       "      <td>White</td>\n",
       "      <td>Aloha</td>\n",
       "      <td>OR</td>\n",
       "      <td>False</td>\n",
       "      <td>attack</td>\n",
       "      <td>Not fleeing</td>\n",
       "      <td>False</td>\n",
       "      <td>Guns</td>\n",
       "      <td>2015</td>\n",
       "      <td>January</td>\n",
       "    </tr>\n",
       "    <tr>\n",
       "      <th>2015-01-03</th>\n",
       "      <td>John Paul Quintero</td>\n",
       "      <td>shot and Tasered</td>\n",
       "      <td>unarmed</td>\n",
       "      <td>23.0</td>\n",
       "      <td>M</td>\n",
       "      <td>Hispanic</td>\n",
       "      <td>Wichita</td>\n",
       "      <td>KS</td>\n",
       "      <td>False</td>\n",
       "      <td>other</td>\n",
       "      <td>Not fleeing</td>\n",
       "      <td>False</td>\n",
       "      <td>Unarmed</td>\n",
       "      <td>2015</td>\n",
       "      <td>January</td>\n",
       "    </tr>\n",
       "    <tr>\n",
       "      <th>2015-01-04</th>\n",
       "      <td>Matthew Hoffman</td>\n",
       "      <td>shot</td>\n",
       "      <td>toy weapon</td>\n",
       "      <td>32.0</td>\n",
       "      <td>M</td>\n",
       "      <td>White</td>\n",
       "      <td>San Francisco</td>\n",
       "      <td>CA</td>\n",
       "      <td>True</td>\n",
       "      <td>attack</td>\n",
       "      <td>Not fleeing</td>\n",
       "      <td>False</td>\n",
       "      <td>Other unusual objects</td>\n",
       "      <td>2015</td>\n",
       "      <td>January</td>\n",
       "    </tr>\n",
       "    <tr>\n",
       "      <th>2015-01-04</th>\n",
       "      <td>Michael Rodriguez</td>\n",
       "      <td>shot</td>\n",
       "      <td>nail gun</td>\n",
       "      <td>39.0</td>\n",
       "      <td>M</td>\n",
       "      <td>Hispanic</td>\n",
       "      <td>Evans</td>\n",
       "      <td>CO</td>\n",
       "      <td>False</td>\n",
       "      <td>attack</td>\n",
       "      <td>Not fleeing</td>\n",
       "      <td>False</td>\n",
       "      <td>Piercing objects</td>\n",
       "      <td>2015</td>\n",
       "      <td>January</td>\n",
       "    </tr>\n",
       "    <tr>\n",
       "      <th>...</th>\n",
       "      <td>...</td>\n",
       "      <td>...</td>\n",
       "      <td>...</td>\n",
       "      <td>...</td>\n",
       "      <td>...</td>\n",
       "      <td>...</td>\n",
       "      <td>...</td>\n",
       "      <td>...</td>\n",
       "      <td>...</td>\n",
       "      <td>...</td>\n",
       "      <td>...</td>\n",
       "      <td>...</td>\n",
       "      <td>...</td>\n",
       "      <td>...</td>\n",
       "      <td>...</td>\n",
       "    </tr>\n",
       "    <tr>\n",
       "      <th>2020-06-12</th>\n",
       "      <td>Rayshard Brooks</td>\n",
       "      <td>shot</td>\n",
       "      <td>Taser</td>\n",
       "      <td>27.0</td>\n",
       "      <td>M</td>\n",
       "      <td>Black</td>\n",
       "      <td>Atlanta</td>\n",
       "      <td>GA</td>\n",
       "      <td>False</td>\n",
       "      <td>attack</td>\n",
       "      <td>Foot</td>\n",
       "      <td>True</td>\n",
       "      <td>Electrical devices</td>\n",
       "      <td>2020</td>\n",
       "      <td>June</td>\n",
       "    </tr>\n",
       "    <tr>\n",
       "      <th>2020-06-12</th>\n",
       "      <td>Caine Van Pelt</td>\n",
       "      <td>shot</td>\n",
       "      <td>gun</td>\n",
       "      <td>23.0</td>\n",
       "      <td>M</td>\n",
       "      <td>Black</td>\n",
       "      <td>Crown Point</td>\n",
       "      <td>IN</td>\n",
       "      <td>False</td>\n",
       "      <td>attack</td>\n",
       "      <td>Car</td>\n",
       "      <td>False</td>\n",
       "      <td>Guns</td>\n",
       "      <td>2020</td>\n",
       "      <td>June</td>\n",
       "    </tr>\n",
       "    <tr>\n",
       "      <th>2020-06-13</th>\n",
       "      <td>Hannah Fizer</td>\n",
       "      <td>shot</td>\n",
       "      <td>unarmed</td>\n",
       "      <td>25.0</td>\n",
       "      <td>F</td>\n",
       "      <td>White</td>\n",
       "      <td>Sedalia</td>\n",
       "      <td>MO</td>\n",
       "      <td>False</td>\n",
       "      <td>other</td>\n",
       "      <td>Not fleeing</td>\n",
       "      <td>False</td>\n",
       "      <td>Unarmed</td>\n",
       "      <td>2020</td>\n",
       "      <td>June</td>\n",
       "    </tr>\n",
       "    <tr>\n",
       "      <th>2020-06-13</th>\n",
       "      <td>William Slyter</td>\n",
       "      <td>shot</td>\n",
       "      <td>gun</td>\n",
       "      <td>22.0</td>\n",
       "      <td>M</td>\n",
       "      <td>White</td>\n",
       "      <td>Kansas City</td>\n",
       "      <td>MO</td>\n",
       "      <td>False</td>\n",
       "      <td>other</td>\n",
       "      <td>Other</td>\n",
       "      <td>False</td>\n",
       "      <td>Guns</td>\n",
       "      <td>2020</td>\n",
       "      <td>June</td>\n",
       "    </tr>\n",
       "    <tr>\n",
       "      <th>2020-06-15</th>\n",
       "      <td>Nicholas Hirsh</td>\n",
       "      <td>shot</td>\n",
       "      <td>gun</td>\n",
       "      <td>31.0</td>\n",
       "      <td>M</td>\n",
       "      <td>White</td>\n",
       "      <td>Lawrence</td>\n",
       "      <td>KS</td>\n",
       "      <td>False</td>\n",
       "      <td>attack</td>\n",
       "      <td>Car</td>\n",
       "      <td>False</td>\n",
       "      <td>Guns</td>\n",
       "      <td>2020</td>\n",
       "      <td>June</td>\n",
       "    </tr>\n",
       "  </tbody>\n",
       "</table>\n",
       "<p>4895 rows × 15 columns</p>\n",
       "</div>"
      ],
      "text/plain": [
       "                          name   manner_of_death       armed   age gender  \\\n",
       "date                                                                        \n",
       "2015-01-02          Tim Elliot              shot         gun  53.0      M   \n",
       "2015-01-02    Lewis Lee Lembke              shot         gun  47.0      M   \n",
       "2015-01-03  John Paul Quintero  shot and Tasered     unarmed  23.0      M   \n",
       "2015-01-04     Matthew Hoffman              shot  toy weapon  32.0      M   \n",
       "2015-01-04   Michael Rodriguez              shot    nail gun  39.0      M   \n",
       "...                        ...               ...         ...   ...    ...   \n",
       "2020-06-12     Rayshard Brooks              shot       Taser  27.0      M   \n",
       "2020-06-12      Caine Van Pelt              shot         gun  23.0      M   \n",
       "2020-06-13        Hannah Fizer              shot     unarmed  25.0      F   \n",
       "2020-06-13      William Slyter              shot         gun  22.0      M   \n",
       "2020-06-15      Nicholas Hirsh              shot         gun  31.0      M   \n",
       "\n",
       "                race           city state  signs_of_mental_illness  \\\n",
       "date                                                                 \n",
       "2015-01-02     Asian        Shelton    WA                     True   \n",
       "2015-01-02     White          Aloha    OR                    False   \n",
       "2015-01-03  Hispanic        Wichita    KS                    False   \n",
       "2015-01-04     White  San Francisco    CA                     True   \n",
       "2015-01-04  Hispanic          Evans    CO                    False   \n",
       "...              ...            ...   ...                      ...   \n",
       "2020-06-12     Black        Atlanta    GA                    False   \n",
       "2020-06-12     Black    Crown Point    IN                    False   \n",
       "2020-06-13     White        Sedalia    MO                    False   \n",
       "2020-06-13     White    Kansas City    MO                    False   \n",
       "2020-06-15     White       Lawrence    KS                    False   \n",
       "\n",
       "           threat_level         flee  body_camera          arms_category  \\\n",
       "date                                                                       \n",
       "2015-01-02       attack  Not fleeing        False                   Guns   \n",
       "2015-01-02       attack  Not fleeing        False                   Guns   \n",
       "2015-01-03        other  Not fleeing        False                Unarmed   \n",
       "2015-01-04       attack  Not fleeing        False  Other unusual objects   \n",
       "2015-01-04       attack  Not fleeing        False       Piercing objects   \n",
       "...                 ...          ...          ...                    ...   \n",
       "2020-06-12       attack         Foot         True     Electrical devices   \n",
       "2020-06-12       attack          Car        False                   Guns   \n",
       "2020-06-13        other  Not fleeing        False                Unarmed   \n",
       "2020-06-13        other        Other        False                   Guns   \n",
       "2020-06-15       attack          Car        False                   Guns   \n",
       "\n",
       "            year    month  \n",
       "date                       \n",
       "2015-01-02  2015  January  \n",
       "2015-01-02  2015  January  \n",
       "2015-01-03  2015  January  \n",
       "2015-01-04  2015  January  \n",
       "2015-01-04  2015  January  \n",
       "...          ...      ...  \n",
       "2020-06-12  2020     June  \n",
       "2020-06-12  2020     June  \n",
       "2020-06-13  2020     June  \n",
       "2020-06-13  2020     June  \n",
       "2020-06-15  2020     June  \n",
       "\n",
       "[4895 rows x 15 columns]"
      ]
     },
     "execution_count": 30,
     "metadata": {},
     "output_type": "execute_result"
    }
   ],
   "source": [
    "data"
   ]
  },
  {
   "cell_type": "code",
   "execution_count": 31,
   "metadata": {},
   "outputs": [],
   "source": [
    "data.drop(\"state\",axis=\"columns\",inplace=True)"
   ]
  },
  {
   "cell_type": "markdown",
   "metadata": {},
   "source": [
    "### MALE TO FEMALE KILLINGS"
   ]
  },
  {
   "cell_type": "code",
   "execution_count": 32,
   "metadata": {},
   "outputs": [
    {
     "data": {
      "text/plain": [
       "95.46475995914199"
      ]
     },
     "execution_count": 32,
     "metadata": {},
     "output_type": "execute_result"
    }
   ],
   "source": [
    "data[\"gender\"].value_counts().loc[\"M\"]/4895*100"
   ]
  },
  {
   "cell_type": "code",
   "execution_count": 33,
   "metadata": {},
   "outputs": [
    {
     "data": {
      "text/plain": [
       "4.535240040858018"
      ]
     },
     "execution_count": 33,
     "metadata": {},
     "output_type": "execute_result"
    }
   ],
   "source": [
    "data[\"gender\"].value_counts().loc[\"F\"]/4895*100"
   ]
  },
  {
   "cell_type": "code",
   "execution_count": 34,
   "metadata": {},
   "outputs": [
    {
     "data": {
      "text/plain": [
       "(array([4673.,    0.,    0.,    0.,    0.,    0.,    0.,    0.,    0.,\n",
       "         222.]),\n",
       " array([0. , 0.1, 0.2, 0.3, 0.4, 0.5, 0.6, 0.7, 0.8, 0.9, 1. ]),\n",
       " <a list of 10 Patch objects>)"
      ]
     },
     "execution_count": 34,
     "metadata": {},
     "output_type": "execute_result"
    },
    {
     "data": {
      "image/png": "[encoded data removed]",
      "text/plain": [
       "<Figure size 1440x720 with 1 Axes>"
      ]
     },
     "metadata": {
      "needs_background": "light"
     },
     "output_type": "display_data"
    }
   ],
   "source": [
    "plt.figure(figsize=(20,10))\n",
    "plt.hist(data[\"gender\"])"
   ]
  },
  {
   "cell_type": "markdown",
   "metadata": {},
   "source": [
    "Up to 95% of the people killed by police shootings were Male"
   ]
  },
  {
   "cell_type": "markdown",
   "metadata": {},
   "source": [
    "And 4.53% of the people killed were Female"
   ]
  },
  {
   "cell_type": "markdown",
   "metadata": {},
   "source": [
    "### PER YEAR"
   ]
  },
  {
   "cell_type": "code",
   "execution_count": 35,
   "metadata": {},
   "outputs": [
    {
     "data": {
      "text/plain": [
       "2015    965\n",
       "2017    906\n",
       "2016    904\n",
       "2018    888\n",
       "2019    858\n",
       "2020    374\n",
       "Name: year, dtype: int64"
      ]
     },
     "execution_count": 35,
     "metadata": {},
     "output_type": "execute_result"
    }
   ],
   "source": [
    "data[\"year\"].value_counts()"
   ]
  },
  {
   "cell_type": "code",
   "execution_count": 36,
   "metadata": {},
   "outputs": [
    {
     "data": {
      "text/plain": [
       "(array([965.,   0., 904.,   0., 906.,   0., 888.,   0., 858., 374.]),\n",
       " array([2015. , 2015.5, 2016. , 2016.5, 2017. , 2017.5, 2018. , 2018.5,\n",
       "        2019. , 2019.5, 2020. ]),\n",
       " <a list of 10 Patch objects>)"
      ]
     },
     "execution_count": 36,
     "metadata": {},
     "output_type": "execute_result"
    },
    {
     "data": {
      "image/png": "[encoded data removed]",
      "text/plain": [
       "<Figure size 432x288 with 1 Axes>"
      ]
     },
     "metadata": {
      "needs_background": "light"
     },
     "output_type": "display_data"
    }
   ],
   "source": [
    "plt.hist(data[\"year\"])"
   ]
  },
  {
   "cell_type": "code",
   "execution_count": 37,
   "metadata": {},
   "outputs": [
    {
     "data": {
      "text/plain": [
       "19.71399387129724"
      ]
     },
     "execution_count": 37,
     "metadata": {},
     "output_type": "execute_result"
    }
   ],
   "source": [
    "(data[\"year\"].value_counts().loc[2015]/data.shape[0])*100"
   ]
  },
  {
   "cell_type": "code",
   "execution_count": 38,
   "metadata": {},
   "outputs": [
    {
     "data": {
      "text/plain": [
       "18.46782431052094"
      ]
     },
     "execution_count": 38,
     "metadata": {},
     "output_type": "execute_result"
    }
   ],
   "source": [
    "(data[\"year\"].value_counts().loc[2016]/data.shape[0])*100"
   ]
  },
  {
   "cell_type": "code",
   "execution_count": 39,
   "metadata": {},
   "outputs": [
    {
     "data": {
      "text/plain": [
       "18.508682328907046"
      ]
     },
     "execution_count": 39,
     "metadata": {},
     "output_type": "execute_result"
    }
   ],
   "source": [
    "(data[\"year\"].value_counts().loc[2017]/data.shape[0])*100"
   ]
  },
  {
   "cell_type": "code",
   "execution_count": 40,
   "metadata": {},
   "outputs": [
    {
     "data": {
      "text/plain": [
       "18.140960163432073"
      ]
     },
     "execution_count": 40,
     "metadata": {},
     "output_type": "execute_result"
    }
   ],
   "source": [
    "(data[\"year\"].value_counts().loc[2018]/data.shape[0])*100"
   ]
  },
  {
   "cell_type": "code",
   "execution_count": 41,
   "metadata": {},
   "outputs": [
    {
     "data": {
      "text/plain": [
       "17.528089887640448"
      ]
     },
     "execution_count": 41,
     "metadata": {},
     "output_type": "execute_result"
    }
   ],
   "source": [
    "(data[\"year\"].value_counts().loc[2019]/data.shape[0])*100"
   ]
  },
  {
   "cell_type": "code",
   "execution_count": 42,
   "metadata": {},
   "outputs": [
    {
     "data": {
      "text/plain": [
       "7.640449438202247"
      ]
     },
     "execution_count": 42,
     "metadata": {},
     "output_type": "execute_result"
    }
   ],
   "source": [
    "(data[\"year\"].value_counts().loc[2020]/data.shape[0])*100"
   ]
  },
  {
   "cell_type": "markdown",
   "metadata": {},
   "source": [
    "We see that for the past five years\n",
    "<br>2015 has the most deaths from police shooting with 19.7%\n",
    "<br>2017 has the second most deaths from police shooting with 18.50%\n",
    "<br>2016 has the third deaths from police shooting with 18.46%\n",
    "<br>2018 has  18.14% deaths from police shooting\n",
    "<br>2019 has  17.52% deaths from police shooting\n",
    "<br>2020 has  7.64% deaths from police shooting\n",
    "\n"
   ]
  },
  {
   "cell_type": "markdown",
   "metadata": {},
   "source": [
    "### PER RACE"
   ]
  },
  {
   "cell_type": "code",
   "execution_count": 43,
   "metadata": {},
   "outputs": [
    {
     "data": {
      "text/plain": [
       "White       2476\n",
       "Black       1298\n",
       "Hispanic     902\n",
       "Asian         93\n",
       "Native        78\n",
       "Other         48\n",
       "Name: race, dtype: int64"
      ]
     },
     "execution_count": 43,
     "metadata": {},
     "output_type": "execute_result"
    }
   ],
   "source": [
    "data[\"race\"].value_counts()"
   ]
  },
  {
   "cell_type": "code",
   "execution_count": 44,
   "metadata": {},
   "outputs": [
    {
     "data": {
      "text/plain": [
       "(array([  93.,    0., 2476.,    0.,  902.,    0., 1298.,    0.,   48.,\n",
       "          78.]),\n",
       " array([0. , 0.5, 1. , 1.5, 2. , 2.5, 3. , 3.5, 4. , 4.5, 5. ]),\n",
       " <a list of 10 Patch objects>)"
      ]
     },
     "execution_count": 44,
     "metadata": {},
     "output_type": "execute_result"
    },
    {
     "data": {
      "image/png": "[encoded data removed]",
      "text/plain": [
       "<Figure size 432x288 with 1 Axes>"
      ]
     },
     "metadata": {
      "needs_background": "light"
     },
     "output_type": "display_data"
    }
   ],
   "source": [
    "plt.hist(data[\"race\"])"
   ]
  },
  {
   "cell_type": "code",
   "execution_count": 45,
   "metadata": {},
   "outputs": [
    {
     "data": {
      "text/plain": [
       "50.582226762002044"
      ]
     },
     "execution_count": 45,
     "metadata": {},
     "output_type": "execute_result"
    }
   ],
   "source": [
    "data[\"race\"].value_counts().loc[\"White\"]/data.shape[0]*100"
   ]
  },
  {
   "cell_type": "code",
   "execution_count": 46,
   "metadata": {},
   "outputs": [
    {
     "data": {
      "text/plain": [
       "26.516853932584272"
      ]
     },
     "execution_count": 46,
     "metadata": {},
     "output_type": "execute_result"
    }
   ],
   "source": [
    "data[\"race\"].value_counts().loc[\"Black\"]/data.shape[0]*100"
   ]
  },
  {
   "cell_type": "markdown",
   "metadata": {},
   "source": [
    "51% of the deaths were whites while 27% were blacks"
   ]
  },
  {
   "cell_type": "markdown",
   "metadata": {},
   "source": [
    "### CAUGHT ON BODY CAM"
   ]
  },
  {
   "cell_type": "code",
   "execution_count": 47,
   "metadata": {},
   "outputs": [
    {
     "data": {
      "text/plain": [
       "False    4317\n",
       "True      578\n",
       "Name: body_camera, dtype: int64"
      ]
     },
     "execution_count": 47,
     "metadata": {},
     "output_type": "execute_result"
    }
   ],
   "source": [
    "data[\"body_camera\"].value_counts()"
   ]
  },
  {
   "cell_type": "markdown",
   "metadata": {},
   "source": [
    "Most of the deaths were not caught on body cam"
   ]
  },
  {
   "cell_type": "markdown",
   "metadata": {},
   "source": [
    "### PER MONTH"
   ]
  },
  {
   "cell_type": "code",
   "execution_count": 48,
   "metadata": {},
   "outputs": [
    {
     "data": {
      "text/plain": [
       "January      505\n",
       "March        503\n",
       "February     462\n",
       "April        430\n",
       "May          418\n",
       "July         413\n",
       "June         399\n",
       "August       371\n",
       "October      367\n",
       "November     354\n",
       "December     345\n",
       "September    328\n",
       "Name: month, dtype: int64"
      ]
     },
     "execution_count": 48,
     "metadata": {},
     "output_type": "execute_result"
    }
   ],
   "source": [
    "data[\"month\"].value_counts()"
   ]
  },
  {
   "cell_type": "code",
   "execution_count": 49,
   "metadata": {},
   "outputs": [
    {
     "data": {
      "text/plain": [
       "(array([967., 503., 430., 418., 399., 413., 371., 328., 367., 699.]),\n",
       " array([ 0. ,  1.1,  2.2,  3.3,  4.4,  5.5,  6.6,  7.7,  8.8,  9.9, 11. ]),\n",
       " <a list of 10 Patch objects>)"
      ]
     },
     "execution_count": 49,
     "metadata": {},
     "output_type": "execute_result"
    },
    {
     "data": {
      "image/png": "[encoded data removed]",
      "text/plain": [
       "<Figure size 1440x720 with 1 Axes>"
      ]
     },
     "metadata": {
      "needs_background": "light"
     },
     "output_type": "display_data"
    }
   ],
   "source": [
    "%matplotlib inline\n",
    "plt.figure(figsize=(20,10))\n",
    "plt.hist(data.index.month_name())"
   ]
  },
  {
   "cell_type": "markdown",
   "metadata": {},
   "source": [
    "Most of the deaths were recorded in January"
   ]
  },
  {
   "cell_type": "markdown",
   "metadata": {},
   "source": [
    "### METHOD OF KILL"
   ]
  },
  {
   "cell_type": "code",
   "execution_count": 50,
   "metadata": {},
   "outputs": [
    {
     "data": {
      "text/html": [
       "<div>\n",
       "<style scoped>\n",
       "    .dataframe tbody tr th:only-of-type {\n",
       "        vertical-align: middle;\n",
       "    }\n",
       "\n",
       "    .dataframe tbody tr th {\n",
       "        vertical-align: top;\n",
       "    }\n",
       "\n",
       "    .dataframe thead th {\n",
       "        text-align: right;\n",
       "    }\n",
       "</style>\n",
       "<table border=\"1\" class=\"dataframe\">\n",
       "  <thead>\n",
       "    <tr style=\"text-align: right;\">\n",
       "      <th></th>\n",
       "      <th>name</th>\n",
       "      <th>manner_of_death</th>\n",
       "      <th>armed</th>\n",
       "      <th>age</th>\n",
       "      <th>gender</th>\n",
       "      <th>race</th>\n",
       "      <th>city</th>\n",
       "      <th>signs_of_mental_illness</th>\n",
       "      <th>threat_level</th>\n",
       "      <th>flee</th>\n",
       "      <th>body_camera</th>\n",
       "      <th>arms_category</th>\n",
       "      <th>year</th>\n",
       "      <th>month</th>\n",
       "    </tr>\n",
       "    <tr>\n",
       "      <th>date</th>\n",
       "      <th></th>\n",
       "      <th></th>\n",
       "      <th></th>\n",
       "      <th></th>\n",
       "      <th></th>\n",
       "      <th></th>\n",
       "      <th></th>\n",
       "      <th></th>\n",
       "      <th></th>\n",
       "      <th></th>\n",
       "      <th></th>\n",
       "      <th></th>\n",
       "      <th></th>\n",
       "      <th></th>\n",
       "    </tr>\n",
       "  </thead>\n",
       "  <tbody>\n",
       "    <tr>\n",
       "      <th>2015-01-02</th>\n",
       "      <td>Tim Elliot</td>\n",
       "      <td>shot</td>\n",
       "      <td>gun</td>\n",
       "      <td>53.0</td>\n",
       "      <td>M</td>\n",
       "      <td>Asian</td>\n",
       "      <td>Shelton</td>\n",
       "      <td>True</td>\n",
       "      <td>attack</td>\n",
       "      <td>Not fleeing</td>\n",
       "      <td>False</td>\n",
       "      <td>Guns</td>\n",
       "      <td>2015</td>\n",
       "      <td>January</td>\n",
       "    </tr>\n",
       "    <tr>\n",
       "      <th>2015-01-02</th>\n",
       "      <td>Lewis Lee Lembke</td>\n",
       "      <td>shot</td>\n",
       "      <td>gun</td>\n",
       "      <td>47.0</td>\n",
       "      <td>M</td>\n",
       "      <td>White</td>\n",
       "      <td>Aloha</td>\n",
       "      <td>False</td>\n",
       "      <td>attack</td>\n",
       "      <td>Not fleeing</td>\n",
       "      <td>False</td>\n",
       "      <td>Guns</td>\n",
       "      <td>2015</td>\n",
       "      <td>January</td>\n",
       "    </tr>\n",
       "    <tr>\n",
       "      <th>2015-01-03</th>\n",
       "      <td>John Paul Quintero</td>\n",
       "      <td>shot and Tasered</td>\n",
       "      <td>unarmed</td>\n",
       "      <td>23.0</td>\n",
       "      <td>M</td>\n",
       "      <td>Hispanic</td>\n",
       "      <td>Wichita</td>\n",
       "      <td>False</td>\n",
       "      <td>other</td>\n",
       "      <td>Not fleeing</td>\n",
       "      <td>False</td>\n",
       "      <td>Unarmed</td>\n",
       "      <td>2015</td>\n",
       "      <td>January</td>\n",
       "    </tr>\n",
       "    <tr>\n",
       "      <th>2015-01-04</th>\n",
       "      <td>Matthew Hoffman</td>\n",
       "      <td>shot</td>\n",
       "      <td>toy weapon</td>\n",
       "      <td>32.0</td>\n",
       "      <td>M</td>\n",
       "      <td>White</td>\n",
       "      <td>San Francisco</td>\n",
       "      <td>True</td>\n",
       "      <td>attack</td>\n",
       "      <td>Not fleeing</td>\n",
       "      <td>False</td>\n",
       "      <td>Other unusual objects</td>\n",
       "      <td>2015</td>\n",
       "      <td>January</td>\n",
       "    </tr>\n",
       "    <tr>\n",
       "      <th>2015-01-04</th>\n",
       "      <td>Michael Rodriguez</td>\n",
       "      <td>shot</td>\n",
       "      <td>nail gun</td>\n",
       "      <td>39.0</td>\n",
       "      <td>M</td>\n",
       "      <td>Hispanic</td>\n",
       "      <td>Evans</td>\n",
       "      <td>False</td>\n",
       "      <td>attack</td>\n",
       "      <td>Not fleeing</td>\n",
       "      <td>False</td>\n",
       "      <td>Piercing objects</td>\n",
       "      <td>2015</td>\n",
       "      <td>January</td>\n",
       "    </tr>\n",
       "    <tr>\n",
       "      <th>...</th>\n",
       "      <td>...</td>\n",
       "      <td>...</td>\n",
       "      <td>...</td>\n",
       "      <td>...</td>\n",
       "      <td>...</td>\n",
       "      <td>...</td>\n",
       "      <td>...</td>\n",
       "      <td>...</td>\n",
       "      <td>...</td>\n",
       "      <td>...</td>\n",
       "      <td>...</td>\n",
       "      <td>...</td>\n",
       "      <td>...</td>\n",
       "      <td>...</td>\n",
       "    </tr>\n",
       "    <tr>\n",
       "      <th>2020-06-12</th>\n",
       "      <td>Rayshard Brooks</td>\n",
       "      <td>shot</td>\n",
       "      <td>Taser</td>\n",
       "      <td>27.0</td>\n",
       "      <td>M</td>\n",
       "      <td>Black</td>\n",
       "      <td>Atlanta</td>\n",
       "      <td>False</td>\n",
       "      <td>attack</td>\n",
       "      <td>Foot</td>\n",
       "      <td>True</td>\n",
       "      <td>Electrical devices</td>\n",
       "      <td>2020</td>\n",
       "      <td>June</td>\n",
       "    </tr>\n",
       "    <tr>\n",
       "      <th>2020-06-12</th>\n",
       "      <td>Caine Van Pelt</td>\n",
       "      <td>shot</td>\n",
       "      <td>gun</td>\n",
       "      <td>23.0</td>\n",
       "      <td>M</td>\n",
       "      <td>Black</td>\n",
       "      <td>Crown Point</td>\n",
       "      <td>False</td>\n",
       "      <td>attack</td>\n",
       "      <td>Car</td>\n",
       "      <td>False</td>\n",
       "      <td>Guns</td>\n",
       "      <td>2020</td>\n",
       "      <td>June</td>\n",
       "    </tr>\n",
       "    <tr>\n",
       "      <th>2020-06-13</th>\n",
       "      <td>Hannah Fizer</td>\n",
       "      <td>shot</td>\n",
       "      <td>unarmed</td>\n",
       "      <td>25.0</td>\n",
       "      <td>F</td>\n",
       "      <td>White</td>\n",
       "      <td>Sedalia</td>\n",
       "      <td>False</td>\n",
       "      <td>other</td>\n",
       "      <td>Not fleeing</td>\n",
       "      <td>False</td>\n",
       "      <td>Unarmed</td>\n",
       "      <td>2020</td>\n",
       "      <td>June</td>\n",
       "    </tr>\n",
       "    <tr>\n",
       "      <th>2020-06-13</th>\n",
       "      <td>William Slyter</td>\n",
       "      <td>shot</td>\n",
       "      <td>gun</td>\n",
       "      <td>22.0</td>\n",
       "      <td>M</td>\n",
       "      <td>White</td>\n",
       "      <td>Kansas City</td>\n",
       "      <td>False</td>\n",
       "      <td>other</td>\n",
       "      <td>Other</td>\n",
       "      <td>False</td>\n",
       "      <td>Guns</td>\n",
       "      <td>2020</td>\n",
       "      <td>June</td>\n",
       "    </tr>\n",
       "    <tr>\n",
       "      <th>2020-06-15</th>\n",
       "      <td>Nicholas Hirsh</td>\n",
       "      <td>shot</td>\n",
       "      <td>gun</td>\n",
       "      <td>31.0</td>\n",
       "      <td>M</td>\n",
       "      <td>White</td>\n",
       "      <td>Lawrence</td>\n",
       "      <td>False</td>\n",
       "      <td>attack</td>\n",
       "      <td>Car</td>\n",
       "      <td>False</td>\n",
       "      <td>Guns</td>\n",
       "      <td>2020</td>\n",
       "      <td>June</td>\n",
       "    </tr>\n",
       "  </tbody>\n",
       "</table>\n",
       "<p>4895 rows × 14 columns</p>\n",
       "</div>"
      ],
      "text/plain": [
       "                          name   manner_of_death       armed   age gender  \\\n",
       "date                                                                        \n",
       "2015-01-02          Tim Elliot              shot         gun  53.0      M   \n",
       "2015-01-02    Lewis Lee Lembke              shot         gun  47.0      M   \n",
       "2015-01-03  John Paul Quintero  shot and Tasered     unarmed  23.0      M   \n",
       "2015-01-04     Matthew Hoffman              shot  toy weapon  32.0      M   \n",
       "2015-01-04   Michael Rodriguez              shot    nail gun  39.0      M   \n",
       "...                        ...               ...         ...   ...    ...   \n",
       "2020-06-12     Rayshard Brooks              shot       Taser  27.0      M   \n",
       "2020-06-12      Caine Van Pelt              shot         gun  23.0      M   \n",
       "2020-06-13        Hannah Fizer              shot     unarmed  25.0      F   \n",
       "2020-06-13      William Slyter              shot         gun  22.0      M   \n",
       "2020-06-15      Nicholas Hirsh              shot         gun  31.0      M   \n",
       "\n",
       "                race           city  signs_of_mental_illness threat_level  \\\n",
       "date                                                                        \n",
       "2015-01-02     Asian        Shelton                     True       attack   \n",
       "2015-01-02     White          Aloha                    False       attack   \n",
       "2015-01-03  Hispanic        Wichita                    False        other   \n",
       "2015-01-04     White  San Francisco                     True       attack   \n",
       "2015-01-04  Hispanic          Evans                    False       attack   \n",
       "...              ...            ...                      ...          ...   \n",
       "2020-06-12     Black        Atlanta                    False       attack   \n",
       "2020-06-12     Black    Crown Point                    False       attack   \n",
       "2020-06-13     White        Sedalia                    False        other   \n",
       "2020-06-13     White    Kansas City                    False        other   \n",
       "2020-06-15     White       Lawrence                    False       attack   \n",
       "\n",
       "                   flee  body_camera          arms_category  year    month  \n",
       "date                                                                        \n",
       "2015-01-02  Not fleeing        False                   Guns  2015  January  \n",
       "2015-01-02  Not fleeing        False                   Guns  2015  January  \n",
       "2015-01-03  Not fleeing        False                Unarmed  2015  January  \n",
       "2015-01-04  Not fleeing        False  Other unusual objects  2015  January  \n",
       "2015-01-04  Not fleeing        False       Piercing objects  2015  January  \n",
       "...                 ...          ...                    ...   ...      ...  \n",
       "2020-06-12         Foot         True     Electrical devices  2020     June  \n",
       "2020-06-12          Car        False                   Guns  2020     June  \n",
       "2020-06-13  Not fleeing        False                Unarmed  2020     June  \n",
       "2020-06-13        Other        False                   Guns  2020     June  \n",
       "2020-06-15          Car        False                   Guns  2020     June  \n",
       "\n",
       "[4895 rows x 14 columns]"
      ]
     },
     "execution_count": 50,
     "metadata": {},
     "output_type": "execute_result"
    }
   ],
   "source": [
    "data"
   ]
  },
  {
   "cell_type": "code",
   "execution_count": 51,
   "metadata": {},
   "outputs": [
    {
     "data": {
      "text/plain": [
       "shot                4647\n",
       "shot and Tasered     248\n",
       "Name: manner_of_death, dtype: int64"
      ]
     },
     "execution_count": 51,
     "metadata": {},
     "output_type": "execute_result"
    }
   ],
   "source": [
    "data[\"manner_of_death\"].value_counts()"
   ]
  },
  {
   "cell_type": "markdown",
   "metadata": {},
   "source": [
    "All of them were shot "
   ]
  },
  {
   "cell_type": "markdown",
   "metadata": {},
   "source": [
    "### VICTIM'S WEAPON"
   ]
  },
  {
   "cell_type": "code",
   "execution_count": 52,
   "metadata": {},
   "outputs": [
    {
     "data": {
      "text/plain": [
       "gun           2755\n",
       "knife          708\n",
       "unknown        418\n",
       "unarmed        348\n",
       "toy weapon     171\n",
       "              ... \n",
       "flashlight       1\n",
       "air pistol       1\n",
       "motorcycle       1\n",
       "chain saw        1\n",
       "bayonet          1\n",
       "Name: armed, Length: 89, dtype: int64"
      ]
     },
     "execution_count": 52,
     "metadata": {},
     "output_type": "execute_result"
    }
   ],
   "source": [
    "data[\"armed\"].value_counts()"
   ]
  },
  {
   "cell_type": "markdown",
   "metadata": {},
   "source": [
    "### CITY"
   ]
  },
  {
   "cell_type": "code",
   "execution_count": 53,
   "metadata": {},
   "outputs": [
    {
     "data": {
      "text/plain": [
       "Los Angeles     78\n",
       "Phoenix         66\n",
       "Houston         51\n",
       "Las Vegas       41\n",
       "San Antonio     40\n",
       "                ..\n",
       "Atmore           1\n",
       "River Forest     1\n",
       "Monon            1\n",
       "Grand Rapids     1\n",
       "Lake Elmo        1\n",
       "Name: city, Length: 2288, dtype: int64"
      ]
     },
     "execution_count": 53,
     "metadata": {},
     "output_type": "execute_result"
    }
   ],
   "source": [
    "data[\"city\"].value_counts()"
   ]
  },
  {
   "cell_type": "markdown",
   "metadata": {},
   "source": [
    "Most of them happened in Los Angeles"
   ]
  },
  {
   "cell_type": "markdown",
   "metadata": {},
   "source": [
    "### VICTIMS MENTAL HEALTH"
   ]
  },
  {
   "cell_type": "code",
   "execution_count": 54,
   "metadata": {},
   "outputs": [
    {
     "data": {
      "text/plain": [
       "False    3792\n",
       "True     1103\n",
       "Name: signs_of_mental_illness, dtype: int64"
      ]
     },
     "execution_count": 54,
     "metadata": {},
     "output_type": "execute_result"
    }
   ],
   "source": [
    "data[\"signs_of_mental_illness\"].value_counts()"
   ]
  },
  {
   "cell_type": "code",
   "execution_count": 55,
   "metadata": {},
   "outputs": [
    {
     "data": {
      "text/plain": [
       "77.46680286006129"
      ]
     },
     "execution_count": 55,
     "metadata": {},
     "output_type": "execute_result"
    }
   ],
   "source": [
    "data[\"signs_of_mental_illness\"].value_counts().loc[False]/data.shape[0]*100"
   ]
  },
  {
   "cell_type": "markdown",
   "metadata": {},
   "source": [
    "About 77% of the people shot and killed by police were sane "
   ]
  },
  {
   "cell_type": "markdown",
   "metadata": {},
   "source": [
    "### VICTIMS FLEEING"
   ]
  },
  {
   "cell_type": "code",
   "execution_count": 56,
   "metadata": {},
   "outputs": [
    {
     "data": {
      "text/plain": [
       "Not fleeing    3073\n",
       "Car             820\n",
       "Foot            642\n",
       "Other           360\n",
       "Name: flee, dtype: int64"
      ]
     },
     "execution_count": 56,
     "metadata": {},
     "output_type": "execute_result"
    }
   ],
   "source": [
    "data[\"flee\"].value_counts()"
   ]
  },
  {
   "cell_type": "code",
   "execution_count": 57,
   "metadata": {},
   "outputs": [
    {
     "data": {
      "text/plain": [
       "(array([3073.,    0.,    0.,  820.,    0.,    0.,  642.,    0.,    0.,\n",
       "         360.]),\n",
       " array([0. , 0.3, 0.6, 0.9, 1.2, 1.5, 1.8, 2.1, 2.4, 2.7, 3. ]),\n",
       " <a list of 10 Patch objects>)"
      ]
     },
     "execution_count": 57,
     "metadata": {},
     "output_type": "execute_result"
    },
    {
     "data": {
      "image/png": "[encoded data removed]",
      "text/plain": [
       "<Figure size 432x288 with 1 Axes>"
      ]
     },
     "metadata": {
      "needs_background": "light"
     },
     "output_type": "display_data"
    }
   ],
   "source": [
    "plt.hist(data[\"flee\"])"
   ]
  },
  {
   "cell_type": "markdown",
   "metadata": {},
   "source": [
    "Most of the victims were not fleeing"
   ]
  },
  {
   "cell_type": "code",
   "execution_count": 58,
   "metadata": {},
   "outputs": [
    {
     "data": {
      "text/plain": [
       "attack          3160\n",
       "other           1528\n",
       "undetermined     207\n",
       "Name: threat_level, dtype: int64"
      ]
     },
     "execution_count": 58,
     "metadata": {},
     "output_type": "execute_result"
    }
   ],
   "source": [
    "data[\"threat_level\"].value_counts()"
   ]
  },
  {
   "cell_type": "code",
   "execution_count": 59,
   "metadata": {},
   "outputs": [
    {
     "data": {
      "text/plain": [
       "(array([3160.,    0.,    0.,    0.,    0., 1528.,    0.,    0.,    0.,\n",
       "         207.]),\n",
       " array([0. , 0.2, 0.4, 0.6, 0.8, 1. , 1.2, 1.4, 1.6, 1.8, 2. ]),\n",
       " <a list of 10 Patch objects>)"
      ]
     },
     "execution_count": 59,
     "metadata": {},
     "output_type": "execute_result"
    },
    {
     "data": {
      "image/png": "[encoded data removed]",
      "text/plain": [
       "<Figure size 432x288 with 1 Axes>"
      ]
     },
     "metadata": {
      "needs_background": "light"
     },
     "output_type": "display_data"
    }
   ],
   "source": [
    "plt.hist(data[\"threat_level\"])"
   ]
  },
  {
   "cell_type": "code",
   "execution_count": 60,
   "metadata": {},
   "outputs": [
    {
     "data": {
      "text/html": [
       "<div>\n",
       "<style scoped>\n",
       "    .dataframe tbody tr th:only-of-type {\n",
       "        vertical-align: middle;\n",
       "    }\n",
       "\n",
       "    .dataframe tbody tr th {\n",
       "        vertical-align: top;\n",
       "    }\n",
       "\n",
       "    .dataframe thead th {\n",
       "        text-align: right;\n",
       "    }\n",
       "</style>\n",
       "<table border=\"1\" class=\"dataframe\">\n",
       "  <thead>\n",
       "    <tr style=\"text-align: right;\">\n",
       "      <th></th>\n",
       "      <th>name</th>\n",
       "      <th>manner_of_death</th>\n",
       "      <th>armed</th>\n",
       "      <th>age</th>\n",
       "      <th>gender</th>\n",
       "      <th>race</th>\n",
       "      <th>city</th>\n",
       "      <th>signs_of_mental_illness</th>\n",
       "      <th>threat_level</th>\n",
       "      <th>flee</th>\n",
       "      <th>body_camera</th>\n",
       "      <th>arms_category</th>\n",
       "      <th>year</th>\n",
       "      <th>month</th>\n",
       "    </tr>\n",
       "    <tr>\n",
       "      <th>date</th>\n",
       "      <th></th>\n",
       "      <th></th>\n",
       "      <th></th>\n",
       "      <th></th>\n",
       "      <th></th>\n",
       "      <th></th>\n",
       "      <th></th>\n",
       "      <th></th>\n",
       "      <th></th>\n",
       "      <th></th>\n",
       "      <th></th>\n",
       "      <th></th>\n",
       "      <th></th>\n",
       "      <th></th>\n",
       "    </tr>\n",
       "  </thead>\n",
       "  <tbody>\n",
       "    <tr>\n",
       "      <th>2015-01-02</th>\n",
       "      <td>Tim Elliot</td>\n",
       "      <td>shot</td>\n",
       "      <td>gun</td>\n",
       "      <td>53.0</td>\n",
       "      <td>M</td>\n",
       "      <td>Asian</td>\n",
       "      <td>Shelton</td>\n",
       "      <td>True</td>\n",
       "      <td>attack</td>\n",
       "      <td>Not fleeing</td>\n",
       "      <td>False</td>\n",
       "      <td>Guns</td>\n",
       "      <td>2015</td>\n",
       "      <td>January</td>\n",
       "    </tr>\n",
       "    <tr>\n",
       "      <th>2015-01-02</th>\n",
       "      <td>Lewis Lee Lembke</td>\n",
       "      <td>shot</td>\n",
       "      <td>gun</td>\n",
       "      <td>47.0</td>\n",
       "      <td>M</td>\n",
       "      <td>White</td>\n",
       "      <td>Aloha</td>\n",
       "      <td>False</td>\n",
       "      <td>attack</td>\n",
       "      <td>Not fleeing</td>\n",
       "      <td>False</td>\n",
       "      <td>Guns</td>\n",
       "      <td>2015</td>\n",
       "      <td>January</td>\n",
       "    </tr>\n",
       "  </tbody>\n",
       "</table>\n",
       "</div>"
      ],
      "text/plain": [
       "                        name manner_of_death armed   age gender   race  \\\n",
       "date                                                                     \n",
       "2015-01-02        Tim Elliot            shot   gun  53.0      M  Asian   \n",
       "2015-01-02  Lewis Lee Lembke            shot   gun  47.0      M  White   \n",
       "\n",
       "               city  signs_of_mental_illness threat_level         flee  \\\n",
       "date                                                                     \n",
       "2015-01-02  Shelton                     True       attack  Not fleeing   \n",
       "2015-01-02    Aloha                    False       attack  Not fleeing   \n",
       "\n",
       "            body_camera arms_category  year    month  \n",
       "date                                                  \n",
       "2015-01-02        False          Guns  2015  January  \n",
       "2015-01-02        False          Guns  2015  January  "
      ]
     },
     "execution_count": 60,
     "metadata": {},
     "output_type": "execute_result"
    }
   ],
   "source": [
    "data.head(2)"
   ]
  },
  {
   "cell_type": "code",
   "execution_count": 61,
   "metadata": {},
   "outputs": [
    {
     "data": {
      "text/html": [
       "<div>\n",
       "<style scoped>\n",
       "    .dataframe tbody tr th:only-of-type {\n",
       "        vertical-align: middle;\n",
       "    }\n",
       "\n",
       "    .dataframe tbody tr th {\n",
       "        vertical-align: top;\n",
       "    }\n",
       "\n",
       "    .dataframe thead th {\n",
       "        text-align: right;\n",
       "    }\n",
       "</style>\n",
       "<table border=\"1\" class=\"dataframe\">\n",
       "  <thead>\n",
       "    <tr style=\"text-align: right;\">\n",
       "      <th></th>\n",
       "      <th>name</th>\n",
       "      <th>manner_of_death</th>\n",
       "      <th>armed</th>\n",
       "      <th>age</th>\n",
       "      <th>gender</th>\n",
       "      <th>race</th>\n",
       "      <th>city</th>\n",
       "      <th>signs_of_mental_illness</th>\n",
       "      <th>threat_level</th>\n",
       "      <th>flee</th>\n",
       "      <th>body_camera</th>\n",
       "      <th>arms_category</th>\n",
       "      <th>year</th>\n",
       "      <th>month</th>\n",
       "    </tr>\n",
       "    <tr>\n",
       "      <th>date</th>\n",
       "      <th></th>\n",
       "      <th></th>\n",
       "      <th></th>\n",
       "      <th></th>\n",
       "      <th></th>\n",
       "      <th></th>\n",
       "      <th></th>\n",
       "      <th></th>\n",
       "      <th></th>\n",
       "      <th></th>\n",
       "      <th></th>\n",
       "      <th></th>\n",
       "      <th></th>\n",
       "      <th></th>\n",
       "    </tr>\n",
       "  </thead>\n",
       "  <tbody>\n",
       "    <tr>\n",
       "      <th>2015-01-17</th>\n",
       "      <td>Pablo Meza</td>\n",
       "      <td>shot</td>\n",
       "      <td>gun</td>\n",
       "      <td>24.0</td>\n",
       "      <td>M</td>\n",
       "      <td>Hispanic</td>\n",
       "      <td>Los Angeles</td>\n",
       "      <td>False</td>\n",
       "      <td>attack</td>\n",
       "      <td>Not fleeing</td>\n",
       "      <td>False</td>\n",
       "      <td>Guns</td>\n",
       "      <td>2015</td>\n",
       "      <td>January</td>\n",
       "    </tr>\n",
       "    <tr>\n",
       "      <th>2015-04-08</th>\n",
       "      <td>Roberto Rodriguez</td>\n",
       "      <td>shot</td>\n",
       "      <td>gun</td>\n",
       "      <td>39.0</td>\n",
       "      <td>M</td>\n",
       "      <td>Hispanic</td>\n",
       "      <td>Los Angeles</td>\n",
       "      <td>False</td>\n",
       "      <td>attack</td>\n",
       "      <td>Foot</td>\n",
       "      <td>False</td>\n",
       "      <td>Guns</td>\n",
       "      <td>2015</td>\n",
       "      <td>April</td>\n",
       "    </tr>\n",
       "    <tr>\n",
       "      <th>2015-09-15</th>\n",
       "      <td>Carlos Wilhelm</td>\n",
       "      <td>shot</td>\n",
       "      <td>gun</td>\n",
       "      <td>39.0</td>\n",
       "      <td>M</td>\n",
       "      <td>Hispanic</td>\n",
       "      <td>Los Angeles</td>\n",
       "      <td>False</td>\n",
       "      <td>attack</td>\n",
       "      <td>Not fleeing</td>\n",
       "      <td>False</td>\n",
       "      <td>Guns</td>\n",
       "      <td>2015</td>\n",
       "      <td>September</td>\n",
       "    </tr>\n",
       "  </tbody>\n",
       "</table>\n",
       "</div>"
      ],
      "text/plain": [
       "                         name manner_of_death armed   age gender      race  \\\n",
       "date                                                                         \n",
       "2015-01-17         Pablo Meza            shot   gun  24.0      M  Hispanic   \n",
       "2015-04-08  Roberto Rodriguez            shot   gun  39.0      M  Hispanic   \n",
       "2015-09-15     Carlos Wilhelm            shot   gun  39.0      M  Hispanic   \n",
       "\n",
       "                   city  signs_of_mental_illness threat_level         flee  \\\n",
       "date                                                                         \n",
       "2015-01-17  Los Angeles                    False       attack  Not fleeing   \n",
       "2015-04-08  Los Angeles                    False       attack         Foot   \n",
       "2015-09-15  Los Angeles                    False       attack  Not fleeing   \n",
       "\n",
       "            body_camera arms_category  year      month  \n",
       "date                                                    \n",
       "2015-01-17        False          Guns  2015    January  \n",
       "2015-04-08        False          Guns  2015      April  \n",
       "2015-09-15        False          Guns  2015  September  "
      ]
     },
     "execution_count": 61,
     "metadata": {},
     "output_type": "execute_result"
    }
   ],
   "source": [
    "data[(data[\"threat_level\"]==\"attack\")&(data[\"body_camera\"]==False)&(data[\"city\"]==\"Los Angeles\")&(data[\"arms_category\"]==\"Guns\")&(data[\"year\"]==2015)]"
   ]
  },
  {
   "cell_type": "code",
   "execution_count": null,
   "metadata": {},
   "outputs": [],
   "source": []
  },
  {
   "cell_type": "code",
   "execution_count": 62,
   "metadata": {},
   "outputs": [
    {
     "data": {
      "text/html": [
       "<div>\n",
       "<style scoped>\n",
       "    .dataframe tbody tr th:only-of-type {\n",
       "        vertical-align: middle;\n",
       "    }\n",
       "\n",
       "    .dataframe tbody tr th {\n",
       "        vertical-align: top;\n",
       "    }\n",
       "\n",
       "    .dataframe thead th {\n",
       "        text-align: right;\n",
       "    }\n",
       "</style>\n",
       "<table border=\"1\" class=\"dataframe\">\n",
       "  <thead>\n",
       "    <tr style=\"text-align: right;\">\n",
       "      <th></th>\n",
       "      <th>name</th>\n",
       "      <th>manner_of_death</th>\n",
       "      <th>armed</th>\n",
       "      <th>age</th>\n",
       "      <th>gender</th>\n",
       "      <th>race</th>\n",
       "      <th>city</th>\n",
       "      <th>signs_of_mental_illness</th>\n",
       "      <th>threat_level</th>\n",
       "      <th>flee</th>\n",
       "      <th>body_camera</th>\n",
       "      <th>arms_category</th>\n",
       "      <th>year</th>\n",
       "      <th>month</th>\n",
       "    </tr>\n",
       "    <tr>\n",
       "      <th>date</th>\n",
       "      <th></th>\n",
       "      <th></th>\n",
       "      <th></th>\n",
       "      <th></th>\n",
       "      <th></th>\n",
       "      <th></th>\n",
       "      <th></th>\n",
       "      <th></th>\n",
       "      <th></th>\n",
       "      <th></th>\n",
       "      <th></th>\n",
       "      <th></th>\n",
       "      <th></th>\n",
       "      <th></th>\n",
       "    </tr>\n",
       "  </thead>\n",
       "  <tbody>\n",
       "    <tr>\n",
       "      <th>2015-01-02</th>\n",
       "      <td>Tim Elliot</td>\n",
       "      <td>shot</td>\n",
       "      <td>gun</td>\n",
       "      <td>53.0</td>\n",
       "      <td>M</td>\n",
       "      <td>Asian</td>\n",
       "      <td>Shelton</td>\n",
       "      <td>True</td>\n",
       "      <td>attack</td>\n",
       "      <td>Not fleeing</td>\n",
       "      <td>False</td>\n",
       "      <td>Guns</td>\n",
       "      <td>2015</td>\n",
       "      <td>January</td>\n",
       "    </tr>\n",
       "    <tr>\n",
       "      <th>2015-01-02</th>\n",
       "      <td>Lewis Lee Lembke</td>\n",
       "      <td>shot</td>\n",
       "      <td>gun</td>\n",
       "      <td>47.0</td>\n",
       "      <td>M</td>\n",
       "      <td>White</td>\n",
       "      <td>Aloha</td>\n",
       "      <td>False</td>\n",
       "      <td>attack</td>\n",
       "      <td>Not fleeing</td>\n",
       "      <td>False</td>\n",
       "      <td>Guns</td>\n",
       "      <td>2015</td>\n",
       "      <td>January</td>\n",
       "    </tr>\n",
       "    <tr>\n",
       "      <th>2015-01-03</th>\n",
       "      <td>John Paul Quintero</td>\n",
       "      <td>shot and Tasered</td>\n",
       "      <td>unarmed</td>\n",
       "      <td>23.0</td>\n",
       "      <td>M</td>\n",
       "      <td>Hispanic</td>\n",
       "      <td>Wichita</td>\n",
       "      <td>False</td>\n",
       "      <td>other</td>\n",
       "      <td>Not fleeing</td>\n",
       "      <td>False</td>\n",
       "      <td>Unarmed</td>\n",
       "      <td>2015</td>\n",
       "      <td>January</td>\n",
       "    </tr>\n",
       "    <tr>\n",
       "      <th>2015-01-04</th>\n",
       "      <td>Matthew Hoffman</td>\n",
       "      <td>shot</td>\n",
       "      <td>toy weapon</td>\n",
       "      <td>32.0</td>\n",
       "      <td>M</td>\n",
       "      <td>White</td>\n",
       "      <td>San Francisco</td>\n",
       "      <td>True</td>\n",
       "      <td>attack</td>\n",
       "      <td>Not fleeing</td>\n",
       "      <td>False</td>\n",
       "      <td>Other unusual objects</td>\n",
       "      <td>2015</td>\n",
       "      <td>January</td>\n",
       "    </tr>\n",
       "    <tr>\n",
       "      <th>2015-01-04</th>\n",
       "      <td>Michael Rodriguez</td>\n",
       "      <td>shot</td>\n",
       "      <td>nail gun</td>\n",
       "      <td>39.0</td>\n",
       "      <td>M</td>\n",
       "      <td>Hispanic</td>\n",
       "      <td>Evans</td>\n",
       "      <td>False</td>\n",
       "      <td>attack</td>\n",
       "      <td>Not fleeing</td>\n",
       "      <td>False</td>\n",
       "      <td>Piercing objects</td>\n",
       "      <td>2015</td>\n",
       "      <td>January</td>\n",
       "    </tr>\n",
       "  </tbody>\n",
       "</table>\n",
       "</div>"
      ],
      "text/plain": [
       "                          name   manner_of_death       armed   age gender  \\\n",
       "date                                                                        \n",
       "2015-01-02          Tim Elliot              shot         gun  53.0      M   \n",
       "2015-01-02    Lewis Lee Lembke              shot         gun  47.0      M   \n",
       "2015-01-03  John Paul Quintero  shot and Tasered     unarmed  23.0      M   \n",
       "2015-01-04     Matthew Hoffman              shot  toy weapon  32.0      M   \n",
       "2015-01-04   Michael Rodriguez              shot    nail gun  39.0      M   \n",
       "\n",
       "                race           city  signs_of_mental_illness threat_level  \\\n",
       "date                                                                        \n",
       "2015-01-02     Asian        Shelton                     True       attack   \n",
       "2015-01-02     White          Aloha                    False       attack   \n",
       "2015-01-03  Hispanic        Wichita                    False        other   \n",
       "2015-01-04     White  San Francisco                     True       attack   \n",
       "2015-01-04  Hispanic          Evans                    False       attack   \n",
       "\n",
       "                   flee  body_camera          arms_category  year    month  \n",
       "date                                                                        \n",
       "2015-01-02  Not fleeing        False                   Guns  2015  January  \n",
       "2015-01-02  Not fleeing        False                   Guns  2015  January  \n",
       "2015-01-03  Not fleeing        False                Unarmed  2015  January  \n",
       "2015-01-04  Not fleeing        False  Other unusual objects  2015  January  \n",
       "2015-01-04  Not fleeing        False       Piercing objects  2015  January  "
      ]
     },
     "execution_count": 62,
     "metadata": {},
     "output_type": "execute_result"
    }
   ],
   "source": [
    "data.head(5)"
   ]
  },
  {
   "cell_type": "code",
   "execution_count": 63,
   "metadata": {},
   "outputs": [],
   "source": [
    "df2015=data[data[\"year\"]==2015]"
   ]
  },
  {
   "cell_type": "code",
   "execution_count": 64,
   "metadata": {},
   "outputs": [
    {
     "data": {
      "text/html": [
       "<div>\n",
       "<style scoped>\n",
       "    .dataframe tbody tr th:only-of-type {\n",
       "        vertical-align: middle;\n",
       "    }\n",
       "\n",
       "    .dataframe tbody tr th {\n",
       "        vertical-align: top;\n",
       "    }\n",
       "\n",
       "    .dataframe thead th {\n",
       "        text-align: right;\n",
       "    }\n",
       "</style>\n",
       "<table border=\"1\" class=\"dataframe\">\n",
       "  <thead>\n",
       "    <tr style=\"text-align: right;\">\n",
       "      <th></th>\n",
       "      <th>name</th>\n",
       "      <th>manner_of_death</th>\n",
       "      <th>armed</th>\n",
       "      <th>age</th>\n",
       "      <th>gender</th>\n",
       "      <th>race</th>\n",
       "      <th>city</th>\n",
       "      <th>signs_of_mental_illness</th>\n",
       "      <th>threat_level</th>\n",
       "      <th>flee</th>\n",
       "      <th>body_camera</th>\n",
       "      <th>arms_category</th>\n",
       "      <th>year</th>\n",
       "      <th>month</th>\n",
       "    </tr>\n",
       "    <tr>\n",
       "      <th>date</th>\n",
       "      <th></th>\n",
       "      <th></th>\n",
       "      <th></th>\n",
       "      <th></th>\n",
       "      <th></th>\n",
       "      <th></th>\n",
       "      <th></th>\n",
       "      <th></th>\n",
       "      <th></th>\n",
       "      <th></th>\n",
       "      <th></th>\n",
       "      <th></th>\n",
       "      <th></th>\n",
       "      <th></th>\n",
       "    </tr>\n",
       "  </thead>\n",
       "  <tbody>\n",
       "    <tr>\n",
       "      <th>2015-01-02</th>\n",
       "      <td>Tim Elliot</td>\n",
       "      <td>shot</td>\n",
       "      <td>gun</td>\n",
       "      <td>53.000000</td>\n",
       "      <td>M</td>\n",
       "      <td>Asian</td>\n",
       "      <td>Shelton</td>\n",
       "      <td>True</td>\n",
       "      <td>attack</td>\n",
       "      <td>Not fleeing</td>\n",
       "      <td>False</td>\n",
       "      <td>Guns</td>\n",
       "      <td>2015</td>\n",
       "      <td>January</td>\n",
       "    </tr>\n",
       "    <tr>\n",
       "      <th>2015-01-02</th>\n",
       "      <td>Lewis Lee Lembke</td>\n",
       "      <td>shot</td>\n",
       "      <td>gun</td>\n",
       "      <td>47.000000</td>\n",
       "      <td>M</td>\n",
       "      <td>White</td>\n",
       "      <td>Aloha</td>\n",
       "      <td>False</td>\n",
       "      <td>attack</td>\n",
       "      <td>Not fleeing</td>\n",
       "      <td>False</td>\n",
       "      <td>Guns</td>\n",
       "      <td>2015</td>\n",
       "      <td>January</td>\n",
       "    </tr>\n",
       "    <tr>\n",
       "      <th>2015-01-03</th>\n",
       "      <td>John Paul Quintero</td>\n",
       "      <td>shot and Tasered</td>\n",
       "      <td>unarmed</td>\n",
       "      <td>23.000000</td>\n",
       "      <td>M</td>\n",
       "      <td>Hispanic</td>\n",
       "      <td>Wichita</td>\n",
       "      <td>False</td>\n",
       "      <td>other</td>\n",
       "      <td>Not fleeing</td>\n",
       "      <td>False</td>\n",
       "      <td>Unarmed</td>\n",
       "      <td>2015</td>\n",
       "      <td>January</td>\n",
       "    </tr>\n",
       "    <tr>\n",
       "      <th>2015-01-04</th>\n",
       "      <td>Matthew Hoffman</td>\n",
       "      <td>shot</td>\n",
       "      <td>toy weapon</td>\n",
       "      <td>32.000000</td>\n",
       "      <td>M</td>\n",
       "      <td>White</td>\n",
       "      <td>San Francisco</td>\n",
       "      <td>True</td>\n",
       "      <td>attack</td>\n",
       "      <td>Not fleeing</td>\n",
       "      <td>False</td>\n",
       "      <td>Other unusual objects</td>\n",
       "      <td>2015</td>\n",
       "      <td>January</td>\n",
       "    </tr>\n",
       "    <tr>\n",
       "      <th>2015-01-04</th>\n",
       "      <td>Michael Rodriguez</td>\n",
       "      <td>shot</td>\n",
       "      <td>nail gun</td>\n",
       "      <td>39.000000</td>\n",
       "      <td>M</td>\n",
       "      <td>Hispanic</td>\n",
       "      <td>Evans</td>\n",
       "      <td>False</td>\n",
       "      <td>attack</td>\n",
       "      <td>Not fleeing</td>\n",
       "      <td>False</td>\n",
       "      <td>Piercing objects</td>\n",
       "      <td>2015</td>\n",
       "      <td>January</td>\n",
       "    </tr>\n",
       "    <tr>\n",
       "      <th>...</th>\n",
       "      <td>...</td>\n",
       "      <td>...</td>\n",
       "      <td>...</td>\n",
       "      <td>...</td>\n",
       "      <td>...</td>\n",
       "      <td>...</td>\n",
       "      <td>...</td>\n",
       "      <td>...</td>\n",
       "      <td>...</td>\n",
       "      <td>...</td>\n",
       "      <td>...</td>\n",
       "      <td>...</td>\n",
       "      <td>...</td>\n",
       "      <td>...</td>\n",
       "    </tr>\n",
       "    <tr>\n",
       "      <th>2015-12-28</th>\n",
       "      <td>Corey Jason Achstein</td>\n",
       "      <td>shot</td>\n",
       "      <td>toy weapon</td>\n",
       "      <td>28.000000</td>\n",
       "      <td>M</td>\n",
       "      <td>White</td>\n",
       "      <td>Suffolk</td>\n",
       "      <td>False</td>\n",
       "      <td>attack</td>\n",
       "      <td>Not fleeing</td>\n",
       "      <td>True</td>\n",
       "      <td>Other unusual objects</td>\n",
       "      <td>2015</td>\n",
       "      <td>December</td>\n",
       "    </tr>\n",
       "    <tr>\n",
       "      <th>2015-12-29</th>\n",
       "      <td>Siolosega Velega-Nuufolau</td>\n",
       "      <td>shot</td>\n",
       "      <td>knife</td>\n",
       "      <td>50.000000</td>\n",
       "      <td>F</td>\n",
       "      <td>Other</td>\n",
       "      <td>Santa Nella</td>\n",
       "      <td>True</td>\n",
       "      <td>other</td>\n",
       "      <td>Not fleeing</td>\n",
       "      <td>False</td>\n",
       "      <td>Sharp objects</td>\n",
       "      <td>2015</td>\n",
       "      <td>December</td>\n",
       "    </tr>\n",
       "    <tr>\n",
       "      <th>2015-12-29</th>\n",
       "      <td>Tien Hua</td>\n",
       "      <td>shot</td>\n",
       "      <td>unknown</td>\n",
       "      <td>37.117931</td>\n",
       "      <td>M</td>\n",
       "      <td>Asian</td>\n",
       "      <td>Rosemead</td>\n",
       "      <td>False</td>\n",
       "      <td>undetermined</td>\n",
       "      <td>Not fleeing</td>\n",
       "      <td>False</td>\n",
       "      <td>Unknown</td>\n",
       "      <td>2015</td>\n",
       "      <td>December</td>\n",
       "    </tr>\n",
       "    <tr>\n",
       "      <th>2015-12-30</th>\n",
       "      <td>Fred Perez</td>\n",
       "      <td>shot</td>\n",
       "      <td>knife</td>\n",
       "      <td>55.000000</td>\n",
       "      <td>M</td>\n",
       "      <td>Hispanic</td>\n",
       "      <td>Fresno</td>\n",
       "      <td>False</td>\n",
       "      <td>attack</td>\n",
       "      <td>Not fleeing</td>\n",
       "      <td>True</td>\n",
       "      <td>Sharp objects</td>\n",
       "      <td>2015</td>\n",
       "      <td>December</td>\n",
       "    </tr>\n",
       "    <tr>\n",
       "      <th>2015-12-31</th>\n",
       "      <td>Keith Childress</td>\n",
       "      <td>shot</td>\n",
       "      <td>unarmed</td>\n",
       "      <td>23.000000</td>\n",
       "      <td>M</td>\n",
       "      <td>Black</td>\n",
       "      <td>Las Vegas</td>\n",
       "      <td>False</td>\n",
       "      <td>other</td>\n",
       "      <td>Not fleeing</td>\n",
       "      <td>True</td>\n",
       "      <td>Unarmed</td>\n",
       "      <td>2015</td>\n",
       "      <td>December</td>\n",
       "    </tr>\n",
       "  </tbody>\n",
       "</table>\n",
       "<p>965 rows × 14 columns</p>\n",
       "</div>"
      ],
      "text/plain": [
       "                                 name   manner_of_death       armed  \\\n",
       "date                                                                  \n",
       "2015-01-02                 Tim Elliot              shot         gun   \n",
       "2015-01-02           Lewis Lee Lembke              shot         gun   \n",
       "2015-01-03         John Paul Quintero  shot and Tasered     unarmed   \n",
       "2015-01-04            Matthew Hoffman              shot  toy weapon   \n",
       "2015-01-04          Michael Rodriguez              shot    nail gun   \n",
       "...                               ...               ...         ...   \n",
       "2015-12-28       Corey Jason Achstein              shot  toy weapon   \n",
       "2015-12-29  Siolosega Velega-Nuufolau              shot       knife   \n",
       "2015-12-29                   Tien Hua              shot     unknown   \n",
       "2015-12-30                 Fred Perez              shot       knife   \n",
       "2015-12-31            Keith Childress              shot     unarmed   \n",
       "\n",
       "                  age gender      race           city  \\\n",
       "date                                                    \n",
       "2015-01-02  53.000000      M     Asian        Shelton   \n",
       "2015-01-02  47.000000      M     White          Aloha   \n",
       "2015-01-03  23.000000      M  Hispanic        Wichita   \n",
       "2015-01-04  32.000000      M     White  San Francisco   \n",
       "2015-01-04  39.000000      M  Hispanic          Evans   \n",
       "...               ...    ...       ...            ...   \n",
       "2015-12-28  28.000000      M     White        Suffolk   \n",
       "2015-12-29  50.000000      F     Other    Santa Nella   \n",
       "2015-12-29  37.117931      M     Asian       Rosemead   \n",
       "2015-12-30  55.000000      M  Hispanic         Fresno   \n",
       "2015-12-31  23.000000      M     Black      Las Vegas   \n",
       "\n",
       "            signs_of_mental_illness  threat_level         flee  body_camera  \\\n",
       "date                                                                          \n",
       "2015-01-02                     True        attack  Not fleeing        False   \n",
       "2015-01-02                    False        attack  Not fleeing        False   \n",
       "2015-01-03                    False         other  Not fleeing        False   \n",
       "2015-01-04                     True        attack  Not fleeing        False   \n",
       "2015-01-04                    False        attack  Not fleeing        False   \n",
       "...                             ...           ...          ...          ...   \n",
       "2015-12-28                    False        attack  Not fleeing         True   \n",
       "2015-12-29                     True         other  Not fleeing        False   \n",
       "2015-12-29                    False  undetermined  Not fleeing        False   \n",
       "2015-12-30                    False        attack  Not fleeing         True   \n",
       "2015-12-31                    False         other  Not fleeing         True   \n",
       "\n",
       "                    arms_category  year     month  \n",
       "date                                               \n",
       "2015-01-02                   Guns  2015   January  \n",
       "2015-01-02                   Guns  2015   January  \n",
       "2015-01-03                Unarmed  2015   January  \n",
       "2015-01-04  Other unusual objects  2015   January  \n",
       "2015-01-04       Piercing objects  2015   January  \n",
       "...                           ...   ...       ...  \n",
       "2015-12-28  Other unusual objects  2015  December  \n",
       "2015-12-29          Sharp objects  2015  December  \n",
       "2015-12-29                Unknown  2015  December  \n",
       "2015-12-30          Sharp objects  2015  December  \n",
       "2015-12-31                Unarmed  2015  December  \n",
       "\n",
       "[965 rows x 14 columns]"
      ]
     },
     "execution_count": 64,
     "metadata": {},
     "output_type": "execute_result"
    }
   ],
   "source": [
    "df2015"
   ]
  },
  {
   "cell_type": "code",
   "execution_count": 65,
   "metadata": {},
   "outputs": [
    {
     "data": {
      "text/plain": [
       "M    924\n",
       "F     41\n",
       "Name: gender, dtype: int64"
      ]
     },
     "execution_count": 65,
     "metadata": {},
     "output_type": "execute_result"
    }
   ],
   "source": [
    "df2015[\"gender\"].value_counts()"
   ]
  },
  {
   "cell_type": "code",
   "execution_count": 66,
   "metadata": {},
   "outputs": [
    {
     "data": {
      "text/plain": [
       "July         100\n",
       "August        91\n",
       "March         91\n",
       "April         83\n",
       "December      82\n",
       "September     80\n",
       "October       78\n",
       "February      77\n",
       "November      76\n",
       "January       75\n",
       "May           69\n",
       "June          63\n",
       "Name: month, dtype: int64"
      ]
     },
     "execution_count": 66,
     "metadata": {},
     "output_type": "execute_result"
    }
   ],
   "source": [
    "df2015[\"month\"].value_counts()"
   ]
  },
  {
   "cell_type": "markdown",
   "metadata": {},
   "source": [
    "Most of them died in the month of July... A whoooping sum of 100 shootings happened in July 2015"
   ]
  },
  {
   "cell_type": "code",
   "execution_count": 67,
   "metadata": {},
   "outputs": [
    {
     "name": "stderr",
     "output_type": "stream",
     "text": [
      "C:\\Users\\USER\\anaconda3\\lib\\site-packages\\ipykernel_launcher.py:1: SettingWithCopyWarning: \n",
      "A value is trying to be set on a copy of a slice from a DataFrame.\n",
      "Try using .loc[row_indexer,col_indexer] = value instead\n",
      "\n",
      "See the caveats in the documentation: https://pandas.pydata.org/pandas-docs/stable/user_guide/indexing.html#returning-a-view-versus-a-copy\n",
      "  \"\"\"Entry point for launching an IPython kernel.\n"
     ]
    }
   ],
   "source": [
    "df2015[\"week\"]=df2015.index.week"
   ]
  },
  {
   "cell_type": "code",
   "execution_count": 68,
   "metadata": {},
   "outputs": [
    {
     "data": {
      "text/plain": [
       "Austin           3\n",
       "Los Angeles      3\n",
       "Oklahoma City    3\n",
       "Phoenix          2\n",
       "Kansas City      2\n",
       "                ..\n",
       "Opp              1\n",
       "Meadow Vista     1\n",
       "Elizabethtown    1\n",
       "Seneca           1\n",
       "Morristown       1\n",
       "Name: city, Length: 89, dtype: int64"
      ]
     },
     "execution_count": 68,
     "metadata": {},
     "output_type": "execute_result"
    }
   ],
   "source": [
    "df2015[df2015[\"month\"]==\"July\"][\"city\"].value_counts()"
   ]
  },
  {
   "cell_type": "code",
   "execution_count": 69,
   "metadata": {},
   "outputs": [
    {
     "data": {
      "text/plain": [
       "White       497\n",
       "Black       258\n",
       "Hispanic    172\n",
       "Other        15\n",
       "Asian        14\n",
       "Native        9\n",
       "Name: race, dtype: int64"
      ]
     },
     "execution_count": 69,
     "metadata": {},
     "output_type": "execute_result"
    }
   ],
   "source": [
    "df2015[\"race\"].value_counts()"
   ]
  },
  {
   "cell_type": "markdown",
   "metadata": {},
   "source": [
    "Most whites were killed in Oklahoma City and Los Angeles in July 2015... What happened????\n",
    "<br>Let's find out more"
   ]
  },
  {
   "cell_type": "code",
   "execution_count": 70,
   "metadata": {},
   "outputs": [
    {
     "data": {
      "text/plain": [
       "Guns                     57\n",
       "Sharp objects            17\n",
       "Unarmed                   9\n",
       "Unknown                   6\n",
       "Other unusual objects     5\n",
       "Blunt instruments         4\n",
       "Hand tools                1\n",
       "Electrical devices        1\n",
       "Name: arms_category, dtype: int64"
      ]
     },
     "execution_count": 70,
     "metadata": {},
     "output_type": "execute_result"
    }
   ],
   "source": [
    "df2015[df2015[\"month\"]==\"July\"][\"arms_category\"].value_counts()"
   ]
  },
  {
   "cell_type": "markdown",
   "metadata": {},
   "source": [
    "Most of them attacked the officers with guns or other sharp objects"
   ]
  },
  {
   "cell_type": "code",
   "execution_count": null,
   "metadata": {},
   "outputs": [],
   "source": []
  },
  {
   "cell_type": "code",
   "execution_count": null,
   "metadata": {},
   "outputs": [],
   "source": []
  },
  {
   "cell_type": "code",
   "execution_count": null,
   "metadata": {},
   "outputs": [],
   "source": []
  },
  {
   "cell_type": "code",
   "execution_count": 71,
   "metadata": {},
   "outputs": [
    {
     "data": {
      "text/plain": [
       "January      505\n",
       "March        503\n",
       "February     462\n",
       "April        430\n",
       "May          418\n",
       "July         413\n",
       "June         399\n",
       "August       371\n",
       "October      367\n",
       "November     354\n",
       "December     345\n",
       "September    328\n",
       "Name: month, dtype: int64"
      ]
     },
     "execution_count": 71,
     "metadata": {},
     "output_type": "execute_result"
    }
   ],
   "source": [
    "data[\"month\"].value_counts()"
   ]
  },
  {
   "cell_type": "code",
   "execution_count": 72,
   "metadata": {},
   "outputs": [
    {
     "data": {
      "text/plain": [
       "Los Angeles     78\n",
       "Phoenix         66\n",
       "Houston         51\n",
       "Las Vegas       41\n",
       "San Antonio     40\n",
       "                ..\n",
       "Atmore           1\n",
       "River Forest     1\n",
       "Monon            1\n",
       "Grand Rapids     1\n",
       "Lake Elmo        1\n",
       "Name: city, Length: 2288, dtype: int64"
      ]
     },
     "execution_count": 72,
     "metadata": {},
     "output_type": "execute_result"
    }
   ],
   "source": [
    "data[\"city\"].value_counts()"
   ]
  },
  {
   "cell_type": "markdown",
   "metadata": {},
   "source": [
    "Overall, mose deaths happened in Los Angeles and in the month of January  from 2015-2020"
   ]
  },
  {
   "cell_type": "code",
   "execution_count": 73,
   "metadata": {},
   "outputs": [],
   "source": [
    "data[\"day\"]=data.index.day_name()"
   ]
  },
  {
   "cell_type": "code",
   "execution_count": 74,
   "metadata": {},
   "outputs": [],
   "source": [
    "data.drop(\"day\",axis=\"columns\",inplace=True)"
   ]
  },
  {
   "cell_type": "code",
   "execution_count": null,
   "metadata": {},
   "outputs": [],
   "source": []
  },
  {
   "cell_type": "markdown",
   "metadata": {},
   "source": [
    "### HYPOTHESIS"
   ]
  },
  {
   "cell_type": "markdown",
   "metadata": {},
   "source": [
    "Most of the deaths in January from 2015-2020 in Los Angeles was as a result of protests\n",
    "<br>So i collected a protest dataset from  here  \"https://www.kaggle.com/jpmiller/protests-against-police-violence?select=protests.csv\""
   ]
  },
  {
   "cell_type": "code",
   "execution_count": 75,
   "metadata": {},
   "outputs": [
    {
     "data": {
      "text/html": [
       "<div>\n",
       "<style scoped>\n",
       "    .dataframe tbody tr th:only-of-type {\n",
       "        vertical-align: middle;\n",
       "    }\n",
       "\n",
       "    .dataframe tbody tr th {\n",
       "        vertical-align: top;\n",
       "    }\n",
       "\n",
       "    .dataframe thead th {\n",
       "        text-align: right;\n",
       "    }\n",
       "</style>\n",
       "<table border=\"1\" class=\"dataframe\">\n",
       "  <thead>\n",
       "    <tr style=\"text-align: right;\">\n",
       "      <th></th>\n",
       "      <th>name</th>\n",
       "      <th>manner_of_death</th>\n",
       "      <th>armed</th>\n",
       "      <th>age</th>\n",
       "      <th>gender</th>\n",
       "      <th>race</th>\n",
       "      <th>city</th>\n",
       "      <th>signs_of_mental_illness</th>\n",
       "      <th>threat_level</th>\n",
       "      <th>flee</th>\n",
       "      <th>body_camera</th>\n",
       "      <th>arms_category</th>\n",
       "      <th>year</th>\n",
       "      <th>month</th>\n",
       "    </tr>\n",
       "    <tr>\n",
       "      <th>date</th>\n",
       "      <th></th>\n",
       "      <th></th>\n",
       "      <th></th>\n",
       "      <th></th>\n",
       "      <th></th>\n",
       "      <th></th>\n",
       "      <th></th>\n",
       "      <th></th>\n",
       "      <th></th>\n",
       "      <th></th>\n",
       "      <th></th>\n",
       "      <th></th>\n",
       "      <th></th>\n",
       "      <th></th>\n",
       "    </tr>\n",
       "  </thead>\n",
       "  <tbody>\n",
       "    <tr>\n",
       "      <th>2015-01-02</th>\n",
       "      <td>Tim Elliot</td>\n",
       "      <td>shot</td>\n",
       "      <td>gun</td>\n",
       "      <td>53.0</td>\n",
       "      <td>M</td>\n",
       "      <td>Asian</td>\n",
       "      <td>Shelton</td>\n",
       "      <td>True</td>\n",
       "      <td>attack</td>\n",
       "      <td>Not fleeing</td>\n",
       "      <td>False</td>\n",
       "      <td>Guns</td>\n",
       "      <td>2015</td>\n",
       "      <td>January</td>\n",
       "    </tr>\n",
       "    <tr>\n",
       "      <th>2015-01-02</th>\n",
       "      <td>Lewis Lee Lembke</td>\n",
       "      <td>shot</td>\n",
       "      <td>gun</td>\n",
       "      <td>47.0</td>\n",
       "      <td>M</td>\n",
       "      <td>White</td>\n",
       "      <td>Aloha</td>\n",
       "      <td>False</td>\n",
       "      <td>attack</td>\n",
       "      <td>Not fleeing</td>\n",
       "      <td>False</td>\n",
       "      <td>Guns</td>\n",
       "      <td>2015</td>\n",
       "      <td>January</td>\n",
       "    </tr>\n",
       "    <tr>\n",
       "      <th>2015-01-03</th>\n",
       "      <td>John Paul Quintero</td>\n",
       "      <td>shot and Tasered</td>\n",
       "      <td>unarmed</td>\n",
       "      <td>23.0</td>\n",
       "      <td>M</td>\n",
       "      <td>Hispanic</td>\n",
       "      <td>Wichita</td>\n",
       "      <td>False</td>\n",
       "      <td>other</td>\n",
       "      <td>Not fleeing</td>\n",
       "      <td>False</td>\n",
       "      <td>Unarmed</td>\n",
       "      <td>2015</td>\n",
       "      <td>January</td>\n",
       "    </tr>\n",
       "    <tr>\n",
       "      <th>2015-01-04</th>\n",
       "      <td>Matthew Hoffman</td>\n",
       "      <td>shot</td>\n",
       "      <td>toy weapon</td>\n",
       "      <td>32.0</td>\n",
       "      <td>M</td>\n",
       "      <td>White</td>\n",
       "      <td>San Francisco</td>\n",
       "      <td>True</td>\n",
       "      <td>attack</td>\n",
       "      <td>Not fleeing</td>\n",
       "      <td>False</td>\n",
       "      <td>Other unusual objects</td>\n",
       "      <td>2015</td>\n",
       "      <td>January</td>\n",
       "    </tr>\n",
       "    <tr>\n",
       "      <th>2015-01-04</th>\n",
       "      <td>Michael Rodriguez</td>\n",
       "      <td>shot</td>\n",
       "      <td>nail gun</td>\n",
       "      <td>39.0</td>\n",
       "      <td>M</td>\n",
       "      <td>Hispanic</td>\n",
       "      <td>Evans</td>\n",
       "      <td>False</td>\n",
       "      <td>attack</td>\n",
       "      <td>Not fleeing</td>\n",
       "      <td>False</td>\n",
       "      <td>Piercing objects</td>\n",
       "      <td>2015</td>\n",
       "      <td>January</td>\n",
       "    </tr>\n",
       "    <tr>\n",
       "      <th>...</th>\n",
       "      <td>...</td>\n",
       "      <td>...</td>\n",
       "      <td>...</td>\n",
       "      <td>...</td>\n",
       "      <td>...</td>\n",
       "      <td>...</td>\n",
       "      <td>...</td>\n",
       "      <td>...</td>\n",
       "      <td>...</td>\n",
       "      <td>...</td>\n",
       "      <td>...</td>\n",
       "      <td>...</td>\n",
       "      <td>...</td>\n",
       "      <td>...</td>\n",
       "    </tr>\n",
       "    <tr>\n",
       "      <th>2020-06-12</th>\n",
       "      <td>Rayshard Brooks</td>\n",
       "      <td>shot</td>\n",
       "      <td>Taser</td>\n",
       "      <td>27.0</td>\n",
       "      <td>M</td>\n",
       "      <td>Black</td>\n",
       "      <td>Atlanta</td>\n",
       "      <td>False</td>\n",
       "      <td>attack</td>\n",
       "      <td>Foot</td>\n",
       "      <td>True</td>\n",
       "      <td>Electrical devices</td>\n",
       "      <td>2020</td>\n",
       "      <td>June</td>\n",
       "    </tr>\n",
       "    <tr>\n",
       "      <th>2020-06-12</th>\n",
       "      <td>Caine Van Pelt</td>\n",
       "      <td>shot</td>\n",
       "      <td>gun</td>\n",
       "      <td>23.0</td>\n",
       "      <td>M</td>\n",
       "      <td>Black</td>\n",
       "      <td>Crown Point</td>\n",
       "      <td>False</td>\n",
       "      <td>attack</td>\n",
       "      <td>Car</td>\n",
       "      <td>False</td>\n",
       "      <td>Guns</td>\n",
       "      <td>2020</td>\n",
       "      <td>June</td>\n",
       "    </tr>\n",
       "    <tr>\n",
       "      <th>2020-06-13</th>\n",
       "      <td>Hannah Fizer</td>\n",
       "      <td>shot</td>\n",
       "      <td>unarmed</td>\n",
       "      <td>25.0</td>\n",
       "      <td>F</td>\n",
       "      <td>White</td>\n",
       "      <td>Sedalia</td>\n",
       "      <td>False</td>\n",
       "      <td>other</td>\n",
       "      <td>Not fleeing</td>\n",
       "      <td>False</td>\n",
       "      <td>Unarmed</td>\n",
       "      <td>2020</td>\n",
       "      <td>June</td>\n",
       "    </tr>\n",
       "    <tr>\n",
       "      <th>2020-06-13</th>\n",
       "      <td>William Slyter</td>\n",
       "      <td>shot</td>\n",
       "      <td>gun</td>\n",
       "      <td>22.0</td>\n",
       "      <td>M</td>\n",
       "      <td>White</td>\n",
       "      <td>Kansas City</td>\n",
       "      <td>False</td>\n",
       "      <td>other</td>\n",
       "      <td>Other</td>\n",
       "      <td>False</td>\n",
       "      <td>Guns</td>\n",
       "      <td>2020</td>\n",
       "      <td>June</td>\n",
       "    </tr>\n",
       "    <tr>\n",
       "      <th>2020-06-15</th>\n",
       "      <td>Nicholas Hirsh</td>\n",
       "      <td>shot</td>\n",
       "      <td>gun</td>\n",
       "      <td>31.0</td>\n",
       "      <td>M</td>\n",
       "      <td>White</td>\n",
       "      <td>Lawrence</td>\n",
       "      <td>False</td>\n",
       "      <td>attack</td>\n",
       "      <td>Car</td>\n",
       "      <td>False</td>\n",
       "      <td>Guns</td>\n",
       "      <td>2020</td>\n",
       "      <td>June</td>\n",
       "    </tr>\n",
       "  </tbody>\n",
       "</table>\n",
       "<p>4895 rows × 14 columns</p>\n",
       "</div>"
      ],
      "text/plain": [
       "                          name   manner_of_death       armed   age gender  \\\n",
       "date                                                                        \n",
       "2015-01-02          Tim Elliot              shot         gun  53.0      M   \n",
       "2015-01-02    Lewis Lee Lembke              shot         gun  47.0      M   \n",
       "2015-01-03  John Paul Quintero  shot and Tasered     unarmed  23.0      M   \n",
       "2015-01-04     Matthew Hoffman              shot  toy weapon  32.0      M   \n",
       "2015-01-04   Michael Rodriguez              shot    nail gun  39.0      M   \n",
       "...                        ...               ...         ...   ...    ...   \n",
       "2020-06-12     Rayshard Brooks              shot       Taser  27.0      M   \n",
       "2020-06-12      Caine Van Pelt              shot         gun  23.0      M   \n",
       "2020-06-13        Hannah Fizer              shot     unarmed  25.0      F   \n",
       "2020-06-13      William Slyter              shot         gun  22.0      M   \n",
       "2020-06-15      Nicholas Hirsh              shot         gun  31.0      M   \n",
       "\n",
       "                race           city  signs_of_mental_illness threat_level  \\\n",
       "date                                                                        \n",
       "2015-01-02     Asian        Shelton                     True       attack   \n",
       "2015-01-02     White          Aloha                    False       attack   \n",
       "2015-01-03  Hispanic        Wichita                    False        other   \n",
       "2015-01-04     White  San Francisco                     True       attack   \n",
       "2015-01-04  Hispanic          Evans                    False       attack   \n",
       "...              ...            ...                      ...          ...   \n",
       "2020-06-12     Black        Atlanta                    False       attack   \n",
       "2020-06-12     Black    Crown Point                    False       attack   \n",
       "2020-06-13     White        Sedalia                    False        other   \n",
       "2020-06-13     White    Kansas City                    False        other   \n",
       "2020-06-15     White       Lawrence                    False       attack   \n",
       "\n",
       "                   flee  body_camera          arms_category  year    month  \n",
       "date                                                                        \n",
       "2015-01-02  Not fleeing        False                   Guns  2015  January  \n",
       "2015-01-02  Not fleeing        False                   Guns  2015  January  \n",
       "2015-01-03  Not fleeing        False                Unarmed  2015  January  \n",
       "2015-01-04  Not fleeing        False  Other unusual objects  2015  January  \n",
       "2015-01-04  Not fleeing        False       Piercing objects  2015  January  \n",
       "...                 ...          ...                    ...   ...      ...  \n",
       "2020-06-12         Foot         True     Electrical devices  2020     June  \n",
       "2020-06-12          Car        False                   Guns  2020     June  \n",
       "2020-06-13  Not fleeing        False                Unarmed  2020     June  \n",
       "2020-06-13        Other        False                   Guns  2020     June  \n",
       "2020-06-15          Car        False                   Guns  2020     June  \n",
       "\n",
       "[4895 rows x 14 columns]"
      ]
     },
     "execution_count": 75,
     "metadata": {},
     "output_type": "execute_result"
    }
   ],
   "source": [
    "data"
   ]
  },
  {
   "cell_type": "code",
   "execution_count": 76,
   "metadata": {},
   "outputs": [
    {
     "data": {
      "text/html": [
       "<div>\n",
       "<style scoped>\n",
       "    .dataframe tbody tr th:only-of-type {\n",
       "        vertical-align: middle;\n",
       "    }\n",
       "\n",
       "    .dataframe tbody tr th {\n",
       "        vertical-align: top;\n",
       "    }\n",
       "\n",
       "    .dataframe thead th {\n",
       "        text-align: right;\n",
       "    }\n",
       "</style>\n",
       "<table border=\"1\" class=\"dataframe\">\n",
       "  <thead>\n",
       "    <tr style=\"text-align: right;\">\n",
       "      <th></th>\n",
       "      <th>name</th>\n",
       "      <th>manner_of_death</th>\n",
       "      <th>armed</th>\n",
       "      <th>age</th>\n",
       "      <th>gender</th>\n",
       "      <th>race</th>\n",
       "      <th>city</th>\n",
       "      <th>signs_of_mental_illness</th>\n",
       "      <th>threat_level</th>\n",
       "      <th>flee</th>\n",
       "      <th>body_camera</th>\n",
       "      <th>arms_category</th>\n",
       "      <th>year</th>\n",
       "      <th>month</th>\n",
       "    </tr>\n",
       "    <tr>\n",
       "      <th>date</th>\n",
       "      <th></th>\n",
       "      <th></th>\n",
       "      <th></th>\n",
       "      <th></th>\n",
       "      <th></th>\n",
       "      <th></th>\n",
       "      <th></th>\n",
       "      <th></th>\n",
       "      <th></th>\n",
       "      <th></th>\n",
       "      <th></th>\n",
       "      <th></th>\n",
       "      <th></th>\n",
       "      <th></th>\n",
       "    </tr>\n",
       "  </thead>\n",
       "  <tbody>\n",
       "    <tr>\n",
       "      <th>2015-01-02</th>\n",
       "      <td>Tim Elliot</td>\n",
       "      <td>shot</td>\n",
       "      <td>gun</td>\n",
       "      <td>53.000000</td>\n",
       "      <td>M</td>\n",
       "      <td>Asian</td>\n",
       "      <td>Shelton</td>\n",
       "      <td>True</td>\n",
       "      <td>attack</td>\n",
       "      <td>Not fleeing</td>\n",
       "      <td>False</td>\n",
       "      <td>Guns</td>\n",
       "      <td>2015</td>\n",
       "      <td>January</td>\n",
       "    </tr>\n",
       "    <tr>\n",
       "      <th>2015-01-02</th>\n",
       "      <td>Lewis Lee Lembke</td>\n",
       "      <td>shot</td>\n",
       "      <td>gun</td>\n",
       "      <td>47.000000</td>\n",
       "      <td>M</td>\n",
       "      <td>White</td>\n",
       "      <td>Aloha</td>\n",
       "      <td>False</td>\n",
       "      <td>attack</td>\n",
       "      <td>Not fleeing</td>\n",
       "      <td>False</td>\n",
       "      <td>Guns</td>\n",
       "      <td>2015</td>\n",
       "      <td>January</td>\n",
       "    </tr>\n",
       "    <tr>\n",
       "      <th>2015-01-03</th>\n",
       "      <td>John Paul Quintero</td>\n",
       "      <td>shot and Tasered</td>\n",
       "      <td>unarmed</td>\n",
       "      <td>23.000000</td>\n",
       "      <td>M</td>\n",
       "      <td>Hispanic</td>\n",
       "      <td>Wichita</td>\n",
       "      <td>False</td>\n",
       "      <td>other</td>\n",
       "      <td>Not fleeing</td>\n",
       "      <td>False</td>\n",
       "      <td>Unarmed</td>\n",
       "      <td>2015</td>\n",
       "      <td>January</td>\n",
       "    </tr>\n",
       "    <tr>\n",
       "      <th>2015-01-04</th>\n",
       "      <td>Matthew Hoffman</td>\n",
       "      <td>shot</td>\n",
       "      <td>toy weapon</td>\n",
       "      <td>32.000000</td>\n",
       "      <td>M</td>\n",
       "      <td>White</td>\n",
       "      <td>San Francisco</td>\n",
       "      <td>True</td>\n",
       "      <td>attack</td>\n",
       "      <td>Not fleeing</td>\n",
       "      <td>False</td>\n",
       "      <td>Other unusual objects</td>\n",
       "      <td>2015</td>\n",
       "      <td>January</td>\n",
       "    </tr>\n",
       "    <tr>\n",
       "      <th>2015-01-04</th>\n",
       "      <td>Michael Rodriguez</td>\n",
       "      <td>shot</td>\n",
       "      <td>nail gun</td>\n",
       "      <td>39.000000</td>\n",
       "      <td>M</td>\n",
       "      <td>Hispanic</td>\n",
       "      <td>Evans</td>\n",
       "      <td>False</td>\n",
       "      <td>attack</td>\n",
       "      <td>Not fleeing</td>\n",
       "      <td>False</td>\n",
       "      <td>Piercing objects</td>\n",
       "      <td>2015</td>\n",
       "      <td>January</td>\n",
       "    </tr>\n",
       "    <tr>\n",
       "      <th>...</th>\n",
       "      <td>...</td>\n",
       "      <td>...</td>\n",
       "      <td>...</td>\n",
       "      <td>...</td>\n",
       "      <td>...</td>\n",
       "      <td>...</td>\n",
       "      <td>...</td>\n",
       "      <td>...</td>\n",
       "      <td>...</td>\n",
       "      <td>...</td>\n",
       "      <td>...</td>\n",
       "      <td>...</td>\n",
       "      <td>...</td>\n",
       "      <td>...</td>\n",
       "    </tr>\n",
       "    <tr>\n",
       "      <th>2015-12-28</th>\n",
       "      <td>Corey Jason Achstein</td>\n",
       "      <td>shot</td>\n",
       "      <td>toy weapon</td>\n",
       "      <td>28.000000</td>\n",
       "      <td>M</td>\n",
       "      <td>White</td>\n",
       "      <td>Suffolk</td>\n",
       "      <td>False</td>\n",
       "      <td>attack</td>\n",
       "      <td>Not fleeing</td>\n",
       "      <td>True</td>\n",
       "      <td>Other unusual objects</td>\n",
       "      <td>2015</td>\n",
       "      <td>December</td>\n",
       "    </tr>\n",
       "    <tr>\n",
       "      <th>2015-12-29</th>\n",
       "      <td>Siolosega Velega-Nuufolau</td>\n",
       "      <td>shot</td>\n",
       "      <td>knife</td>\n",
       "      <td>50.000000</td>\n",
       "      <td>F</td>\n",
       "      <td>Other</td>\n",
       "      <td>Santa Nella</td>\n",
       "      <td>True</td>\n",
       "      <td>other</td>\n",
       "      <td>Not fleeing</td>\n",
       "      <td>False</td>\n",
       "      <td>Sharp objects</td>\n",
       "      <td>2015</td>\n",
       "      <td>December</td>\n",
       "    </tr>\n",
       "    <tr>\n",
       "      <th>2015-12-29</th>\n",
       "      <td>Tien Hua</td>\n",
       "      <td>shot</td>\n",
       "      <td>unknown</td>\n",
       "      <td>37.117931</td>\n",
       "      <td>M</td>\n",
       "      <td>Asian</td>\n",
       "      <td>Rosemead</td>\n",
       "      <td>False</td>\n",
       "      <td>undetermined</td>\n",
       "      <td>Not fleeing</td>\n",
       "      <td>False</td>\n",
       "      <td>Unknown</td>\n",
       "      <td>2015</td>\n",
       "      <td>December</td>\n",
       "    </tr>\n",
       "    <tr>\n",
       "      <th>2015-12-30</th>\n",
       "      <td>Fred Perez</td>\n",
       "      <td>shot</td>\n",
       "      <td>knife</td>\n",
       "      <td>55.000000</td>\n",
       "      <td>M</td>\n",
       "      <td>Hispanic</td>\n",
       "      <td>Fresno</td>\n",
       "      <td>False</td>\n",
       "      <td>attack</td>\n",
       "      <td>Not fleeing</td>\n",
       "      <td>True</td>\n",
       "      <td>Sharp objects</td>\n",
       "      <td>2015</td>\n",
       "      <td>December</td>\n",
       "    </tr>\n",
       "    <tr>\n",
       "      <th>2015-12-31</th>\n",
       "      <td>Keith Childress</td>\n",
       "      <td>shot</td>\n",
       "      <td>unarmed</td>\n",
       "      <td>23.000000</td>\n",
       "      <td>M</td>\n",
       "      <td>Black</td>\n",
       "      <td>Las Vegas</td>\n",
       "      <td>False</td>\n",
       "      <td>other</td>\n",
       "      <td>Not fleeing</td>\n",
       "      <td>True</td>\n",
       "      <td>Unarmed</td>\n",
       "      <td>2015</td>\n",
       "      <td>December</td>\n",
       "    </tr>\n",
       "  </tbody>\n",
       "</table>\n",
       "<p>965 rows × 14 columns</p>\n",
       "</div>"
      ],
      "text/plain": [
       "                                 name   manner_of_death       armed  \\\n",
       "date                                                                  \n",
       "2015-01-02                 Tim Elliot              shot         gun   \n",
       "2015-01-02           Lewis Lee Lembke              shot         gun   \n",
       "2015-01-03         John Paul Quintero  shot and Tasered     unarmed   \n",
       "2015-01-04            Matthew Hoffman              shot  toy weapon   \n",
       "2015-01-04          Michael Rodriguez              shot    nail gun   \n",
       "...                               ...               ...         ...   \n",
       "2015-12-28       Corey Jason Achstein              shot  toy weapon   \n",
       "2015-12-29  Siolosega Velega-Nuufolau              shot       knife   \n",
       "2015-12-29                   Tien Hua              shot     unknown   \n",
       "2015-12-30                 Fred Perez              shot       knife   \n",
       "2015-12-31            Keith Childress              shot     unarmed   \n",
       "\n",
       "                  age gender      race           city  \\\n",
       "date                                                    \n",
       "2015-01-02  53.000000      M     Asian        Shelton   \n",
       "2015-01-02  47.000000      M     White          Aloha   \n",
       "2015-01-03  23.000000      M  Hispanic        Wichita   \n",
       "2015-01-04  32.000000      M     White  San Francisco   \n",
       "2015-01-04  39.000000      M  Hispanic          Evans   \n",
       "...               ...    ...       ...            ...   \n",
       "2015-12-28  28.000000      M     White        Suffolk   \n",
       "2015-12-29  50.000000      F     Other    Santa Nella   \n",
       "2015-12-29  37.117931      M     Asian       Rosemead   \n",
       "2015-12-30  55.000000      M  Hispanic         Fresno   \n",
       "2015-12-31  23.000000      M     Black      Las Vegas   \n",
       "\n",
       "            signs_of_mental_illness  threat_level         flee  body_camera  \\\n",
       "date                                                                          \n",
       "2015-01-02                     True        attack  Not fleeing        False   \n",
       "2015-01-02                    False        attack  Not fleeing        False   \n",
       "2015-01-03                    False         other  Not fleeing        False   \n",
       "2015-01-04                     True        attack  Not fleeing        False   \n",
       "2015-01-04                    False        attack  Not fleeing        False   \n",
       "...                             ...           ...          ...          ...   \n",
       "2015-12-28                    False        attack  Not fleeing         True   \n",
       "2015-12-29                     True         other  Not fleeing        False   \n",
       "2015-12-29                    False  undetermined  Not fleeing        False   \n",
       "2015-12-30                    False        attack  Not fleeing         True   \n",
       "2015-12-31                    False         other  Not fleeing         True   \n",
       "\n",
       "                    arms_category  year     month  \n",
       "date                                               \n",
       "2015-01-02                   Guns  2015   January  \n",
       "2015-01-02                   Guns  2015   January  \n",
       "2015-01-03                Unarmed  2015   January  \n",
       "2015-01-04  Other unusual objects  2015   January  \n",
       "2015-01-04       Piercing objects  2015   January  \n",
       "...                           ...   ...       ...  \n",
       "2015-12-28  Other unusual objects  2015  December  \n",
       "2015-12-29          Sharp objects  2015  December  \n",
       "2015-12-29                Unknown  2015  December  \n",
       "2015-12-30          Sharp objects  2015  December  \n",
       "2015-12-31                Unarmed  2015  December  \n",
       "\n",
       "[965 rows x 14 columns]"
      ]
     },
     "execution_count": 76,
     "metadata": {},
     "output_type": "execute_result"
    }
   ],
   "source": [
    "data[data.index.year==2015]"
   ]
  },
  {
   "cell_type": "code",
   "execution_count": 77,
   "metadata": {},
   "outputs": [
    {
     "data": {
      "text/plain": [
       "False    3792\n",
       "True     1103\n",
       "Name: signs_of_mental_illness, dtype: int64"
      ]
     },
     "execution_count": 77,
     "metadata": {},
     "output_type": "execute_result"
    }
   ],
   "source": [
    "data[\"signs_of_mental_illness\"].value_counts()"
   ]
  },
  {
   "cell_type": "code",
   "execution_count": 78,
   "metadata": {},
   "outputs": [
    {
     "data": {
      "text/plain": [
       "2015    246\n",
       "2016    231\n",
       "2017    224\n",
       "2018    189\n",
       "2019    168\n",
       "2020     45\n",
       "Name: date, dtype: int64"
      ]
     },
     "execution_count": 78,
     "metadata": {},
     "output_type": "execute_result"
    }
   ],
   "source": [
    "data.index.year[data[\"signs_of_mental_illness\"]==True].value_counts()"
   ]
  },
  {
   "cell_type": "code",
   "execution_count": 79,
   "metadata": {},
   "outputs": [
    {
     "data": {
      "text/plain": [
       "March        131\n",
       "January      120\n",
       "April        106\n",
       "February     102\n",
       "July          93\n",
       "August        88\n",
       "June          87\n",
       "May           86\n",
       "October       77\n",
       "September     76\n",
       "December      73\n",
       "November      64\n",
       "Name: date, dtype: int64"
      ]
     },
     "execution_count": 79,
     "metadata": {},
     "output_type": "execute_result"
    }
   ],
   "source": [
    "data.index.month_name()[data[\"signs_of_mental_illness\"]==True].value_counts()"
   ]
  },
  {
   "cell_type": "code",
   "execution_count": 80,
   "metadata": {},
   "outputs": [
    {
     "data": {
      "text/plain": [
       "2015    924\n",
       "2017    866\n",
       "2016    866\n",
       "2018    840\n",
       "2019    818\n",
       "2020    359\n",
       "Name: date, dtype: int64"
      ]
     },
     "execution_count": 80,
     "metadata": {},
     "output_type": "execute_result"
    }
   ],
   "source": [
    "data.index.year[data[\"gender\"]==\"M\"].value_counts()"
   ]
  },
  {
   "cell_type": "markdown",
   "metadata": {},
   "source": [
    "March,2015 has the most people with mental illnesses "
   ]
  },
  {
   "cell_type": "markdown",
   "metadata": {},
   "source": [
    "### FEMALE KILLINGS ANALYSIS"
   ]
  },
  {
   "cell_type": "code",
   "execution_count": 81,
   "metadata": {},
   "outputs": [],
   "source": [
    "df_female=data[data[\"gender\"]==\"F\"]"
   ]
  },
  {
   "cell_type": "code",
   "execution_count": 82,
   "metadata": {},
   "outputs": [
    {
     "data": {
      "text/html": [
       "<div>\n",
       "<style scoped>\n",
       "    .dataframe tbody tr th:only-of-type {\n",
       "        vertical-align: middle;\n",
       "    }\n",
       "\n",
       "    .dataframe tbody tr th {\n",
       "        vertical-align: top;\n",
       "    }\n",
       "\n",
       "    .dataframe thead th {\n",
       "        text-align: right;\n",
       "    }\n",
       "</style>\n",
       "<table border=\"1\" class=\"dataframe\">\n",
       "  <thead>\n",
       "    <tr style=\"text-align: right;\">\n",
       "      <th></th>\n",
       "      <th>name</th>\n",
       "      <th>manner_of_death</th>\n",
       "      <th>armed</th>\n",
       "      <th>age</th>\n",
       "      <th>gender</th>\n",
       "      <th>race</th>\n",
       "      <th>city</th>\n",
       "      <th>signs_of_mental_illness</th>\n",
       "      <th>threat_level</th>\n",
       "      <th>flee</th>\n",
       "      <th>body_camera</th>\n",
       "      <th>arms_category</th>\n",
       "      <th>year</th>\n",
       "      <th>month</th>\n",
       "    </tr>\n",
       "    <tr>\n",
       "      <th>date</th>\n",
       "      <th></th>\n",
       "      <th></th>\n",
       "      <th></th>\n",
       "      <th></th>\n",
       "      <th></th>\n",
       "      <th></th>\n",
       "      <th></th>\n",
       "      <th></th>\n",
       "      <th></th>\n",
       "      <th></th>\n",
       "      <th></th>\n",
       "      <th></th>\n",
       "      <th></th>\n",
       "      <th></th>\n",
       "    </tr>\n",
       "  </thead>\n",
       "  <tbody>\n",
       "    <tr>\n",
       "      <th>2015-01-06</th>\n",
       "      <td>Autumn Steele</td>\n",
       "      <td>shot</td>\n",
       "      <td>unarmed</td>\n",
       "      <td>34.0</td>\n",
       "      <td>F</td>\n",
       "      <td>White</td>\n",
       "      <td>Burlington</td>\n",
       "      <td>False</td>\n",
       "      <td>other</td>\n",
       "      <td>Not fleeing</td>\n",
       "      <td>True</td>\n",
       "      <td>Unarmed</td>\n",
       "      <td>2015</td>\n",
       "      <td>January</td>\n",
       "    </tr>\n",
       "    <tr>\n",
       "      <th>2015-01-22</th>\n",
       "      <td>Kristiana Coignard</td>\n",
       "      <td>shot and Tasered</td>\n",
       "      <td>knife</td>\n",
       "      <td>17.0</td>\n",
       "      <td>F</td>\n",
       "      <td>White</td>\n",
       "      <td>Longview</td>\n",
       "      <td>True</td>\n",
       "      <td>other</td>\n",
       "      <td>Not fleeing</td>\n",
       "      <td>False</td>\n",
       "      <td>Sharp objects</td>\n",
       "      <td>2015</td>\n",
       "      <td>January</td>\n",
       "    </tr>\n",
       "    <tr>\n",
       "      <th>2015-01-26</th>\n",
       "      <td>Jessie Hernandez</td>\n",
       "      <td>shot</td>\n",
       "      <td>unknown</td>\n",
       "      <td>17.0</td>\n",
       "      <td>F</td>\n",
       "      <td>Hispanic</td>\n",
       "      <td>Denver</td>\n",
       "      <td>False</td>\n",
       "      <td>other</td>\n",
       "      <td>Not fleeing</td>\n",
       "      <td>False</td>\n",
       "      <td>Unknown</td>\n",
       "      <td>2015</td>\n",
       "      <td>January</td>\n",
       "    </tr>\n",
       "    <tr>\n",
       "      <th>2015-01-27</th>\n",
       "      <td>Tiffany Terry</td>\n",
       "      <td>shot</td>\n",
       "      <td>knife</td>\n",
       "      <td>39.0</td>\n",
       "      <td>F</td>\n",
       "      <td>White</td>\n",
       "      <td>Omaha</td>\n",
       "      <td>True</td>\n",
       "      <td>attack</td>\n",
       "      <td>Not fleeing</td>\n",
       "      <td>False</td>\n",
       "      <td>Sharp objects</td>\n",
       "      <td>2015</td>\n",
       "      <td>January</td>\n",
       "    </tr>\n",
       "    <tr>\n",
       "      <th>2015-02-03</th>\n",
       "      <td>Yuvette Henderson</td>\n",
       "      <td>shot</td>\n",
       "      <td>gun</td>\n",
       "      <td>38.0</td>\n",
       "      <td>F</td>\n",
       "      <td>Black</td>\n",
       "      <td>Emeryville</td>\n",
       "      <td>False</td>\n",
       "      <td>attack</td>\n",
       "      <td>Car</td>\n",
       "      <td>False</td>\n",
       "      <td>Guns</td>\n",
       "      <td>2015</td>\n",
       "      <td>February</td>\n",
       "    </tr>\n",
       "    <tr>\n",
       "      <th>...</th>\n",
       "      <td>...</td>\n",
       "      <td>...</td>\n",
       "      <td>...</td>\n",
       "      <td>...</td>\n",
       "      <td>...</td>\n",
       "      <td>...</td>\n",
       "      <td>...</td>\n",
       "      <td>...</td>\n",
       "      <td>...</td>\n",
       "      <td>...</td>\n",
       "      <td>...</td>\n",
       "      <td>...</td>\n",
       "      <td>...</td>\n",
       "      <td>...</td>\n",
       "    </tr>\n",
       "    <tr>\n",
       "      <th>2020-05-05</th>\n",
       "      <td>Sandra Lee Harmon</td>\n",
       "      <td>shot</td>\n",
       "      <td>gun</td>\n",
       "      <td>56.0</td>\n",
       "      <td>F</td>\n",
       "      <td>White</td>\n",
       "      <td>Half Moon Bay</td>\n",
       "      <td>False</td>\n",
       "      <td>attack</td>\n",
       "      <td>Not fleeing</td>\n",
       "      <td>False</td>\n",
       "      <td>Guns</td>\n",
       "      <td>2020</td>\n",
       "      <td>May</td>\n",
       "    </tr>\n",
       "    <tr>\n",
       "      <th>2020-05-26</th>\n",
       "      <td>Tracy Drowne</td>\n",
       "      <td>shot</td>\n",
       "      <td>gun</td>\n",
       "      <td>42.0</td>\n",
       "      <td>F</td>\n",
       "      <td>White</td>\n",
       "      <td>Orlando</td>\n",
       "      <td>False</td>\n",
       "      <td>attack</td>\n",
       "      <td>Not fleeing</td>\n",
       "      <td>False</td>\n",
       "      <td>Guns</td>\n",
       "      <td>2020</td>\n",
       "      <td>May</td>\n",
       "    </tr>\n",
       "    <tr>\n",
       "      <th>2020-05-29</th>\n",
       "      <td>Heba Momtaz Al-Azhari</td>\n",
       "      <td>shot</td>\n",
       "      <td>knife</td>\n",
       "      <td>22.0</td>\n",
       "      <td>F</td>\n",
       "      <td>Other</td>\n",
       "      <td>Temple Terrace</td>\n",
       "      <td>True</td>\n",
       "      <td>attack</td>\n",
       "      <td>Not fleeing</td>\n",
       "      <td>False</td>\n",
       "      <td>Sharp objects</td>\n",
       "      <td>2020</td>\n",
       "      <td>May</td>\n",
       "    </tr>\n",
       "    <tr>\n",
       "      <th>2020-06-03</th>\n",
       "      <td>Mary Lawrence</td>\n",
       "      <td>shot</td>\n",
       "      <td>knife</td>\n",
       "      <td>39.0</td>\n",
       "      <td>F</td>\n",
       "      <td>White</td>\n",
       "      <td>Poteau</td>\n",
       "      <td>False</td>\n",
       "      <td>other</td>\n",
       "      <td>Not fleeing</td>\n",
       "      <td>False</td>\n",
       "      <td>Sharp objects</td>\n",
       "      <td>2020</td>\n",
       "      <td>June</td>\n",
       "    </tr>\n",
       "    <tr>\n",
       "      <th>2020-06-13</th>\n",
       "      <td>Hannah Fizer</td>\n",
       "      <td>shot</td>\n",
       "      <td>unarmed</td>\n",
       "      <td>25.0</td>\n",
       "      <td>F</td>\n",
       "      <td>White</td>\n",
       "      <td>Sedalia</td>\n",
       "      <td>False</td>\n",
       "      <td>other</td>\n",
       "      <td>Not fleeing</td>\n",
       "      <td>False</td>\n",
       "      <td>Unarmed</td>\n",
       "      <td>2020</td>\n",
       "      <td>June</td>\n",
       "    </tr>\n",
       "  </tbody>\n",
       "</table>\n",
       "<p>222 rows × 14 columns</p>\n",
       "</div>"
      ],
      "text/plain": [
       "                             name   manner_of_death    armed   age gender  \\\n",
       "date                                                                        \n",
       "2015-01-06          Autumn Steele              shot  unarmed  34.0      F   \n",
       "2015-01-22     Kristiana Coignard  shot and Tasered    knife  17.0      F   \n",
       "2015-01-26       Jessie Hernandez              shot  unknown  17.0      F   \n",
       "2015-01-27          Tiffany Terry              shot    knife  39.0      F   \n",
       "2015-02-03      Yuvette Henderson              shot      gun  38.0      F   \n",
       "...                           ...               ...      ...   ...    ...   \n",
       "2020-05-05      Sandra Lee Harmon              shot      gun  56.0      F   \n",
       "2020-05-26           Tracy Drowne              shot      gun  42.0      F   \n",
       "2020-05-29  Heba Momtaz Al-Azhari              shot    knife  22.0      F   \n",
       "2020-06-03          Mary Lawrence              shot    knife  39.0      F   \n",
       "2020-06-13           Hannah Fizer              shot  unarmed  25.0      F   \n",
       "\n",
       "                race            city  signs_of_mental_illness threat_level  \\\n",
       "date                                                                         \n",
       "2015-01-06     White      Burlington                    False        other   \n",
       "2015-01-22     White        Longview                     True        other   \n",
       "2015-01-26  Hispanic          Denver                    False        other   \n",
       "2015-01-27     White           Omaha                     True       attack   \n",
       "2015-02-03     Black      Emeryville                    False       attack   \n",
       "...              ...             ...                      ...          ...   \n",
       "2020-05-05     White   Half Moon Bay                    False       attack   \n",
       "2020-05-26     White         Orlando                    False       attack   \n",
       "2020-05-29     Other  Temple Terrace                     True       attack   \n",
       "2020-06-03     White          Poteau                    False        other   \n",
       "2020-06-13     White         Sedalia                    False        other   \n",
       "\n",
       "                   flee  body_camera  arms_category  year     month  \n",
       "date                                                                 \n",
       "2015-01-06  Not fleeing         True        Unarmed  2015   January  \n",
       "2015-01-22  Not fleeing        False  Sharp objects  2015   January  \n",
       "2015-01-26  Not fleeing        False        Unknown  2015   January  \n",
       "2015-01-27  Not fleeing        False  Sharp objects  2015   January  \n",
       "2015-02-03          Car        False           Guns  2015  February  \n",
       "...                 ...          ...            ...   ...       ...  \n",
       "2020-05-05  Not fleeing        False           Guns  2020       May  \n",
       "2020-05-26  Not fleeing        False           Guns  2020       May  \n",
       "2020-05-29  Not fleeing        False  Sharp objects  2020       May  \n",
       "2020-06-03  Not fleeing        False  Sharp objects  2020      June  \n",
       "2020-06-13  Not fleeing        False        Unarmed  2020      June  \n",
       "\n",
       "[222 rows x 14 columns]"
      ]
     },
     "execution_count": 82,
     "metadata": {},
     "output_type": "execute_result"
    }
   ],
   "source": [
    "df_female"
   ]
  },
  {
   "cell_type": "code",
   "execution_count": 83,
   "metadata": {},
   "outputs": [
    {
     "data": {
      "text/plain": [
       "(array([   7.,  567., 1388., 1229.,  810.,  486.,  294.,   81.,   26.,\n",
       "           7.]),\n",
       " array([ 6. , 14.5, 23. , 31.5, 40. , 48.5, 57. , 65.5, 74. , 82.5, 91. ]),\n",
       " <a list of 10 Patch objects>)"
      ]
     },
     "execution_count": 83,
     "metadata": {},
     "output_type": "execute_result"
    },
    {
     "data": {
      "image/png": "[encoded data removed]",
      "text/plain": [
       "<Figure size 432x288 with 1 Axes>"
      ]
     },
     "metadata": {
      "needs_background": "light"
     },
     "output_type": "display_data"
    }
   ],
   "source": [
    "%matplotlib inline\n",
    "plt.hist(data[\"age\"])"
   ]
  },
  {
   "cell_type": "code",
   "execution_count": 84,
   "metadata": {},
   "outputs": [
    {
     "data": {
      "text/plain": [
       "(array([136.,   0.,  26.,   0.,  47.,   0.,   4.,   0.,   5.,   4.]),\n",
       " array([0. , 0.5, 1. , 1.5, 2. , 2.5, 3. , 3.5, 4. , 4.5, 5. ]),\n",
       " <a list of 10 Patch objects>)"
      ]
     },
     "execution_count": 84,
     "metadata": {},
     "output_type": "execute_result"
    },
    {
     "data": {
      "image/png": "[encoded data removed]",
      "text/plain": [
       "<Figure size 432x288 with 1 Axes>"
      ]
     },
     "metadata": {
      "needs_background": "light"
     },
     "output_type": "display_data"
    }
   ],
   "source": [
    "plt.hist(df_female[\"race\"])"
   ]
  },
  {
   "cell_type": "code",
   "execution_count": 85,
   "metadata": {},
   "outputs": [
    {
     "data": {
      "text/plain": [
       "2018    48\n",
       "2015    41\n",
       "2019    40\n",
       "2017    40\n",
       "2016    38\n",
       "2020    15\n",
       "Name: year, dtype: int64"
      ]
     },
     "execution_count": 85,
     "metadata": {},
     "output_type": "execute_result"
    }
   ],
   "source": [
    "df_female[\"year\"].value_counts()"
   ]
  },
  {
   "cell_type": "code",
   "execution_count": 86,
   "metadata": {},
   "outputs": [
    {
     "data": {
      "text/plain": [
       "(array([41.,  0., 38.,  0., 40.,  0., 48.,  0., 40., 15.]),\n",
       " array([2015. , 2015.5, 2016. , 2016.5, 2017. , 2017.5, 2018. , 2018.5,\n",
       "        2019. , 2019.5, 2020. ]),\n",
       " <a list of 10 Patch objects>)"
      ]
     },
     "execution_count": 86,
     "metadata": {},
     "output_type": "execute_result"
    },
    {
     "data": {
      "image/png": "[encoded data removed]",
      "text/plain": [
       "<Figure size 432x288 with 1 Axes>"
      ]
     },
     "metadata": {
      "needs_background": "light"
     },
     "output_type": "display_data"
    }
   ],
   "source": [
    "%matplotlib inline\n",
    "plt.hist(df_female[\"year\"])"
   ]
  },
  {
   "cell_type": "code",
   "execution_count": 87,
   "metadata": {},
   "outputs": [
    {
     "data": {
      "text/plain": [
       "August       6\n",
       "December     6\n",
       "March        6\n",
       "May          6\n",
       "October      5\n",
       "January      5\n",
       "July         4\n",
       "April        4\n",
       "June         3\n",
       "September    2\n",
       "February     1\n",
       "Name: month, dtype: int64"
      ]
     },
     "execution_count": 87,
     "metadata": {},
     "output_type": "execute_result"
    }
   ],
   "source": [
    "df_female[df_female[\"year\"]==2018][\"month\"].value_counts()"
   ]
  },
  {
   "cell_type": "markdown",
   "metadata": {},
   "source": [
    "More females were killed in 2018"
   ]
  },
  {
   "cell_type": "markdown",
   "metadata": {},
   "source": [
    "White females have been more subject to police shooting "
   ]
  },
  {
   "cell_type": "code",
   "execution_count": 88,
   "metadata": {},
   "outputs": [
    {
     "data": {
      "text/plain": [
       "(array([156.,   0.,   0.,  48.,   0.,   0.,  11.,   0.,   0.,   7.]),\n",
       " array([0. , 0.3, 0.6, 0.9, 1.2, 1.5, 1.8, 2.1, 2.4, 2.7, 3. ]),\n",
       " <a list of 10 Patch objects>)"
      ]
     },
     "execution_count": 88,
     "metadata": {},
     "output_type": "execute_result"
    },
    {
     "data": {
      "image/png": "[encoded data removed]",
      "text/plain": [
       "<Figure size 432x288 with 1 Axes>"
      ]
     },
     "metadata": {
      "needs_background": "light"
     },
     "output_type": "display_data"
    }
   ],
   "source": [
    "plt.hist(df_female[\"flee\"])"
   ]
  },
  {
   "cell_type": "code",
   "execution_count": 89,
   "metadata": {},
   "outputs": [
    {
     "data": {
      "text/plain": [
       "(array([ 85.,   0.,   0.,   0.,   0., 131.,   0.,   0.,   0.,   6.]),\n",
       " array([0. , 0.2, 0.4, 0.6, 0.8, 1. , 1.2, 1.4, 1.6, 1.8, 2. ]),\n",
       " <a list of 10 Patch objects>)"
      ]
     },
     "execution_count": 89,
     "metadata": {},
     "output_type": "execute_result"
    },
    {
     "data": {
      "image/png": "[encoded data removed]",
      "text/plain": [
       "<Figure size 432x288 with 1 Axes>"
      ]
     },
     "metadata": {
      "needs_background": "light"
     },
     "output_type": "display_data"
    }
   ],
   "source": [
    "plt.hist(df_female[\"threat_level\"])"
   ]
  },
  {
   "cell_type": "markdown",
   "metadata": {},
   "source": [
    "### YOUNG FEMALES"
   ]
  },
  {
   "cell_type": "code",
   "execution_count": 90,
   "metadata": {},
   "outputs": [],
   "source": [
    "df_femaleyoung=df_female[(df_female[\"age\"]>1)&(df_female[\"age\"]<20)]"
   ]
  },
  {
   "cell_type": "code",
   "execution_count": 91,
   "metadata": {},
   "outputs": [
    {
     "data": {
      "text/html": [
       "<div>\n",
       "<style scoped>\n",
       "    .dataframe tbody tr th:only-of-type {\n",
       "        vertical-align: middle;\n",
       "    }\n",
       "\n",
       "    .dataframe tbody tr th {\n",
       "        vertical-align: top;\n",
       "    }\n",
       "\n",
       "    .dataframe thead th {\n",
       "        text-align: right;\n",
       "    }\n",
       "</style>\n",
       "<table border=\"1\" class=\"dataframe\">\n",
       "  <thead>\n",
       "    <tr style=\"text-align: right;\">\n",
       "      <th></th>\n",
       "      <th>name</th>\n",
       "      <th>manner_of_death</th>\n",
       "      <th>armed</th>\n",
       "      <th>age</th>\n",
       "      <th>gender</th>\n",
       "      <th>race</th>\n",
       "      <th>city</th>\n",
       "      <th>signs_of_mental_illness</th>\n",
       "      <th>threat_level</th>\n",
       "      <th>flee</th>\n",
       "      <th>body_camera</th>\n",
       "      <th>arms_category</th>\n",
       "      <th>year</th>\n",
       "      <th>month</th>\n",
       "    </tr>\n",
       "    <tr>\n",
       "      <th>date</th>\n",
       "      <th></th>\n",
       "      <th></th>\n",
       "      <th></th>\n",
       "      <th></th>\n",
       "      <th></th>\n",
       "      <th></th>\n",
       "      <th></th>\n",
       "      <th></th>\n",
       "      <th></th>\n",
       "      <th></th>\n",
       "      <th></th>\n",
       "      <th></th>\n",
       "      <th></th>\n",
       "      <th></th>\n",
       "    </tr>\n",
       "  </thead>\n",
       "  <tbody>\n",
       "    <tr>\n",
       "      <th>2015-01-22</th>\n",
       "      <td>Kristiana Coignard</td>\n",
       "      <td>shot and Tasered</td>\n",
       "      <td>knife</td>\n",
       "      <td>17.0</td>\n",
       "      <td>F</td>\n",
       "      <td>White</td>\n",
       "      <td>Longview</td>\n",
       "      <td>True</td>\n",
       "      <td>other</td>\n",
       "      <td>Not fleeing</td>\n",
       "      <td>False</td>\n",
       "      <td>Sharp objects</td>\n",
       "      <td>2015</td>\n",
       "      <td>January</td>\n",
       "    </tr>\n",
       "    <tr>\n",
       "      <th>2015-01-26</th>\n",
       "      <td>Jessie Hernandez</td>\n",
       "      <td>shot</td>\n",
       "      <td>unknown</td>\n",
       "      <td>17.0</td>\n",
       "      <td>F</td>\n",
       "      <td>Hispanic</td>\n",
       "      <td>Denver</td>\n",
       "      <td>False</td>\n",
       "      <td>other</td>\n",
       "      <td>Not fleeing</td>\n",
       "      <td>False</td>\n",
       "      <td>Unknown</td>\n",
       "      <td>2015</td>\n",
       "      <td>January</td>\n",
       "    </tr>\n",
       "    <tr>\n",
       "      <th>2015-06-12</th>\n",
       "      <td>Shelly Haendiges</td>\n",
       "      <td>shot</td>\n",
       "      <td>toy weapon</td>\n",
       "      <td>17.0</td>\n",
       "      <td>F</td>\n",
       "      <td>White</td>\n",
       "      <td>Kokomo</td>\n",
       "      <td>True</td>\n",
       "      <td>attack</td>\n",
       "      <td>Not fleeing</td>\n",
       "      <td>False</td>\n",
       "      <td>Other unusual objects</td>\n",
       "      <td>2015</td>\n",
       "      <td>June</td>\n",
       "    </tr>\n",
       "    <tr>\n",
       "      <th>2016-01-11</th>\n",
       "      <td>Ciara Meyer</td>\n",
       "      <td>shot</td>\n",
       "      <td>unarmed</td>\n",
       "      <td>12.0</td>\n",
       "      <td>F</td>\n",
       "      <td>White</td>\n",
       "      <td>Penn Township</td>\n",
       "      <td>False</td>\n",
       "      <td>other</td>\n",
       "      <td>Not fleeing</td>\n",
       "      <td>False</td>\n",
       "      <td>Unarmed</td>\n",
       "      <td>2016</td>\n",
       "      <td>January</td>\n",
       "    </tr>\n",
       "    <tr>\n",
       "      <th>2017-02-10</th>\n",
       "      <td>Ambroshia Fagre</td>\n",
       "      <td>shot</td>\n",
       "      <td>unarmed</td>\n",
       "      <td>18.0</td>\n",
       "      <td>F</td>\n",
       "      <td>White</td>\n",
       "      <td>Vassalboro</td>\n",
       "      <td>False</td>\n",
       "      <td>other</td>\n",
       "      <td>Other</td>\n",
       "      <td>False</td>\n",
       "      <td>Unarmed</td>\n",
       "      <td>2017</td>\n",
       "      <td>February</td>\n",
       "    </tr>\n",
       "    <tr>\n",
       "      <th>2017-03-14</th>\n",
       "      <td>Elena \"Ebbie\" Mondragon</td>\n",
       "      <td>shot</td>\n",
       "      <td>unarmed</td>\n",
       "      <td>16.0</td>\n",
       "      <td>F</td>\n",
       "      <td>Hispanic</td>\n",
       "      <td>Hayward</td>\n",
       "      <td>False</td>\n",
       "      <td>other</td>\n",
       "      <td>Other</td>\n",
       "      <td>False</td>\n",
       "      <td>Unarmed</td>\n",
       "      <td>2017</td>\n",
       "      <td>March</td>\n",
       "    </tr>\n",
       "    <tr>\n",
       "      <th>2017-04-20</th>\n",
       "      <td>Sariah Marie Lane</td>\n",
       "      <td>shot</td>\n",
       "      <td>unarmed</td>\n",
       "      <td>17.0</td>\n",
       "      <td>F</td>\n",
       "      <td>White</td>\n",
       "      <td>Glendale</td>\n",
       "      <td>False</td>\n",
       "      <td>other</td>\n",
       "      <td>Car</td>\n",
       "      <td>False</td>\n",
       "      <td>Unarmed</td>\n",
       "      <td>2017</td>\n",
       "      <td>April</td>\n",
       "    </tr>\n",
       "    <tr>\n",
       "      <th>2019-07-05</th>\n",
       "      <td>Hannah Williams</td>\n",
       "      <td>shot</td>\n",
       "      <td>toy weapon</td>\n",
       "      <td>17.0</td>\n",
       "      <td>F</td>\n",
       "      <td>White</td>\n",
       "      <td>Anaheim</td>\n",
       "      <td>True</td>\n",
       "      <td>attack</td>\n",
       "      <td>Not fleeing</td>\n",
       "      <td>True</td>\n",
       "      <td>Other unusual objects</td>\n",
       "      <td>2019</td>\n",
       "      <td>July</td>\n",
       "    </tr>\n",
       "  </tbody>\n",
       "</table>\n",
       "</div>"
      ],
      "text/plain": [
       "                               name   manner_of_death       armed   age  \\\n",
       "date                                                                      \n",
       "2015-01-22       Kristiana Coignard  shot and Tasered       knife  17.0   \n",
       "2015-01-26         Jessie Hernandez              shot     unknown  17.0   \n",
       "2015-06-12         Shelly Haendiges              shot  toy weapon  17.0   \n",
       "2016-01-11              Ciara Meyer              shot     unarmed  12.0   \n",
       "2017-02-10          Ambroshia Fagre              shot     unarmed  18.0   \n",
       "2017-03-14  Elena \"Ebbie\" Mondragon              shot     unarmed  16.0   \n",
       "2017-04-20        Sariah Marie Lane              shot     unarmed  17.0   \n",
       "2019-07-05          Hannah Williams              shot  toy weapon  17.0   \n",
       "\n",
       "           gender      race           city  signs_of_mental_illness  \\\n",
       "date                                                                  \n",
       "2015-01-22      F     White       Longview                     True   \n",
       "2015-01-26      F  Hispanic         Denver                    False   \n",
       "2015-06-12      F     White         Kokomo                     True   \n",
       "2016-01-11      F     White  Penn Township                    False   \n",
       "2017-02-10      F     White     Vassalboro                    False   \n",
       "2017-03-14      F  Hispanic        Hayward                    False   \n",
       "2017-04-20      F     White       Glendale                    False   \n",
       "2019-07-05      F     White        Anaheim                     True   \n",
       "\n",
       "           threat_level         flee  body_camera          arms_category  \\\n",
       "date                                                                       \n",
       "2015-01-22        other  Not fleeing        False          Sharp objects   \n",
       "2015-01-26        other  Not fleeing        False                Unknown   \n",
       "2015-06-12       attack  Not fleeing        False  Other unusual objects   \n",
       "2016-01-11        other  Not fleeing        False                Unarmed   \n",
       "2017-02-10        other        Other        False                Unarmed   \n",
       "2017-03-14        other        Other        False                Unarmed   \n",
       "2017-04-20        other          Car        False                Unarmed   \n",
       "2019-07-05       attack  Not fleeing         True  Other unusual objects   \n",
       "\n",
       "            year     month  \n",
       "date                        \n",
       "2015-01-22  2015   January  \n",
       "2015-01-26  2015   January  \n",
       "2015-06-12  2015      June  \n",
       "2016-01-11  2016   January  \n",
       "2017-02-10  2017  February  \n",
       "2017-03-14  2017     March  \n",
       "2017-04-20  2017     April  \n",
       "2019-07-05  2019      July  "
      ]
     },
     "execution_count": 91,
     "metadata": {},
     "output_type": "execute_result"
    }
   ],
   "source": [
    "df_femaleyoung"
   ]
  },
  {
   "cell_type": "code",
   "execution_count": 92,
   "metadata": {},
   "outputs": [
    {
     "data": {
      "text/plain": [
       "(array([3., 0., 1., 0., 0., 3., 0., 0., 0., 1.]),\n",
       " array([2015. , 2015.4, 2015.8, 2016.2, 2016.6, 2017. , 2017.4, 2017.8,\n",
       "        2018.2, 2018.6, 2019. ]),\n",
       " <a list of 10 Patch objects>)"
      ]
     },
     "execution_count": 92,
     "metadata": {},
     "output_type": "execute_result"
    },
    {
     "data": {
      "image/png": "[encoded data removed]",
      "text/plain": [
       "<Figure size 432x288 with 1 Axes>"
      ]
     },
     "metadata": {
      "needs_background": "light"
     },
     "output_type": "display_data"
    }
   ],
   "source": [
    "plt.hist(df_femaleyoung[\"year\"])"
   ]
  },
  {
   "cell_type": "code",
   "execution_count": 93,
   "metadata": {},
   "outputs": [
    {
     "data": {
      "text/plain": [
       "(array([6., 0., 0., 0., 0., 0., 0., 0., 0., 2.]),\n",
       " array([0. , 0.1, 0.2, 0.3, 0.4, 0.5, 0.6, 0.7, 0.8, 0.9, 1. ]),\n",
       " <a list of 10 Patch objects>)"
      ]
     },
     "execution_count": 93,
     "metadata": {},
     "output_type": "execute_result"
    },
    {
     "data": {
      "image/png": "[encoded data removed]",
      "text/plain": [
       "<Figure size 432x288 with 1 Axes>"
      ]
     },
     "metadata": {
      "needs_background": "light"
     },
     "output_type": "display_data"
    }
   ],
   "source": [
    "plt.hist(df_femaleyoung[\"race\"])"
   ]
  },
  {
   "cell_type": "code",
   "execution_count": 94,
   "metadata": {},
   "outputs": [
    {
     "data": {
      "text/plain": [
       "(array([6., 0., 0., 0., 0., 0., 0., 0., 0., 2.]),\n",
       " array([0. , 0.1, 0.2, 0.3, 0.4, 0.5, 0.6, 0.7, 0.8, 0.9, 1. ]),\n",
       " <a list of 10 Patch objects>)"
      ]
     },
     "execution_count": 94,
     "metadata": {},
     "output_type": "execute_result"
    },
    {
     "data": {
      "image/png": "[encoded data removed]",
      "text/plain": [
       "<Figure size 432x288 with 1 Axes>"
      ]
     },
     "metadata": {
      "needs_background": "light"
     },
     "output_type": "display_data"
    }
   ],
   "source": [
    "plt.hist(df_femaleyoung[\"threat_level\"])"
   ]
  },
  {
   "cell_type": "code",
   "execution_count": 95,
   "metadata": {},
   "outputs": [
    {
     "data": {
      "text/plain": [
       "(array([5., 0., 0., 0., 0., 2., 0., 0., 0., 1.]),\n",
       " array([0. , 0.2, 0.4, 0.6, 0.8, 1. , 1.2, 1.4, 1.6, 1.8, 2. ]),\n",
       " <a list of 10 Patch objects>)"
      ]
     },
     "execution_count": 95,
     "metadata": {},
     "output_type": "execute_result"
    },
    {
     "data": {
      "image/png": "[encoded data removed]",
      "text/plain": [
       "<Figure size 432x288 with 1 Axes>"
      ]
     },
     "metadata": {
      "needs_background": "light"
     },
     "output_type": "display_data"
    }
   ],
   "source": [
    "plt.hist(df_femaleyoung[\"flee\"])"
   ]
  },
  {
   "cell_type": "code",
   "execution_count": 96,
   "metadata": {},
   "outputs": [
    {
     "data": {
      "text/plain": [
       "(array([1., 0., 0., 1., 0., 0., 2., 0., 0., 4.]),\n",
       " array([0. , 0.3, 0.6, 0.9, 1.2, 1.5, 1.8, 2.1, 2.4, 2.7, 3. ]),\n",
       " <a list of 10 Patch objects>)"
      ]
     },
     "execution_count": 96,
     "metadata": {},
     "output_type": "execute_result"
    },
    {
     "data": {
      "image/png": "[encoded data removed]",
      "text/plain": [
       "<Figure size 432x288 with 1 Axes>"
      ]
     },
     "metadata": {
      "needs_background": "light"
     },
     "output_type": "display_data"
    }
   ],
   "source": [
    "plt.hist(df_femaleyoung[\"arms_category\"])"
   ]
  },
  {
   "cell_type": "code",
   "execution_count": 97,
   "metadata": {},
   "outputs": [
    {
     "data": {
      "text/plain": [
       "(array([3., 0., 1., 0., 1., 0., 1., 0., 1., 1.]),\n",
       " array([0. , 0.5, 1. , 1.5, 2. , 2.5, 3. , 3.5, 4. , 4.5, 5. ]),\n",
       " <a list of 10 Patch objects>)"
      ]
     },
     "execution_count": 97,
     "metadata": {},
     "output_type": "execute_result"
    },
    {
     "data": {
      "image/png": "[encoded data removed]",
      "text/plain": [
       "<Figure size 432x288 with 1 Axes>"
      ]
     },
     "metadata": {
      "needs_background": "light"
     },
     "output_type": "display_data"
    }
   ],
   "source": [
    "plt.hist(df_femaleyoung[\"month\"])"
   ]
  },
  {
   "cell_type": "markdown",
   "metadata": {},
   "source": [
    "Most of the young female killings happened in January\n",
    "<ol>\n",
    "    <li>Most of them were unarmed\n",
    "        <li>Most of them were shot in cold blood(they were not fleeing)\n",
    "            <li>Most of them were not on the defensive(they did not attack the police)\n",
    "                <li>Most of them were white"
   ]
  },
  {
   "cell_type": "markdown",
   "metadata": {},
   "source": [
    "### BLACKS AND WHITES IN TERMS OF VIOLENCE"
   ]
  },
  {
   "cell_type": "code",
   "execution_count": 98,
   "metadata": {},
   "outputs": [],
   "source": [
    "blackorwhite=data[(data[\"race\"]==\"White\")|(data[\"race\"]==\"Black\")]"
   ]
  },
  {
   "cell_type": "code",
   "execution_count": 99,
   "metadata": {},
   "outputs": [
    {
     "data": {
      "text/plain": [
       "White    2476\n",
       "Black    1298\n",
       "Name: race, dtype: int64"
      ]
     },
     "execution_count": 99,
     "metadata": {},
     "output_type": "execute_result"
    }
   ],
   "source": [
    "blackorwhite[\"race\"].value_counts()"
   ]
  },
  {
   "cell_type": "code",
   "execution_count": 100,
   "metadata": {},
   "outputs": [
    {
     "data": {
      "text/plain": [
       "attack          1640\n",
       "other            743\n",
       "undetermined      93\n",
       "Name: threat_level, dtype: int64"
      ]
     },
     "execution_count": 100,
     "metadata": {},
     "output_type": "execute_result"
    }
   ],
   "source": [
    "blackorwhite[blackorwhite[\"race\"]==\"White\"][\"threat_level\"].value_counts()"
   ]
  },
  {
   "cell_type": "markdown",
   "metadata": {},
   "source": [
    "66.23% of the white gender attacked the police"
   ]
  },
  {
   "cell_type": "code",
   "execution_count": 101,
   "metadata": {},
   "outputs": [
    {
     "data": {
      "text/plain": [
       "attack          873\n",
       "other           364\n",
       "undetermined     61\n",
       "Name: threat_level, dtype: int64"
      ]
     },
     "execution_count": 101,
     "metadata": {},
     "output_type": "execute_result"
    }
   ],
   "source": [
    "blackorwhite[blackorwhite[\"race\"]==\"Black\"][\"threat_level\"].value_counts()"
   ]
  },
  {
   "cell_type": "markdown",
   "metadata": {},
   "source": [
    "67.3% of the black gender attacked the police"
   ]
  },
  {
   "cell_type": "code",
   "execution_count": 102,
   "metadata": {},
   "outputs": [
    {
     "data": {
      "text/plain": [
       "Not fleeing    1657\n",
       "Car             418\n",
       "Foot            231\n",
       "Other           170\n",
       "Name: flee, dtype: int64"
      ]
     },
     "execution_count": 102,
     "metadata": {},
     "output_type": "execute_result"
    }
   ],
   "source": [
    "blackorwhite[blackorwhite[\"race\"]==\"White\"][\"flee\"].value_counts()"
   ]
  },
  {
   "cell_type": "code",
   "execution_count": 103,
   "metadata": {},
   "outputs": [
    {
     "data": {
      "text/plain": [
       "Not fleeing    734\n",
       "Foot           255\n",
       "Car            218\n",
       "Other           91\n",
       "Name: flee, dtype: int64"
      ]
     },
     "execution_count": 103,
     "metadata": {},
     "output_type": "execute_result"
    }
   ],
   "source": [
    "blackorwhite[blackorwhite[\"race\"]==\"Black\"][\"flee\"].value_counts()"
   ]
  },
  {
   "cell_type": "markdown",
   "metadata": {},
   "source": [
    "66.9% of the white gender were not fleeing while 56.5% of the black gender were not fleeing"
   ]
  },
  {
   "cell_type": "code",
   "execution_count": 104,
   "metadata": {},
   "outputs": [
    {
     "data": {
      "text/plain": [
       "gun                    1451\n",
       "knife                   349\n",
       "unknown                 200\n",
       "unarmed                 146\n",
       "toy weapon               99\n",
       "                       ... \n",
       "car, knife and mace       1\n",
       "baton                     1\n",
       "glass shard               1\n",
       "wasp spray                1\n",
       "BB gun and vehicle        1\n",
       "Name: armed, Length: 67, dtype: int64"
      ]
     },
     "execution_count": 104,
     "metadata": {},
     "output_type": "execute_result"
    }
   ],
   "source": [
    "blackorwhite[blackorwhite[\"race\"]==\"White\"][\"armed\"].value_counts()"
   ]
  },
  {
   "cell_type": "markdown",
   "metadata": {},
   "source": [
    "58.6% of whites were armed"
   ]
  },
  {
   "cell_type": "code",
   "execution_count": 105,
   "metadata": {},
   "outputs": [
    {
     "data": {
      "text/plain": [
       "gun                    762\n",
       "knife                  145\n",
       "unarmed                123\n",
       "unknown                108\n",
       "vehicle                 42\n",
       "toy weapon              37\n",
       "machete                 11\n",
       "Taser                    9\n",
       "baseball bat             5\n",
       "screwdriver              4\n",
       "sword                    4\n",
       "gun and car              3\n",
       "gun and knife            3\n",
       "meat cleaver             3\n",
       "box cutter               3\n",
       "rock                     3\n",
       "baton                    3\n",
       "chair                    2\n",
       "BB gun                   2\n",
       "pole                     2\n",
       "chain                    2\n",
       "pellet gun               2\n",
       "metal pipe               2\n",
       "guns and explosives      2\n",
       "sharp object             2\n",
       "hammer                   1\n",
       "pepper spray             1\n",
       "vehicle and machete      1\n",
       "metal hand tool          1\n",
       "vehicle and gun          1\n",
       "flagpole                 1\n",
       "crowbar                  1\n",
       "lawn mower blade         1\n",
       "ax                       1\n",
       "piece of wood            1\n",
       "motorcycle               1\n",
       "straight edge razor      1\n",
       "gun and vehicle          1\n",
       "hatchet                  1\n",
       "Name: armed, dtype: int64"
      ]
     },
     "execution_count": 105,
     "metadata": {},
     "output_type": "execute_result"
    }
   ],
   "source": [
    "blackorwhite[blackorwhite[\"race\"]==\"Black\"][\"armed\"].value_counts()"
   ]
  },
  {
   "cell_type": "markdown",
   "metadata": {},
   "source": [
    "58.7% of the blacks were armed"
   ]
  },
  {
   "cell_type": "markdown",
   "metadata": {},
   "source": [
    "From this analysis, we see that whites were more police friendly than blacks because more blacks were armed with guns, more blacks attacked the police"
   ]
  },
  {
   "cell_type": "code",
   "execution_count": 106,
   "metadata": {},
   "outputs": [
    {
     "data": {
      "text/html": [
       "<div>\n",
       "<style scoped>\n",
       "    .dataframe tbody tr th:only-of-type {\n",
       "        vertical-align: middle;\n",
       "    }\n",
       "\n",
       "    .dataframe tbody tr th {\n",
       "        vertical-align: top;\n",
       "    }\n",
       "\n",
       "    .dataframe thead th {\n",
       "        text-align: right;\n",
       "    }\n",
       "</style>\n",
       "<table border=\"1\" class=\"dataframe\">\n",
       "  <thead>\n",
       "    <tr style=\"text-align: right;\">\n",
       "      <th></th>\n",
       "      <th>name</th>\n",
       "      <th>manner_of_death</th>\n",
       "      <th>armed</th>\n",
       "      <th>age</th>\n",
       "      <th>gender</th>\n",
       "      <th>race</th>\n",
       "      <th>city</th>\n",
       "      <th>signs_of_mental_illness</th>\n",
       "      <th>threat_level</th>\n",
       "      <th>flee</th>\n",
       "      <th>body_camera</th>\n",
       "      <th>arms_category</th>\n",
       "      <th>year</th>\n",
       "      <th>month</th>\n",
       "    </tr>\n",
       "    <tr>\n",
       "      <th>date</th>\n",
       "      <th></th>\n",
       "      <th></th>\n",
       "      <th></th>\n",
       "      <th></th>\n",
       "      <th></th>\n",
       "      <th></th>\n",
       "      <th></th>\n",
       "      <th></th>\n",
       "      <th></th>\n",
       "      <th></th>\n",
       "      <th></th>\n",
       "      <th></th>\n",
       "      <th></th>\n",
       "      <th></th>\n",
       "    </tr>\n",
       "  </thead>\n",
       "  <tbody>\n",
       "    <tr>\n",
       "      <th>2015-01-06</th>\n",
       "      <td>Leslie Sapp III</td>\n",
       "      <td>shot</td>\n",
       "      <td>toy weapon</td>\n",
       "      <td>47.0</td>\n",
       "      <td>M</td>\n",
       "      <td>Black</td>\n",
       "      <td>Knoxville</td>\n",
       "      <td>False</td>\n",
       "      <td>attack</td>\n",
       "      <td>Not fleeing</td>\n",
       "      <td>False</td>\n",
       "      <td>Other unusual objects</td>\n",
       "      <td>2015</td>\n",
       "      <td>January</td>\n",
       "    </tr>\n",
       "    <tr>\n",
       "      <th>2015-01-07</th>\n",
       "      <td>Ron Sneed</td>\n",
       "      <td>shot</td>\n",
       "      <td>gun</td>\n",
       "      <td>31.0</td>\n",
       "      <td>M</td>\n",
       "      <td>Black</td>\n",
       "      <td>Freeport</td>\n",
       "      <td>False</td>\n",
       "      <td>attack</td>\n",
       "      <td>Not fleeing</td>\n",
       "      <td>False</td>\n",
       "      <td>Guns</td>\n",
       "      <td>2015</td>\n",
       "      <td>January</td>\n",
       "    </tr>\n",
       "    <tr>\n",
       "      <th>2015-01-07</th>\n",
       "      <td>Hashim Hanif Ibn Abdul-Rasheed</td>\n",
       "      <td>shot</td>\n",
       "      <td>knife</td>\n",
       "      <td>41.0</td>\n",
       "      <td>M</td>\n",
       "      <td>Black</td>\n",
       "      <td>Columbus</td>\n",
       "      <td>True</td>\n",
       "      <td>other</td>\n",
       "      <td>Not fleeing</td>\n",
       "      <td>False</td>\n",
       "      <td>Sharp objects</td>\n",
       "      <td>2015</td>\n",
       "      <td>January</td>\n",
       "    </tr>\n",
       "    <tr>\n",
       "      <th>2015-01-07</th>\n",
       "      <td>Omarr Julian Maximillian Jackson</td>\n",
       "      <td>shot</td>\n",
       "      <td>gun</td>\n",
       "      <td>37.0</td>\n",
       "      <td>M</td>\n",
       "      <td>Black</td>\n",
       "      <td>New Orleans</td>\n",
       "      <td>False</td>\n",
       "      <td>attack</td>\n",
       "      <td>Foot</td>\n",
       "      <td>True</td>\n",
       "      <td>Guns</td>\n",
       "      <td>2015</td>\n",
       "      <td>January</td>\n",
       "    </tr>\n",
       "    <tr>\n",
       "      <th>2015-01-08</th>\n",
       "      <td>Artago Damon Howard</td>\n",
       "      <td>shot</td>\n",
       "      <td>unarmed</td>\n",
       "      <td>36.0</td>\n",
       "      <td>M</td>\n",
       "      <td>Black</td>\n",
       "      <td>Strong</td>\n",
       "      <td>False</td>\n",
       "      <td>attack</td>\n",
       "      <td>Not fleeing</td>\n",
       "      <td>False</td>\n",
       "      <td>Unarmed</td>\n",
       "      <td>2015</td>\n",
       "      <td>January</td>\n",
       "    </tr>\n",
       "    <tr>\n",
       "      <th>...</th>\n",
       "      <td>...</td>\n",
       "      <td>...</td>\n",
       "      <td>...</td>\n",
       "      <td>...</td>\n",
       "      <td>...</td>\n",
       "      <td>...</td>\n",
       "      <td>...</td>\n",
       "      <td>...</td>\n",
       "      <td>...</td>\n",
       "      <td>...</td>\n",
       "      <td>...</td>\n",
       "      <td>...</td>\n",
       "      <td>...</td>\n",
       "      <td>...</td>\n",
       "    </tr>\n",
       "    <tr>\n",
       "      <th>2020-06-06</th>\n",
       "      <td>Kamal Flowers</td>\n",
       "      <td>shot</td>\n",
       "      <td>gun</td>\n",
       "      <td>24.0</td>\n",
       "      <td>M</td>\n",
       "      <td>Black</td>\n",
       "      <td>New Rochelle</td>\n",
       "      <td>False</td>\n",
       "      <td>attack</td>\n",
       "      <td>Foot</td>\n",
       "      <td>False</td>\n",
       "      <td>Guns</td>\n",
       "      <td>2020</td>\n",
       "      <td>June</td>\n",
       "    </tr>\n",
       "    <tr>\n",
       "      <th>2020-06-09</th>\n",
       "      <td>Lewis Ruffin</td>\n",
       "      <td>shot</td>\n",
       "      <td>gun</td>\n",
       "      <td>38.0</td>\n",
       "      <td>M</td>\n",
       "      <td>Black</td>\n",
       "      <td>Orlando</td>\n",
       "      <td>False</td>\n",
       "      <td>attack</td>\n",
       "      <td>Other</td>\n",
       "      <td>False</td>\n",
       "      <td>Guns</td>\n",
       "      <td>2020</td>\n",
       "      <td>June</td>\n",
       "    </tr>\n",
       "    <tr>\n",
       "      <th>2020-06-11</th>\n",
       "      <td>Michael Thomas</td>\n",
       "      <td>shot</td>\n",
       "      <td>unknown</td>\n",
       "      <td>62.0</td>\n",
       "      <td>M</td>\n",
       "      <td>Black</td>\n",
       "      <td>Lancaster</td>\n",
       "      <td>False</td>\n",
       "      <td>undetermined</td>\n",
       "      <td>Not fleeing</td>\n",
       "      <td>False</td>\n",
       "      <td>Unknown</td>\n",
       "      <td>2020</td>\n",
       "      <td>June</td>\n",
       "    </tr>\n",
       "    <tr>\n",
       "      <th>2020-06-12</th>\n",
       "      <td>Rayshard Brooks</td>\n",
       "      <td>shot</td>\n",
       "      <td>Taser</td>\n",
       "      <td>27.0</td>\n",
       "      <td>M</td>\n",
       "      <td>Black</td>\n",
       "      <td>Atlanta</td>\n",
       "      <td>False</td>\n",
       "      <td>attack</td>\n",
       "      <td>Foot</td>\n",
       "      <td>True</td>\n",
       "      <td>Electrical devices</td>\n",
       "      <td>2020</td>\n",
       "      <td>June</td>\n",
       "    </tr>\n",
       "    <tr>\n",
       "      <th>2020-06-12</th>\n",
       "      <td>Caine Van Pelt</td>\n",
       "      <td>shot</td>\n",
       "      <td>gun</td>\n",
       "      <td>23.0</td>\n",
       "      <td>M</td>\n",
       "      <td>Black</td>\n",
       "      <td>Crown Point</td>\n",
       "      <td>False</td>\n",
       "      <td>attack</td>\n",
       "      <td>Car</td>\n",
       "      <td>False</td>\n",
       "      <td>Guns</td>\n",
       "      <td>2020</td>\n",
       "      <td>June</td>\n",
       "    </tr>\n",
       "  </tbody>\n",
       "</table>\n",
       "<p>1298 rows × 14 columns</p>\n",
       "</div>"
      ],
      "text/plain": [
       "                                        name manner_of_death       armed  \\\n",
       "date                                                                       \n",
       "2015-01-06                   Leslie Sapp III            shot  toy weapon   \n",
       "2015-01-07                         Ron Sneed            shot         gun   \n",
       "2015-01-07    Hashim Hanif Ibn Abdul-Rasheed            shot       knife   \n",
       "2015-01-07  Omarr Julian Maximillian Jackson            shot         gun   \n",
       "2015-01-08               Artago Damon Howard            shot     unarmed   \n",
       "...                                      ...             ...         ...   \n",
       "2020-06-06                     Kamal Flowers            shot         gun   \n",
       "2020-06-09                      Lewis Ruffin            shot         gun   \n",
       "2020-06-11                    Michael Thomas            shot     unknown   \n",
       "2020-06-12                   Rayshard Brooks            shot       Taser   \n",
       "2020-06-12                    Caine Van Pelt            shot         gun   \n",
       "\n",
       "             age gender   race          city  signs_of_mental_illness  \\\n",
       "date                                                                    \n",
       "2015-01-06  47.0      M  Black     Knoxville                    False   \n",
       "2015-01-07  31.0      M  Black      Freeport                    False   \n",
       "2015-01-07  41.0      M  Black      Columbus                     True   \n",
       "2015-01-07  37.0      M  Black   New Orleans                    False   \n",
       "2015-01-08  36.0      M  Black        Strong                    False   \n",
       "...          ...    ...    ...           ...                      ...   \n",
       "2020-06-06  24.0      M  Black  New Rochelle                    False   \n",
       "2020-06-09  38.0      M  Black       Orlando                    False   \n",
       "2020-06-11  62.0      M  Black     Lancaster                    False   \n",
       "2020-06-12  27.0      M  Black       Atlanta                    False   \n",
       "2020-06-12  23.0      M  Black   Crown Point                    False   \n",
       "\n",
       "            threat_level         flee  body_camera          arms_category  \\\n",
       "date                                                                        \n",
       "2015-01-06        attack  Not fleeing        False  Other unusual objects   \n",
       "2015-01-07        attack  Not fleeing        False                   Guns   \n",
       "2015-01-07         other  Not fleeing        False          Sharp objects   \n",
       "2015-01-07        attack         Foot         True                   Guns   \n",
       "2015-01-08        attack  Not fleeing        False                Unarmed   \n",
       "...                  ...          ...          ...                    ...   \n",
       "2020-06-06        attack         Foot        False                   Guns   \n",
       "2020-06-09        attack        Other        False                   Guns   \n",
       "2020-06-11  undetermined  Not fleeing        False                Unknown   \n",
       "2020-06-12        attack         Foot         True     Electrical devices   \n",
       "2020-06-12        attack          Car        False                   Guns   \n",
       "\n",
       "            year    month  \n",
       "date                       \n",
       "2015-01-06  2015  January  \n",
       "2015-01-07  2015  January  \n",
       "2015-01-07  2015  January  \n",
       "2015-01-07  2015  January  \n",
       "2015-01-08  2015  January  \n",
       "...          ...      ...  \n",
       "2020-06-06  2020     June  \n",
       "2020-06-09  2020     June  \n",
       "2020-06-11  2020     June  \n",
       "2020-06-12  2020     June  \n",
       "2020-06-12  2020     June  \n",
       "\n",
       "[1298 rows x 14 columns]"
      ]
     },
     "execution_count": 106,
     "metadata": {},
     "output_type": "execute_result"
    }
   ],
   "source": [
    "blackorwhite[blackorwhite[\"race\"]==\"Black\"]"
   ]
  },
  {
   "cell_type": "markdown",
   "metadata": {},
   "source": [
    "<br><b>THANK YOU FOR VIEWING MY WORK "
   ]
  }
 ],
 "metadata": {
  "kernelspec": {
   "display_name": "Python 3",
   "language": "python",
   "name": "python3"
  },
  "language_info": {
   "codemirror_mode": {
    "name": "ipython",
    "version": 3
   },
   "file_extension": ".py",
   "mimetype": "text/x-python",
   "name": "python",
   "nbconvert_exporter": "python",
   "pygments_lexer": "ipython3",
   "version": "3.7.6"
  }
 },
 "nbformat": 4,
 "nbformat_minor": 4
}
